{
 "cells": [
  {
   "cell_type": "code",
   "execution_count": 1,
   "id": "0dc9c6e7",
   "metadata": {},
   "outputs": [
    {
     "ename": "ModuleNotFoundError",
     "evalue": "No module named 'dontknow'",
     "output_type": "error",
     "traceback": [
      "\u001b[0;31m---------------------------------------------------------------------------\u001b[0m",
      "\u001b[0;31mModuleNotFoundError\u001b[0m                       Traceback (most recent call last)",
      "\u001b[0;32m<ipython-input-1-bcd87af70373>\u001b[0m in \u001b[0;36m<module>\u001b[0;34m\u001b[0m\n\u001b[0;32m----> 1\u001b[0;31m \u001b[0;32mimport\u001b[0m \u001b[0mdontknow\u001b[0m\u001b[0;34m\u001b[0m\u001b[0;34m\u001b[0m\u001b[0m\n\u001b[0m",
      "\u001b[0;31mModuleNotFoundError\u001b[0m: No module named 'dontknow'"
     ]
    }
   ],
   "source": [
    "import dontknow"
   ]
  },
  {
   "cell_type": "code",
   "execution_count": 2,
   "id": "cb61524b",
   "metadata": {},
   "outputs": [
    {
     "ename": "NameError",
     "evalue": "name 'a' is not defined",
     "output_type": "error",
     "traceback": [
      "\u001b[0;31m---------------------------------------------------------------------------\u001b[0m",
      "\u001b[0;31mNameError\u001b[0m                                 Traceback (most recent call last)",
      "\u001b[0;32m<ipython-input-2-bca0e2660b9f>\u001b[0m in \u001b[0;36m<module>\u001b[0;34m\u001b[0m\n\u001b[0;32m----> 1\u001b[0;31m \u001b[0mprint\u001b[0m\u001b[0;34m(\u001b[0m\u001b[0ma\u001b[0m\u001b[0;34m)\u001b[0m\u001b[0;34m\u001b[0m\u001b[0;34m\u001b[0m\u001b[0m\n\u001b[0m",
      "\u001b[0;31mNameError\u001b[0m: name 'a' is not defined"
     ]
    }
   ],
   "source": [
    "print(a)"
   ]
  },
  {
   "cell_type": "code",
   "execution_count": 3,
   "id": "98fbe710",
   "metadata": {},
   "outputs": [
    {
     "ename": "AttributeError",
     "evalue": "'str' object has no attribute 'sort'",
     "output_type": "error",
     "traceback": [
      "\u001b[0;31m---------------------------------------------------------------------------\u001b[0m",
      "\u001b[0;31mAttributeError\u001b[0m                            Traceback (most recent call last)",
      "\u001b[0;32m<ipython-input-3-aa7f1e7d8abe>\u001b[0m in \u001b[0;36m<module>\u001b[0;34m\u001b[0m\n\u001b[0;32m----> 1\u001b[0;31m \u001b[0;34m\"Data Science\"\u001b[0m\u001b[0;34m.\u001b[0m\u001b[0msort\u001b[0m\u001b[0;34m(\u001b[0m\u001b[0;34m)\u001b[0m\u001b[0;34m\u001b[0m\u001b[0;34m\u001b[0m\u001b[0m\n\u001b[0m",
      "\u001b[0;31mAttributeError\u001b[0m: 'str' object has no attribute 'sort'"
     ]
    }
   ],
   "source": [
    "\"Data Science\".sort()"
   ]
  },
  {
   "cell_type": "code",
   "execution_count": 6,
   "id": "3cd6f6e5",
   "metadata": {},
   "outputs": [],
   "source": [
    "if 5>2:\n",
    "    pass"
   ]
  },
  {
   "cell_type": "code",
   "execution_count": 7,
   "id": "1e33159a",
   "metadata": {},
   "outputs": [
    {
     "name": "stdout",
     "output_type": "stream",
     "text": [
      "hello\n"
     ]
    },
    {
     "ename": "NameError",
     "evalue": "name 'ajsfdioas' is not defined",
     "output_type": "error",
     "traceback": [
      "\u001b[0;31m---------------------------------------------------------------------------\u001b[0m",
      "\u001b[0;31mNameError\u001b[0m                                 Traceback (most recent call last)",
      "\u001b[0;32m<ipython-input-7-4d92fbc80373>\u001b[0m in \u001b[0;36m<module>\u001b[0;34m\u001b[0m\n\u001b[1;32m      1\u001b[0m \u001b[0mprint\u001b[0m\u001b[0;34m(\u001b[0m\u001b[0;34m\"hello\"\u001b[0m\u001b[0;34m)\u001b[0m\u001b[0;34m\u001b[0m\u001b[0;34m\u001b[0m\u001b[0m\n\u001b[1;32m      2\u001b[0m \u001b[0;34m\u001b[0m\u001b[0m\n\u001b[0;32m----> 3\u001b[0;31m \u001b[0majsfdioas\u001b[0m\u001b[0;34m\u001b[0m\u001b[0;34m\u001b[0m\u001b[0m\n\u001b[0m\u001b[1;32m      4\u001b[0m \u001b[0mnas\u001b[0m\u001b[0;34m\u001b[0m\u001b[0;34m\u001b[0m\u001b[0m\n\u001b[1;32m      5\u001b[0m \u001b[0mdnfjas\u001b[0m\u001b[0;34m\u001b[0m\u001b[0;34m\u001b[0m\u001b[0m\n",
      "\u001b[0;31mNameError\u001b[0m: name 'ajsfdioas' is not defined"
     ]
    }
   ],
   "source": [
    "print(\"hello\")\n",
    "\n",
    "ajsfdioas\n",
    "nas\n",
    "dnfjas\n",
    "\n",
    "\n",
    "print(\"1000 lines of code\")"
   ]
  },
  {
   "cell_type": "code",
   "execution_count": 8,
   "id": "9bef0641",
   "metadata": {},
   "outputs": [
    {
     "ename": "ZeroDivisionError",
     "evalue": "integer division or modulo by zero",
     "output_type": "error",
     "traceback": [
      "\u001b[0;31m---------------------------------------------------------------------------\u001b[0m",
      "\u001b[0;31mZeroDivisionError\u001b[0m                         Traceback (most recent call last)",
      "\u001b[0;32m<ipython-input-8-83598ca529be>\u001b[0m in \u001b[0;36m<module>\u001b[0;34m\u001b[0m\n\u001b[0;32m----> 1\u001b[0;31m \u001b[0;36m5\u001b[0m\u001b[0;34m//\u001b[0m\u001b[0;36m0\u001b[0m\u001b[0;34m\u001b[0m\u001b[0;34m\u001b[0m\u001b[0m\n\u001b[0m",
      "\u001b[0;31mZeroDivisionError\u001b[0m: integer division or modulo by zero"
     ]
    }
   ],
   "source": [
    "5//0"
   ]
  },
  {
   "cell_type": "markdown",
   "id": "b9eb149e",
   "metadata": {},
   "source": [
    "Go to this link for Heirarchy Graph: https://docs.python.org/3/library/exceptions.html"
   ]
  },
  {
   "cell_type": "code",
   "execution_count": null,
   "id": "9a49d9a0",
   "metadata": {},
   "outputs": [],
   "source": []
  },
  {
   "cell_type": "markdown",
   "id": "a268a8a3",
   "metadata": {},
   "source": [
    "## Try and except"
   ]
  },
  {
   "cell_type": "code",
   "execution_count": 19,
   "id": "2d18bf8d",
   "metadata": {},
   "outputs": [],
   "source": [
    "import sys"
   ]
  },
  {
   "cell_type": "code",
   "execution_count": 24,
   "id": "c0614b7e",
   "metadata": {},
   "outputs": [
    {
     "name": "stdout",
     "output_type": "stream",
     "text": [
      "curr ele 2\n",
      "result: 2.5\n",
      "----------------------------------------------------------------------------------------------------\n",
      "curr ele 0\n",
      "Error occured : <class 'ZeroDivisionError'>\n",
      "division by zero\n",
      "----------------------------------------------------------------------------------------------------\n",
      "curr ele hello\n",
      "Error occured : <class 'TypeError'>\n",
      "unsupported operand type(s) for /: 'int' and 'str'\n",
      "----------------------------------------------------------------------------------------------------\n",
      "curr ele None\n",
      "Error occured : <class 'TypeError'>\n",
      "unsupported operand type(s) for /: 'int' and 'NoneType'\n",
      "----------------------------------------------------------------------------------------------------\n",
      "\n",
      "1000 lines of codes\n"
     ]
    }
   ],
   "source": [
    "lst = [2, 0, 'hello', None]\n",
    "\n",
    "for ele in lst:\n",
    "    try:\n",
    "        print(\"curr ele\", ele)\n",
    "        print(\"result:\", 5/ele)\n",
    "    except Exception as e:\n",
    "        print(\"Error occured :\", sys.exc_info()[0])\n",
    "        print(e)\n",
    "    print(\"--\"*50)\n",
    "    \n",
    "\n",
    "print(\"\\n1000 lines of codes\")\n"
   ]
  },
  {
   "cell_type": "code",
   "execution_count": null,
   "id": "38413c48",
   "metadata": {},
   "outputs": [],
   "source": []
  },
  {
   "cell_type": "code",
   "execution_count": null,
   "id": "1413913f",
   "metadata": {},
   "outputs": [],
   "source": []
  },
  {
   "cell_type": "markdown",
   "id": "26d5ee40",
   "metadata": {},
   "source": [
    "## Catching specific exceptions"
   ]
  },
  {
   "cell_type": "code",
   "execution_count": 27,
   "id": "8a62fb85",
   "metadata": {},
   "outputs": [
    {
     "name": "stdout",
     "output_type": "stream",
     "text": [
      "curr ele 2\n",
      "result: 2.5\n",
      "no exception. Hurrayy..!!\n",
      "I'm always printed.\n",
      "----------------------------------------------------------------------------------------------------\n",
      "curr ele 0\n",
      "Hey, don't divide by zero\n",
      "I'm always printed.\n",
      "----------------------------------------------------------------------------------------------------\n",
      "curr ele hello\n",
      "Error occured : <class 'TypeError'>\n",
      "unsupported operand type(s) for /: 'int' and 'str'\n",
      "I'm always printed.\n",
      "----------------------------------------------------------------------------------------------------\n",
      "curr ele None\n",
      "Error occured : <class 'TypeError'>\n",
      "unsupported operand type(s) for /: 'int' and 'NoneType'\n",
      "I'm always printed.\n",
      "----------------------------------------------------------------------------------------------------\n",
      "\n",
      "1000 lines of codes\n"
     ]
    }
   ],
   "source": [
    "lst = [2, 0, 'hello', None]\n",
    "\n",
    "for ele in lst:\n",
    "    try:\n",
    "        print(\"curr ele\", ele)\n",
    "        print(\"result:\", 5/ele)\n",
    "    except ValueError as e:\n",
    "        print(\"hey, value error occured\", e)\n",
    "    except ZeroDivisionError as e:\n",
    "        print(\"Hey, don't divide by zero\")\n",
    "    except Exception as e:\n",
    "        print(\"Error occured :\", sys.exc_info()[0])\n",
    "        print(e)\n",
    "    else:\n",
    "        print(\"no exception. Hurrayy..!!\")\n",
    "    finally:\n",
    "        print(\"I'm always printed.\")\n",
    "        \n",
    "        \n",
    "        \n",
    "    print(\"--\"*50)\n",
    "    \n",
    "\n",
    "print(\"\\n1000 lines of codes\")"
   ]
  },
  {
   "cell_type": "code",
   "execution_count": null,
   "id": "7217a953",
   "metadata": {},
   "outputs": [],
   "source": []
  },
  {
   "cell_type": "code",
   "execution_count": null,
   "id": "2d6e0d4e",
   "metadata": {},
   "outputs": [],
   "source": []
  },
  {
   "cell_type": "markdown",
   "id": "bbc4400f",
   "metadata": {},
   "source": [
    "# Raising custom exception"
   ]
  },
  {
   "cell_type": "code",
   "execution_count": 31,
   "id": "712163cc",
   "metadata": {},
   "outputs": [
    {
     "ename": "ValueError",
     "evalue": "Something wrong happend.",
     "output_type": "error",
     "traceback": [
      "\u001b[0;31m---------------------------------------------------------------------------\u001b[0m",
      "\u001b[0;31mValueError\u001b[0m                                Traceback (most recent call last)",
      "\u001b[0;32m<ipython-input-31-6082cf976fe7>\u001b[0m in \u001b[0;36m<module>\u001b[0;34m\u001b[0m\n\u001b[0;32m----> 1\u001b[0;31m \u001b[0;32mraise\u001b[0m \u001b[0mValueError\u001b[0m\u001b[0;34m(\u001b[0m\u001b[0;34m\"Something wrong happend.\"\u001b[0m\u001b[0;34m)\u001b[0m\u001b[0;34m\u001b[0m\u001b[0;34m\u001b[0m\u001b[0m\n\u001b[0m\u001b[1;32m      2\u001b[0m \u001b[0;34m\u001b[0m\u001b[0m\n\u001b[1;32m      3\u001b[0m \u001b[0mprint\u001b[0m\u001b[0;34m(\u001b[0m\u001b[0;34m\"\\n 1000 lines of code\"\u001b[0m\u001b[0;34m)\u001b[0m\u001b[0;34m\u001b[0m\u001b[0;34m\u001b[0m\u001b[0m\n",
      "\u001b[0;31mValueError\u001b[0m: Something wrong happend."
     ]
    }
   ],
   "source": [
    "raise ValueError(\"Something wrong happend.\")\n",
    "\n",
    "print(\"\\n 1000 lines of code\")"
   ]
  },
  {
   "cell_type": "code",
   "execution_count": 36,
   "id": "ee0cdd29",
   "metadata": {},
   "outputs": [
    {
     "name": "stdout",
     "output_type": "stream",
     "text": [
      "Enter your name: Tom\n",
      "Hello Tom\n",
      "\n",
      "1000 lines of code\n"
     ]
    }
   ],
   "source": [
    "try:\n",
    "    name = input(\"Enter your name: \")\n",
    "    \n",
    "    if len(name) <3:\n",
    "        raise ValueError(\"Name cannot be less than 4 characters\")\n",
    "    print(\"Hello\", name)\n",
    "except Exception as e:\n",
    "    print(e, sys.exc_info()[0])\n",
    "    \n",
    "    \n",
    "    \n",
    "print('\\n1000 lines of code')\n",
    "    "
   ]
  },
  {
   "cell_type": "code",
   "execution_count": null,
   "id": "8f2792de",
   "metadata": {},
   "outputs": [],
   "source": []
  },
  {
   "cell_type": "code",
   "execution_count": null,
   "id": "b1d04543",
   "metadata": {},
   "outputs": [],
   "source": []
  },
  {
   "cell_type": "code",
   "execution_count": null,
   "id": "020b9dfb",
   "metadata": {},
   "outputs": [],
   "source": []
  }
 ],
 "metadata": {
  "kernelspec": {
   "display_name": "Python 3",
   "language": "python",
   "name": "python3"
  },
  "language_info": {
   "codemirror_mode": {
    "name": "ipython",
    "version": 3
   },
   "file_extension": ".py",
   "mimetype": "text/x-python",
   "name": "python",
   "nbconvert_exporter": "python",
   "pygments_lexer": "ipython3",
   "version": "3.8.8"
  }
 },
 "nbformat": 4,
 "nbformat_minor": 5
}
