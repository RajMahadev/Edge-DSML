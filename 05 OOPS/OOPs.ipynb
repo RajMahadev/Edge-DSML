{
 "cells": [
  {
   "cell_type": "code",
   "execution_count": 2,
   "id": "a343c92b",
   "metadata": {},
   "outputs": [],
   "source": [
    "class Human:\n",
    "    pass"
   ]
  },
  {
   "cell_type": "code",
   "execution_count": 6,
   "id": "2e40fe0c",
   "metadata": {},
   "outputs": [],
   "source": [
    "# object of class Human\n",
    "mohit = Human()"
   ]
  },
  {
   "cell_type": "code",
   "execution_count": 4,
   "id": "6965828a",
   "metadata": {},
   "outputs": [
    {
     "data": {
      "text/plain": [
       "__main__.Human"
      ]
     },
     "execution_count": 4,
     "metadata": {},
     "output_type": "execute_result"
    }
   ],
   "source": [
    "type(mohit)"
   ]
  },
  {
   "cell_type": "code",
   "execution_count": 5,
   "id": "9258f66a",
   "metadata": {},
   "outputs": [
    {
     "data": {
      "text/plain": [
       "int"
      ]
     },
     "execution_count": 5,
     "metadata": {},
     "output_type": "execute_result"
    }
   ],
   "source": [
    "type(5)"
   ]
  },
  {
   "cell_type": "markdown",
   "id": "ebe24c80",
   "metadata": {},
   "source": [
    "### Instance Variables"
   ]
  },
  {
   "cell_type": "code",
   "execution_count": 11,
   "id": "678e8b35",
   "metadata": {},
   "outputs": [],
   "source": [
    "class Human:\n",
    "    # constructor\n",
    "    def __init__(self, name, age):\n",
    "        print(\"a new human is born\")\n",
    "        self.name = name\n",
    "        self.age = age"
   ]
  },
  {
   "cell_type": "code",
   "execution_count": 12,
   "id": "c4a64685",
   "metadata": {},
   "outputs": [
    {
     "name": "stdout",
     "output_type": "stream",
     "text": [
      "a new human is born\n"
     ]
    }
   ],
   "source": [
    "# create an obj\n",
    "mark = Human(\"Mark\", 30)"
   ]
  },
  {
   "cell_type": "code",
   "execution_count": 13,
   "id": "f32a8ebf",
   "metadata": {},
   "outputs": [
    {
     "data": {
      "text/plain": [
       "__main__.Human"
      ]
     },
     "execution_count": 13,
     "metadata": {},
     "output_type": "execute_result"
    }
   ],
   "source": [
    "type(mark)"
   ]
  },
  {
   "cell_type": "code",
   "execution_count": 14,
   "id": "d841f6d1",
   "metadata": {},
   "outputs": [
    {
     "name": "stdout",
     "output_type": "stream",
     "text": [
      "Mark\n",
      "30\n"
     ]
    }
   ],
   "source": [
    "print(mark.name)\n",
    "print(mark.age)"
   ]
  },
  {
   "cell_type": "code",
   "execution_count": 15,
   "id": "891ead5b",
   "metadata": {},
   "outputs": [
    {
     "name": "stdout",
     "output_type": "stream",
     "text": [
      "a new human is born\n"
     ]
    }
   ],
   "source": [
    "george = Human(\"Georege\", 21)"
   ]
  },
  {
   "cell_type": "code",
   "execution_count": 16,
   "id": "fd752d88",
   "metadata": {},
   "outputs": [
    {
     "name": "stdout",
     "output_type": "stream",
     "text": [
      "Georege\n",
      "21\n"
     ]
    }
   ],
   "source": [
    "print(george.name)\n",
    "print(george.age)"
   ]
  },
  {
   "cell_type": "markdown",
   "id": "aec5be53",
   "metadata": {},
   "source": [
    "### Instance Methods"
   ]
  },
  {
   "cell_type": "code",
   "execution_count": 17,
   "id": "be142055",
   "metadata": {},
   "outputs": [
    {
     "data": {
      "text/plain": [
       "'GOOD EVENING'"
      ]
     },
     "execution_count": 17,
     "metadata": {},
     "output_type": "execute_result"
    }
   ],
   "source": [
    "\"good evening\".upper()"
   ]
  },
  {
   "cell_type": "code",
   "execution_count": 18,
   "id": "1219cd56",
   "metadata": {},
   "outputs": [],
   "source": [
    "class Human:\n",
    "    # constructor\n",
    "    def __init__(self, name, age):\n",
    "        print(\"a new human is born\")\n",
    "        self.name = name\n",
    "        self.age = age\n",
    "        \n",
    "    def introduce(self):\n",
    "        print(\"Hi, my name is {}. I am {} years old.\".format(self.name, self.age) )"
   ]
  },
  {
   "cell_type": "code",
   "execution_count": 19,
   "id": "34409a43",
   "metadata": {},
   "outputs": [
    {
     "name": "stdout",
     "output_type": "stream",
     "text": [
      "a new human is born\n",
      "a new human is born\n"
     ]
    }
   ],
   "source": [
    "mark = Human(\"Mark\", 30)\n",
    "bill = Human(\"Bill gates\", 62)"
   ]
  },
  {
   "cell_type": "code",
   "execution_count": 21,
   "id": "c1a6bf70",
   "metadata": {},
   "outputs": [
    {
     "name": "stdout",
     "output_type": "stream",
     "text": [
      "Hi, my name is Mark. I am 30 years old.\n",
      "Hi, my name is Bill gates. I am 62 years old.\n"
     ]
    }
   ],
   "source": [
    "mark.introduce()\n",
    "bill.introduce()"
   ]
  },
  {
   "cell_type": "code",
   "execution_count": null,
   "id": "67f48f43",
   "metadata": {},
   "outputs": [],
   "source": []
  },
  {
   "cell_type": "markdown",
   "id": "a54ef817",
   "metadata": {},
   "source": [
    "### Class variables"
   ]
  },
  {
   "cell_type": "code",
   "execution_count": 43,
   "id": "f32cff6f",
   "metadata": {},
   "outputs": [],
   "source": [
    "class Human:\n",
    "    \n",
    "    # class variable\n",
    "    population = 0\n",
    "    id_seq = 101\n",
    "    database = []\n",
    "    \n",
    "    # constructor\n",
    "    def __init__(self, name, age, is_alive = True):\n",
    "        print(\"a new human is born\")\n",
    "        self.name = name\n",
    "        self.age = age\n",
    "        self.alive = is_alive\n",
    "        \n",
    "\n",
    "        Human.population +=1\n",
    "        self.id = Human.id_seq\n",
    "        Human.id_seq +=1\n",
    "        Human.database.append(self)\n",
    "        \n",
    "    def introduce(self):\n",
    "        print(\"Hi, my name is {}. I am {} years old.\".format(self.name, self.age) )"
   ]
  },
  {
   "cell_type": "code",
   "execution_count": 44,
   "id": "76cda9a2",
   "metadata": {},
   "outputs": [
    {
     "name": "stdout",
     "output_type": "stream",
     "text": [
      "a new human is born\n",
      "a new human is born\n"
     ]
    }
   ],
   "source": [
    "mark = Human(\"Mark\", 30)\n",
    "bill = Human(\"Bill gates\", 62)"
   ]
  },
  {
   "cell_type": "code",
   "execution_count": 45,
   "id": "64d41457",
   "metadata": {},
   "outputs": [
    {
     "data": {
      "text/plain": [
       "2"
      ]
     },
     "execution_count": 45,
     "metadata": {},
     "output_type": "execute_result"
    }
   ],
   "source": [
    "Human.population"
   ]
  },
  {
   "cell_type": "code",
   "execution_count": 46,
   "id": "6b5029ba",
   "metadata": {},
   "outputs": [
    {
     "name": "stdout",
     "output_type": "stream",
     "text": [
      "Hi, my name is Mark. I am 30 years old.\n"
     ]
    }
   ],
   "source": [
    "mark.introduce()"
   ]
  },
  {
   "cell_type": "code",
   "execution_count": 47,
   "id": "003ef19c",
   "metadata": {},
   "outputs": [
    {
     "data": {
      "text/plain": [
       "[<__main__.Human at 0x7fcbd9a06460>, <__main__.Human at 0x7fcbd9a06430>]"
      ]
     },
     "execution_count": 47,
     "metadata": {},
     "output_type": "execute_result"
    }
   ],
   "source": [
    "Human.database"
   ]
  },
  {
   "cell_type": "code",
   "execution_count": 54,
   "id": "8f0f9765",
   "metadata": {},
   "outputs": [
    {
     "data": {
      "text/plain": [
       "101"
      ]
     },
     "execution_count": 54,
     "metadata": {},
     "output_type": "execute_result"
    }
   ],
   "source": [
    "Human.database[0].id"
   ]
  },
  {
   "cell_type": "code",
   "execution_count": 55,
   "id": "87036df7",
   "metadata": {},
   "outputs": [
    {
     "data": {
      "text/plain": [
       "102"
      ]
     },
     "execution_count": 55,
     "metadata": {},
     "output_type": "execute_result"
    }
   ],
   "source": [
    "bill.id"
   ]
  },
  {
   "cell_type": "code",
   "execution_count": 56,
   "id": "0b6297ae",
   "metadata": {},
   "outputs": [
    {
     "data": {
      "text/plain": [
       "103"
      ]
     },
     "execution_count": 56,
     "metadata": {},
     "output_type": "execute_result"
    }
   ],
   "source": [
    "Human.id_seq"
   ]
  },
  {
   "cell_type": "code",
   "execution_count": 59,
   "id": "c4932c6e",
   "metadata": {},
   "outputs": [],
   "source": [
    "# adding a new instance variable here.\n",
    "mark.population = 10"
   ]
  },
  {
   "cell_type": "code",
   "execution_count": 60,
   "id": "966c351b",
   "metadata": {},
   "outputs": [
    {
     "data": {
      "text/plain": [
       "10"
      ]
     },
     "execution_count": 60,
     "metadata": {},
     "output_type": "execute_result"
    }
   ],
   "source": [
    "mark.population"
   ]
  },
  {
   "cell_type": "code",
   "execution_count": 62,
   "id": "182961a0",
   "metadata": {},
   "outputs": [
    {
     "data": {
      "text/plain": [
       "2"
      ]
     },
     "execution_count": 62,
     "metadata": {},
     "output_type": "execute_result"
    }
   ],
   "source": [
    "Human.population"
   ]
  },
  {
   "cell_type": "markdown",
   "id": "7c98fe53",
   "metadata": {},
   "source": [
    "### add die()"
   ]
  },
  {
   "cell_type": "code",
   "execution_count": 79,
   "id": "d50c347c",
   "metadata": {},
   "outputs": [],
   "source": [
    "class Human:\n",
    "    \n",
    "    # class variable\n",
    "    population = 0\n",
    "    id_seq = 101\n",
    "    database = []\n",
    "    \n",
    "    # constructor\n",
    "    def __init__(self, name, age, is_alive = True):\n",
    "        print(\"a new human is born\")\n",
    "        self.name = name\n",
    "        self.age = age\n",
    "        self.alive = is_alive\n",
    "        \n",
    "\n",
    "        Human.population +=1\n",
    "        self.id = Human.id_seq\n",
    "        Human.id_seq +=1\n",
    "        Human.database.append(self)\n",
    "        \n",
    "    def introduce(self):\n",
    "        print(\"Hi, my name is {}. I am {} years old.\".format(self.name, self.age) )\n",
    "        \n",
    "    def die(self):\n",
    "        if self.alive:\n",
    "            print(\"{} is dying...\".format(self.name))\n",
    "            self.alive = False\n",
    "            Human.population -= 1\n",
    "        else:\n",
    "            print(\"{} is already dead.\".format(self.name))"
   ]
  },
  {
   "cell_type": "code",
   "execution_count": 80,
   "id": "4edb0c36",
   "metadata": {},
   "outputs": [
    {
     "name": "stdout",
     "output_type": "stream",
     "text": [
      "a new human is born\n",
      "a new human is born\n"
     ]
    }
   ],
   "source": [
    "mark = Human(\"Mark\", 30)\n",
    "bill = Human(\"Bill gates\", 62)"
   ]
  },
  {
   "cell_type": "code",
   "execution_count": 81,
   "id": "dba46328",
   "metadata": {},
   "outputs": [
    {
     "data": {
      "text/plain": [
       "2"
      ]
     },
     "execution_count": 81,
     "metadata": {},
     "output_type": "execute_result"
    }
   ],
   "source": [
    "Human.population"
   ]
  },
  {
   "cell_type": "code",
   "execution_count": 82,
   "id": "c4b4c69e",
   "metadata": {},
   "outputs": [
    {
     "data": {
      "text/plain": [
       "True"
      ]
     },
     "execution_count": 82,
     "metadata": {},
     "output_type": "execute_result"
    }
   ],
   "source": [
    "mark.alive"
   ]
  },
  {
   "cell_type": "code",
   "execution_count": 83,
   "id": "4daddcbe",
   "metadata": {},
   "outputs": [
    {
     "name": "stdout",
     "output_type": "stream",
     "text": [
      "Mark is dying...\n"
     ]
    }
   ],
   "source": [
    "mark.die()"
   ]
  },
  {
   "cell_type": "code",
   "execution_count": 84,
   "id": "081258e3",
   "metadata": {},
   "outputs": [
    {
     "data": {
      "text/plain": [
       "False"
      ]
     },
     "execution_count": 84,
     "metadata": {},
     "output_type": "execute_result"
    }
   ],
   "source": [
    "mark.alive"
   ]
  },
  {
   "cell_type": "code",
   "execution_count": 85,
   "id": "233fd2b9",
   "metadata": {},
   "outputs": [
    {
     "data": {
      "text/plain": [
       "1"
      ]
     },
     "execution_count": 85,
     "metadata": {},
     "output_type": "execute_result"
    }
   ],
   "source": [
    "Human.population"
   ]
  },
  {
   "cell_type": "code",
   "execution_count": 86,
   "id": "8bc55554",
   "metadata": {},
   "outputs": [
    {
     "name": "stdout",
     "output_type": "stream",
     "text": [
      "Mark is already dead.\n"
     ]
    }
   ],
   "source": [
    "mark.die()"
   ]
  },
  {
   "cell_type": "code",
   "execution_count": null,
   "id": "75ddd4c9",
   "metadata": {},
   "outputs": [],
   "source": []
  },
  {
   "cell_type": "code",
   "execution_count": null,
   "id": "8ba7e5f5",
   "metadata": {},
   "outputs": [],
   "source": []
  },
  {
   "cell_type": "markdown",
   "id": "1b746ee9",
   "metadata": {},
   "source": [
    "### Dunder Methods/ Magic functions\n",
    "`__init__` , `__repr__`, `__add__`"
   ]
  },
  {
   "cell_type": "code",
   "execution_count": 89,
   "id": "b9903156",
   "metadata": {},
   "outputs": [],
   "source": [
    "abc = [1,2,3,4]"
   ]
  },
  {
   "cell_type": "code",
   "execution_count": 90,
   "id": "057b88d7",
   "metadata": {},
   "outputs": [
    {
     "name": "stdout",
     "output_type": "stream",
     "text": [
      "[1, 2, 3, 4]\n"
     ]
    }
   ],
   "source": [
    "print(abc)"
   ]
  },
  {
   "cell_type": "code",
   "execution_count": 91,
   "id": "f989b480",
   "metadata": {},
   "outputs": [
    {
     "data": {
      "text/plain": [
       "[1, 2, 3, 4, 5, 6]"
      ]
     },
     "execution_count": 91,
     "metadata": {},
     "output_type": "execute_result"
    }
   ],
   "source": [
    "[1,2,3] + [4,5,6]"
   ]
  },
  {
   "cell_type": "code",
   "execution_count": 105,
   "id": "8764a29f",
   "metadata": {},
   "outputs": [],
   "source": [
    "class Human:\n",
    "    \n",
    "    # class variable\n",
    "    population = 0\n",
    "    id_seq = 101\n",
    "    database = []\n",
    "    \n",
    "    # constructor\n",
    "    def __init__(self, name, age, is_alive = True):\n",
    "        print(\"a new human is born\")\n",
    "        self.name = name\n",
    "        self.age = age\n",
    "        self.alive = is_alive\n",
    "        \n",
    "\n",
    "        Human.population +=1\n",
    "        self.id = Human.id_seq\n",
    "        Human.id_seq +=1\n",
    "        Human.database.append(self)\n",
    "        \n",
    "    \n",
    "    def get_name(self):\n",
    "        return self.name\n",
    "    \n",
    "    def introduce(self):\n",
    "        print(\"Hi, my name is {}. I am {} years old.\".format(self.get_name(), self.age) )\n",
    "        \n",
    "    def die(self):\n",
    "        if self.alive:\n",
    "            print(\"{} is dying...\".format(self.name))\n",
    "            self.alive = False\n",
    "            Human.population -= 1\n",
    "        else:\n",
    "            print(\"{} is already dead.\".format(self.name))\n",
    "            \n",
    "    def __repr__(self):\n",
    "        return \"[{}, {}, {}, {}]\".format(self.id, self.name, self.age, self.alive)\n",
    "    "
   ]
  },
  {
   "cell_type": "code",
   "execution_count": 106,
   "id": "482b94f0",
   "metadata": {},
   "outputs": [
    {
     "name": "stdout",
     "output_type": "stream",
     "text": [
      "a new human is born\n",
      "a new human is born\n"
     ]
    }
   ],
   "source": [
    "mark = Human(\"Mark\", 30)\n",
    "bill = Human(\"Bill gates\", 62)"
   ]
  },
  {
   "cell_type": "code",
   "execution_count": 107,
   "id": "3da46bca",
   "metadata": {},
   "outputs": [
    {
     "name": "stdout",
     "output_type": "stream",
     "text": [
      "[101, Mark, 30, True]\n"
     ]
    }
   ],
   "source": [
    "print(mark)"
   ]
  },
  {
   "cell_type": "code",
   "execution_count": 108,
   "id": "15d36578",
   "metadata": {},
   "outputs": [
    {
     "data": {
      "text/plain": [
       "[[101, Mark, 30, True], [102, Bill gates, 62, True]]"
      ]
     },
     "execution_count": 108,
     "metadata": {},
     "output_type": "execute_result"
    }
   ],
   "source": [
    "Human.database"
   ]
  },
  {
   "cell_type": "code",
   "execution_count": 109,
   "id": "8f3a6cdf",
   "metadata": {},
   "outputs": [
    {
     "name": "stdout",
     "output_type": "stream",
     "text": [
      "5.6\n"
     ]
    }
   ],
   "source": [
    "print(5.6)"
   ]
  },
  {
   "cell_type": "code",
   "execution_count": null,
   "id": "83e7770b",
   "metadata": {},
   "outputs": [],
   "source": []
  },
  {
   "cell_type": "markdown",
   "id": "058b130a",
   "metadata": {},
   "source": [
    "# Inheritance"
   ]
  },
  {
   "cell_type": "code",
   "execution_count": 158,
   "id": "e9f362c2",
   "metadata": {},
   "outputs": [],
   "source": [
    "class Human:\n",
    "    \n",
    "    # class variable\n",
    "    population = 0\n",
    "    id_seq = 101\n",
    "    database = []\n",
    "    \n",
    "    # constructor\n",
    "    def __init__(self, name, age, is_alive = True):\n",
    "        print(\"a new human is born\")\n",
    "        self.name = name\n",
    "        self.age = age\n",
    "        self.alive = is_alive\n",
    "        \n",
    "\n",
    "        Human.population +=1\n",
    "        self.id = Human.id_seq\n",
    "        Human.id_seq +=1\n",
    "        Human.database.append(self)\n",
    "        \n",
    "    \n",
    "    def get_name(self):\n",
    "        return self.name\n",
    "    \n",
    "    def introduce(self):\n",
    "        print(\"Hi, my name is {}. I am {} years old.\".format(self.get_name(), self.age) )\n",
    "        \n",
    "    def die(self):\n",
    "        if self.alive:\n",
    "            print(\"{} is dying...\".format(self.name))\n",
    "            self.alive = False\n",
    "            Human.population -= 1\n",
    "        else:\n",
    "            print(\"{} is already dead.\".format(self.name))\n",
    "            \n",
    "    def __repr__(self):\n",
    "        return \"[{}, {}, {}, {}]\".format(self.id, self.name, self.age, self.alive)\n",
    "\n",
    "\n",
    "  \n",
    "    \n",
    "class Hitman(Human):\n",
    "    \n",
    "    def __init__(self, name, age):\n",
    "        # calling the parent constructor\n",
    "        super().__init__(name, age)\n",
    "        \n",
    "        # adding more properties\n",
    "        self.kills = 0\n",
    "        self.kill_list = []\n",
    "    \n",
    "    def kill(self, person):\n",
    "        if person.alive:\n",
    "            self.kills += 1\n",
    "            person.die()\n",
    "            self.kill_list.append(person)\n",
    "        else:\n",
    "            print(\"{} is already dead.\".format(person.name))\n",
    "            \n",
    "    \n",
    "    # function overriding + Polymorphism\n",
    "    def introduce(self):\n",
    "        print(\"Hi, my name is {}. I've killed {} people.\".format(self.name, self.kills))"
   ]
  },
  {
   "cell_type": "code",
   "execution_count": 159,
   "id": "ad2d54f6",
   "metadata": {},
   "outputs": [
    {
     "name": "stdout",
     "output_type": "stream",
     "text": [
      "a new human is born\n",
      "a new human is born\n",
      "a new human is born\n"
     ]
    }
   ],
   "source": [
    "mark = Human(\"Mark\", 30)\n",
    "bill = Human(\"Bill gates\", 62)\n",
    "john = Human(\"John Doe\", 25)"
   ]
  },
  {
   "cell_type": "code",
   "execution_count": 160,
   "id": "280fefa4",
   "metadata": {},
   "outputs": [
    {
     "data": {
      "text/plain": [
       "3"
      ]
     },
     "execution_count": 160,
     "metadata": {},
     "output_type": "execute_result"
    }
   ],
   "source": [
    "Human.population"
   ]
  },
  {
   "cell_type": "code",
   "execution_count": 161,
   "id": "00954be9",
   "metadata": {},
   "outputs": [
    {
     "name": "stdout",
     "output_type": "stream",
     "text": [
      "a new human is born\n"
     ]
    }
   ],
   "source": [
    "bond = Hitman(\"James Bond\", 35)"
   ]
  },
  {
   "cell_type": "code",
   "execution_count": 162,
   "id": "413f2511",
   "metadata": {},
   "outputs": [
    {
     "data": {
      "text/plain": [
       "[104, James Bond, 35, True]"
      ]
     },
     "execution_count": 162,
     "metadata": {},
     "output_type": "execute_result"
    }
   ],
   "source": [
    "bond"
   ]
  },
  {
   "cell_type": "code",
   "execution_count": 163,
   "id": "8082dbbf",
   "metadata": {},
   "outputs": [
    {
     "data": {
      "text/plain": [
       "4"
      ]
     },
     "execution_count": 163,
     "metadata": {},
     "output_type": "execute_result"
    }
   ],
   "source": [
    "Human.population"
   ]
  },
  {
   "cell_type": "code",
   "execution_count": 164,
   "id": "5b74b74f",
   "metadata": {},
   "outputs": [
    {
     "name": "stdout",
     "output_type": "stream",
     "text": [
      "Hi, my name is James Bond. I've killed 0 people.\n"
     ]
    }
   ],
   "source": [
    "bond.introduce()"
   ]
  },
  {
   "cell_type": "code",
   "execution_count": 165,
   "id": "466d51ec",
   "metadata": {},
   "outputs": [
    {
     "data": {
      "text/plain": [
       "[[101, Mark, 30, True],\n",
       " [102, Bill gates, 62, True],\n",
       " [103, John Doe, 25, True],\n",
       " [104, James Bond, 35, True]]"
      ]
     },
     "execution_count": 165,
     "metadata": {},
     "output_type": "execute_result"
    }
   ],
   "source": [
    "Human.database"
   ]
  },
  {
   "cell_type": "code",
   "execution_count": 166,
   "id": "2f8df91d",
   "metadata": {},
   "outputs": [
    {
     "name": "stdout",
     "output_type": "stream",
     "text": [
      "0\n"
     ]
    }
   ],
   "source": [
    "print(bond.kills)"
   ]
  },
  {
   "cell_type": "code",
   "execution_count": 167,
   "id": "250875b0",
   "metadata": {},
   "outputs": [
    {
     "name": "stdout",
     "output_type": "stream",
     "text": [
      "Mark is dying...\n"
     ]
    }
   ],
   "source": [
    "# killing mark\n",
    "bond.kill(mark)"
   ]
  },
  {
   "cell_type": "code",
   "execution_count": 168,
   "id": "c1e5c800",
   "metadata": {},
   "outputs": [
    {
     "name": "stdout",
     "output_type": "stream",
     "text": [
      "1\n"
     ]
    }
   ],
   "source": [
    "print(bond.kills)"
   ]
  },
  {
   "cell_type": "code",
   "execution_count": 169,
   "id": "f4e56ce7",
   "metadata": {},
   "outputs": [
    {
     "data": {
      "text/plain": [
       "3"
      ]
     },
     "execution_count": 169,
     "metadata": {},
     "output_type": "execute_result"
    }
   ],
   "source": [
    "Human.population"
   ]
  },
  {
   "cell_type": "code",
   "execution_count": 170,
   "id": "31ff2141",
   "metadata": {},
   "outputs": [
    {
     "data": {
      "text/plain": [
       "[[101, Mark, 30, False],\n",
       " [102, Bill gates, 62, True],\n",
       " [103, John Doe, 25, True],\n",
       " [104, James Bond, 35, True]]"
      ]
     },
     "execution_count": 170,
     "metadata": {},
     "output_type": "execute_result"
    }
   ],
   "source": [
    "Human.database"
   ]
  },
  {
   "cell_type": "code",
   "execution_count": 171,
   "id": "e0cadb55",
   "metadata": {},
   "outputs": [
    {
     "name": "stdout",
     "output_type": "stream",
     "text": [
      "Hi, my name is James Bond. I've killed 1 people.\n"
     ]
    }
   ],
   "source": [
    "bond.introduce()"
   ]
  },
  {
   "cell_type": "code",
   "execution_count": null,
   "id": "eb3b9407",
   "metadata": {},
   "outputs": [],
   "source": []
  },
  {
   "cell_type": "markdown",
   "id": "0d2a88b0",
   "metadata": {},
   "source": [
    "# Polymorphism"
   ]
  },
  {
   "cell_type": "code",
   "execution_count": 172,
   "id": "bbfa1c6f",
   "metadata": {},
   "outputs": [
    {
     "data": {
      "text/plain": [
       "4"
      ]
     },
     "execution_count": 172,
     "metadata": {},
     "output_type": "execute_result"
    }
   ],
   "source": [
    "1 + 3"
   ]
  },
  {
   "cell_type": "code",
   "execution_count": 173,
   "id": "c62bce52",
   "metadata": {},
   "outputs": [
    {
     "data": {
      "text/plain": [
       "'hello world'"
      ]
     },
     "execution_count": 173,
     "metadata": {},
     "output_type": "execute_result"
    }
   ],
   "source": [
    "\"hello \" + \"world\""
   ]
  },
  {
   "cell_type": "code",
   "execution_count": 174,
   "id": "6b3fdbb6",
   "metadata": {},
   "outputs": [
    {
     "data": {
      "text/plain": [
       "[1, 2, 3, 4, 5, 6]"
      ]
     },
     "execution_count": 174,
     "metadata": {},
     "output_type": "execute_result"
    }
   ],
   "source": [
    "[1,2,3] + [4,5,6]"
   ]
  },
  {
   "cell_type": "code",
   "execution_count": 175,
   "id": "b1ada03f",
   "metadata": {},
   "outputs": [
    {
     "data": {
      "text/plain": [
       "10"
      ]
     },
     "execution_count": 175,
     "metadata": {},
     "output_type": "execute_result"
    }
   ],
   "source": [
    "len(\"helloworld\")"
   ]
  },
  {
   "cell_type": "code",
   "execution_count": 176,
   "id": "4a223b5e",
   "metadata": {},
   "outputs": [
    {
     "data": {
      "text/plain": [
       "5"
      ]
     },
     "execution_count": 176,
     "metadata": {},
     "output_type": "execute_result"
    }
   ],
   "source": [
    "len({1,2,4,1,3,5,2,5})"
   ]
  },
  {
   "cell_type": "code",
   "execution_count": 177,
   "id": "9c0fae6c",
   "metadata": {},
   "outputs": [
    {
     "name": "stdout",
     "output_type": "stream",
     "text": [
      "Hi, my name is James Bond. I've killed 1 people.\n"
     ]
    }
   ],
   "source": [
    "bond.introduce()"
   ]
  },
  {
   "cell_type": "code",
   "execution_count": 178,
   "id": "d30393f0",
   "metadata": {},
   "outputs": [
    {
     "name": "stdout",
     "output_type": "stream",
     "text": [
      "Hi, my name is Mark. I am 30 years old.\n"
     ]
    }
   ],
   "source": [
    "mark.introduce()"
   ]
  },
  {
   "cell_type": "code",
   "execution_count": null,
   "id": "2afc0ba1",
   "metadata": {},
   "outputs": [],
   "source": []
  },
  {
   "cell_type": "code",
   "execution_count": null,
   "id": "739816b0",
   "metadata": {},
   "outputs": [],
   "source": []
  },
  {
   "cell_type": "code",
   "execution_count": null,
   "id": "22ce53c5",
   "metadata": {},
   "outputs": [],
   "source": []
  },
  {
   "cell_type": "markdown",
   "id": "850bdaf2",
   "metadata": {},
   "source": [
    "# Misc."
   ]
  },
  {
   "cell_type": "code",
   "execution_count": 187,
   "id": "8929f936",
   "metadata": {},
   "outputs": [],
   "source": [
    "class Bank:\n",
    "    def __init__(self):\n",
    "        # private variable\n",
    "        self.__acc_no = 101\n",
    "        self.__balance = 0\n",
    "        \n",
    "    def get_acc_no(self):\n",
    "        return self.__acc_no\n",
    "    \n",
    "    def __increment_balance(self, amt = 0):\n",
    "        self.__balance += amt"
   ]
  },
  {
   "cell_type": "code",
   "execution_count": 188,
   "id": "9c174e8e",
   "metadata": {},
   "outputs": [],
   "source": [
    "my_bank = Bank()"
   ]
  },
  {
   "cell_type": "code",
   "execution_count": 189,
   "id": "7c91f036",
   "metadata": {},
   "outputs": [
    {
     "ename": "AttributeError",
     "evalue": "'Bank' object has no attribute '__acc_no'",
     "output_type": "error",
     "traceback": [
      "\u001b[0;31m---------------------------------------------------------------------------\u001b[0m",
      "\u001b[0;31mAttributeError\u001b[0m                            Traceback (most recent call last)",
      "\u001b[0;32m<ipython-input-189-279bd0540bf7>\u001b[0m in \u001b[0;36m<module>\u001b[0;34m\u001b[0m\n\u001b[0;32m----> 1\u001b[0;31m \u001b[0mmy_bank\u001b[0m\u001b[0;34m.\u001b[0m\u001b[0m__acc_no\u001b[0m\u001b[0;34m\u001b[0m\u001b[0;34m\u001b[0m\u001b[0m\n\u001b[0m",
      "\u001b[0;31mAttributeError\u001b[0m: 'Bank' object has no attribute '__acc_no'"
     ]
    }
   ],
   "source": [
    "my_bank.__acc_no"
   ]
  },
  {
   "cell_type": "code",
   "execution_count": 190,
   "id": "2505748d",
   "metadata": {},
   "outputs": [
    {
     "data": {
      "text/plain": [
       "101"
      ]
     },
     "execution_count": 190,
     "metadata": {},
     "output_type": "execute_result"
    }
   ],
   "source": [
    "my_bank.get_acc_no()"
   ]
  },
  {
   "cell_type": "code",
   "execution_count": null,
   "id": "c0a656bc",
   "metadata": {},
   "outputs": [],
   "source": []
  }
 ],
 "metadata": {
  "kernelspec": {
   "display_name": "Python 3",
   "language": "python",
   "name": "python3"
  },
  "language_info": {
   "codemirror_mode": {
    "name": "ipython",
    "version": 3
   },
   "file_extension": ".py",
   "mimetype": "text/x-python",
   "name": "python",
   "nbconvert_exporter": "python",
   "pygments_lexer": "ipython3",
   "version": "3.8.8"
  }
 },
 "nbformat": 4,
 "nbformat_minor": 5
}
