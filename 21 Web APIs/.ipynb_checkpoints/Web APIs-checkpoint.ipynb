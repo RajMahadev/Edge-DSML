{
 "cells": [
  {
   "cell_type": "markdown",
   "id": "29ab8607",
   "metadata": {},
   "source": [
    "### Bored API\n",
    "- https://www.boredapi.com/api/activity"
   ]
  },
  {
   "cell_type": "code",
   "execution_count": 14,
   "id": "767186c3",
   "metadata": {},
   "outputs": [],
   "source": [
    "import requests\n",
    "import json"
   ]
  },
  {
   "cell_type": "code",
   "execution_count": 2,
   "id": "4138821b",
   "metadata": {},
   "outputs": [],
   "source": [
    "url = \"https://www.boredapi.com/api/activity\""
   ]
  },
  {
   "cell_type": "code",
   "execution_count": 9,
   "id": "2069ec07",
   "metadata": {},
   "outputs": [],
   "source": [
    "response = requests.get(url)"
   ]
  },
  {
   "cell_type": "code",
   "execution_count": 10,
   "id": "48add57a",
   "metadata": {},
   "outputs": [
    {
     "data": {
      "text/plain": [
       "requests.models.Response"
      ]
     },
     "execution_count": 10,
     "metadata": {},
     "output_type": "execute_result"
    }
   ],
   "source": [
    "type(response)"
   ]
  },
  {
   "cell_type": "code",
   "execution_count": 11,
   "id": "148c23d4",
   "metadata": {},
   "outputs": [
    {
     "name": "stdout",
     "output_type": "stream",
     "text": [
      "200\n"
     ]
    }
   ],
   "source": [
    "print(response.status_code)"
   ]
  },
  {
   "cell_type": "code",
   "execution_count": 12,
   "id": "b77640e7",
   "metadata": {},
   "outputs": [
    {
     "data": {
      "text/plain": [
       "'{\"activity\":\"Go to a concert with some friends\",\"type\":\"social\",\"participants\":4,\"price\":0.6,\"link\":\"\",\"key\":\"4558850\",\"accessibility\":0.4}'"
      ]
     },
     "execution_count": 12,
     "metadata": {},
     "output_type": "execute_result"
    }
   ],
   "source": [
    "result = response.text\n",
    "result"
   ]
  },
  {
   "cell_type": "code",
   "execution_count": 13,
   "id": "f8e183ed",
   "metadata": {},
   "outputs": [
    {
     "data": {
      "text/plain": [
       "str"
      ]
     },
     "execution_count": 13,
     "metadata": {},
     "output_type": "execute_result"
    }
   ],
   "source": [
    "type(result)"
   ]
  },
  {
   "cell_type": "code",
   "execution_count": 16,
   "id": "c782c21f",
   "metadata": {},
   "outputs": [],
   "source": [
    "result = json.loads(result)"
   ]
  },
  {
   "cell_type": "code",
   "execution_count": 17,
   "id": "274e37ab",
   "metadata": {},
   "outputs": [
    {
     "data": {
      "text/plain": [
       "dict"
      ]
     },
     "execution_count": 17,
     "metadata": {},
     "output_type": "execute_result"
    }
   ],
   "source": [
    "type(result)"
   ]
  },
  {
   "cell_type": "code",
   "execution_count": 20,
   "id": "c0e28d82",
   "metadata": {},
   "outputs": [
    {
     "name": "stdout",
     "output_type": "stream",
     "text": [
      "Go to a concert with some friends\n",
      "social\n"
     ]
    }
   ],
   "source": [
    "print(result['activity'])\n",
    "print(result['type'])"
   ]
  },
  {
   "cell_type": "markdown",
   "id": "384854f3",
   "metadata": {},
   "source": [
    "## Get IP Address"
   ]
  },
  {
   "cell_type": "code",
   "execution_count": 21,
   "id": "7a9b3005",
   "metadata": {},
   "outputs": [],
   "source": [
    "url = \"https://api.ipify.org\""
   ]
  },
  {
   "cell_type": "code",
   "execution_count": 22,
   "id": "cd10c358",
   "metadata": {},
   "outputs": [
    {
     "name": "stdout",
     "output_type": "stream",
     "text": [
      "103.204.171.38\n"
     ]
    }
   ],
   "source": [
    "res = requests.get(url)\n",
    "print(res.text)"
   ]
  },
  {
   "cell_type": "code",
   "execution_count": null,
   "id": "eeb3f97c",
   "metadata": {},
   "outputs": [],
   "source": []
  },
  {
   "cell_type": "markdown",
   "id": "3b0f7478",
   "metadata": {},
   "source": [
    "# University Data\n",
    "- http://universities.hipolabs.com"
   ]
  },
  {
   "cell_type": "code",
   "execution_count": 24,
   "id": "378c6164",
   "metadata": {},
   "outputs": [],
   "source": [
    "url = \"http://universities.hipolabs.com/search?country=India\""
   ]
  },
  {
   "cell_type": "code",
   "execution_count": 26,
   "id": "d29c9784",
   "metadata": {},
   "outputs": [],
   "source": [
    "res = requests.get(url)"
   ]
  },
  {
   "cell_type": "code",
   "execution_count": 29,
   "id": "6aafea03",
   "metadata": {},
   "outputs": [],
   "source": [
    "universities = json.loads(res.text)"
   ]
  },
  {
   "cell_type": "code",
   "execution_count": 30,
   "id": "8873e0b0",
   "metadata": {},
   "outputs": [
    {
     "data": {
      "text/plain": [
       "list"
      ]
     },
     "execution_count": 30,
     "metadata": {},
     "output_type": "execute_result"
    }
   ],
   "source": [
    "type(universities)"
   ]
  },
  {
   "cell_type": "code",
   "execution_count": 31,
   "id": "cc15c353",
   "metadata": {},
   "outputs": [
    {
     "data": {
      "text/plain": [
       "802"
      ]
     },
     "execution_count": 31,
     "metadata": {},
     "output_type": "execute_result"
    }
   ],
   "source": [
    "len(universities)"
   ]
  },
  {
   "cell_type": "code",
   "execution_count": 33,
   "id": "44f3f6c9",
   "metadata": {},
   "outputs": [
    {
     "data": {
      "text/plain": [
       "[{'state-province': 'Punjab',\n",
       "  'country': 'India',\n",
       "  'web_pages': ['http://www.davietjal.org/'],\n",
       "  'name': 'DAV Institute of Engineering & Technology',\n",
       "  'alpha_two_code': 'IN',\n",
       "  'domains': ['davietjal.org']},\n",
       " {'state-province': 'Punjab',\n",
       "  'country': 'India',\n",
       "  'web_pages': ['http://www.lpu.in/'],\n",
       "  'name': 'Lovely Professional University',\n",
       "  'alpha_two_code': 'IN',\n",
       "  'domains': ['lpu.in']},\n",
       " {'state-province': None,\n",
       "  'country': 'India',\n",
       "  'web_pages': ['https://somaiya.edu/'],\n",
       "  'name': 'Somaiya Vidyavihar',\n",
       "  'alpha_two_code': 'IN',\n",
       "  'domains': ['somaiya.edu']}]"
      ]
     },
     "execution_count": 33,
     "metadata": {},
     "output_type": "execute_result"
    }
   ],
   "source": [
    "universities[:3]"
   ]
  },
  {
   "cell_type": "code",
   "execution_count": null,
   "id": "62e62037",
   "metadata": {},
   "outputs": [],
   "source": []
  },
  {
   "cell_type": "markdown",
   "id": "2d312ca5",
   "metadata": {},
   "source": [
    "# OpenWeatherMap API"
   ]
  },
  {
   "cell_type": "code",
   "execution_count": 37,
   "id": "cd1b3f40",
   "metadata": {},
   "outputs": [],
   "source": [
    "url = \"https://api.openweathermap.org/data/2.5/weather?q=toronto&appid=9b199c2b6cd2fbda47fcd3fcfee5123b\""
   ]
  },
  {
   "cell_type": "code",
   "execution_count": 53,
   "id": "2a356615",
   "metadata": {},
   "outputs": [],
   "source": [
    "url = \"https://api.openweathermap.org/data/2.5/weather?lat=28.553699&lon=77.259513&appid=9b199c2b6cd2fbda47fcd3fcfee5123b\""
   ]
  },
  {
   "cell_type": "code",
   "execution_count": 54,
   "id": "66232017",
   "metadata": {},
   "outputs": [],
   "source": [
    "res = requests.get(url)\n",
    "data = json.loads(res.text)"
   ]
  },
  {
   "cell_type": "code",
   "execution_count": 55,
   "id": "0cfde117",
   "metadata": {},
   "outputs": [
    {
     "data": {
      "text/plain": [
       "{'coord': {'lon': 77.2595, 'lat': 28.5537},\n",
       " 'weather': [{'id': 701,\n",
       "   'main': 'Mist',\n",
       "   'description': 'mist',\n",
       "   'icon': '50n'}],\n",
       " 'base': 'stations',\n",
       " 'main': {'temp': 290.1,\n",
       "  'feels_like': 289.99,\n",
       "  'temp_min': 290.1,\n",
       "  'temp_max': 290.1,\n",
       "  'pressure': 1014,\n",
       "  'humidity': 82},\n",
       " 'visibility': 3000,\n",
       " 'wind': {'speed': 2.06, 'deg': 90},\n",
       " 'clouds': {'all': 1},\n",
       " 'dt': 1637769029,\n",
       " 'sys': {'type': 1,\n",
       "  'id': 9165,\n",
       "  'country': 'IN',\n",
       "  'sunrise': 1637716845,\n",
       "  'sunset': 1637754892},\n",
       " 'timezone': 19800,\n",
       " 'id': 1268379,\n",
       " 'name': 'Kālkāji Devi',\n",
       " 'cod': 200}"
      ]
     },
     "execution_count": 55,
     "metadata": {},
     "output_type": "execute_result"
    }
   ],
   "source": [
    "data"
   ]
  },
  {
   "cell_type": "code",
   "execution_count": 43,
   "id": "bf1659d4",
   "metadata": {},
   "outputs": [],
   "source": [
    "with open(\"sample1.json\") as f:\n",
    "    data = json.load(f)"
   ]
  },
  {
   "cell_type": "code",
   "execution_count": 44,
   "id": "bb3256cb",
   "metadata": {},
   "outputs": [
    {
     "data": {
      "text/plain": [
       "{'fruit': 'Apple', 'size': 'Large', 'color': 'Red'}"
      ]
     },
     "execution_count": 44,
     "metadata": {},
     "output_type": "execute_result"
    }
   ],
   "source": [
    "data"
   ]
  },
  {
   "cell_type": "code",
   "execution_count": null,
   "id": "0f1d6349",
   "metadata": {},
   "outputs": [],
   "source": []
  },
  {
   "cell_type": "markdown",
   "id": "4fec0fb1",
   "metadata": {},
   "source": [
    "## Scraping Image"
   ]
  },
  {
   "cell_type": "code",
   "execution_count": 61,
   "id": "54c1d263",
   "metadata": {},
   "outputs": [],
   "source": [
    "img_url = \"https://www.thesprucepets.com/thmb/sfuyyLvyUx636_Oq3Fw5_mt-PIc=/3760x2820/smart/filters:no_upscale()/adorable-white-pomeranian-puppy-spitz-921029690-5c8be25d46e0fb000172effe.jpg\""
   ]
  },
  {
   "cell_type": "code",
   "execution_count": 62,
   "id": "96304a21",
   "metadata": {},
   "outputs": [],
   "source": [
    "res = requests.get(img_url)"
   ]
  },
  {
   "cell_type": "code",
   "execution_count": 66,
   "id": "69572d62",
   "metadata": {},
   "outputs": [
    {
     "data": {
      "text/plain": [
       "b'\\xff\\xd8\\xff\\xe0\\x00\\x10JFIF'"
      ]
     },
     "execution_count": 66,
     "metadata": {},
     "output_type": "execute_result"
    }
   ],
   "source": [
    "res.content[:10]"
   ]
  },
  {
   "cell_type": "code",
   "execution_count": 70,
   "id": "43520bbb",
   "metadata": {},
   "outputs": [],
   "source": [
    "with open('dog.jpg', 'wb') as f:\n",
    "    f.write(res.content)"
   ]
  },
  {
   "cell_type": "code",
   "execution_count": 71,
   "id": "dde26ff6",
   "metadata": {},
   "outputs": [],
   "source": [
    "def download_img(img_name, img_url):\n",
    "    \n",
    "    res = requests.get(img_url)\n",
    "    with open(img_name, 'wb') as f:\n",
    "        f.write(res.content)"
   ]
  },
  {
   "cell_type": "code",
   "execution_count": null,
   "id": "e92a263d",
   "metadata": {},
   "outputs": [],
   "source": []
  },
  {
   "cell_type": "markdown",
   "id": "0b3c9d0b",
   "metadata": {},
   "source": [
    "# Lots of APIs\n",
    "- Google API\n",
    "- Bing API"
   ]
  },
  {
   "cell_type": "code",
   "execution_count": null,
   "id": "56ac0777",
   "metadata": {},
   "outputs": [],
   "source": []
  }
 ],
 "metadata": {
  "kernelspec": {
   "display_name": "Python 3",
   "language": "python",
   "name": "python3"
  },
  "language_info": {
   "codemirror_mode": {
    "name": "ipython",
    "version": 3
   },
   "file_extension": ".py",
   "mimetype": "text/x-python",
   "name": "python",
   "nbconvert_exporter": "python",
   "pygments_lexer": "ipython3",
   "version": "3.8.8"
  }
 },
 "nbformat": 4,
 "nbformat_minor": 5
}
