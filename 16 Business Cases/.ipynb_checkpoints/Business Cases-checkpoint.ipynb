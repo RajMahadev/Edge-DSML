{
 "cells": [
  {
   "cell_type": "code",
   "execution_count": 23,
   "id": "e248434d",
   "metadata": {},
   "outputs": [],
   "source": [
    "import numpy as np\n",
    "import pandas as pd\n",
    "import matplotlib.pyplot as plt\n",
    "import seaborn as sns\n",
    "import math\n",
    "\n",
    "from scipy import stats"
   ]
  },
  {
   "cell_type": "markdown",
   "id": "2bcf6783",
   "metadata": {},
   "source": [
    "# Binomial Distribution"
   ]
  },
  {
   "cell_type": "code",
   "execution_count": 2,
   "id": "821ce10c",
   "metadata": {},
   "outputs": [],
   "source": [
    "fair_coin_flips = stats.binom.rvs(n= 10, p = 0.5, size=10000)"
   ]
  },
  {
   "cell_type": "code",
   "execution_count": 3,
   "id": "13f202ec",
   "metadata": {},
   "outputs": [
    {
     "data": {
      "image/png": "[encoded data removed]",
      "text/plain": [
       "<Figure size 432x288 with 1 Axes>"
      ]
     },
     "metadata": {
      "needs_background": "light"
     },
     "output_type": "display_data"
    }
   ],
   "source": [
    "sns.histplot(fair_coin_flips, bins = 20)\n",
    "plt.show()"
   ]
  },
  {
   "cell_type": "code",
   "execution_count": 4,
   "id": "8b2d301e",
   "metadata": {},
   "outputs": [],
   "source": [
    "biased_coin_flips = stats.binom.rvs(n= 10, p = 0.8, size=10000)"
   ]
  },
  {
   "cell_type": "code",
   "execution_count": 5,
   "id": "6f822696",
   "metadata": {},
   "outputs": [
    {
     "data": {
      "image/png": "[encoded data removed]",
      "text/plain": [
       "<Figure size 432x288 with 1 Axes>"
      ]
     },
     "metadata": {
      "needs_background": "light"
     },
     "output_type": "display_data"
    }
   ],
   "source": [
    "sns.histplot(biased_coin_flips,bins=20, )\n",
    "plt.show()"
   ]
  },
  {
   "cell_type": "code",
   "execution_count": 6,
   "id": "cf243e87",
   "metadata": {},
   "outputs": [
    {
     "data": {
      "text/plain": [
       "0.24609375000000025"
      ]
     },
     "execution_count": 6,
     "metadata": {},
     "output_type": "execute_result"
    }
   ],
   "source": [
    "stats.binom.pmf(k=5, n=10, p=0.5)"
   ]
  },
  {
   "cell_type": "code",
   "execution_count": 7,
   "id": "ed1d53ab",
   "metadata": {},
   "outputs": [
    {
     "data": {
      "text/plain": [
       "0.6241903616"
      ]
     },
     "execution_count": 7,
     "metadata": {},
     "output_type": "execute_result"
    }
   ],
   "source": [
    "stats.binom.cdf(k=8, n=10, p=0.8)"
   ]
  },
  {
   "cell_type": "code",
   "execution_count": null,
   "id": "c7d96b33",
   "metadata": {},
   "outputs": [],
   "source": []
  },
  {
   "cell_type": "markdown",
   "id": "57e05798",
   "metadata": {},
   "source": [
    "# Flights OverBooking Problem"
   ]
  },
  {
   "cell_type": "code",
   "execution_count": 9,
   "id": "6516f5f6",
   "metadata": {},
   "outputs": [],
   "source": [
    "flights = pd.read_csv(\"Flight.csv\")"
   ]
  },
  {
   "cell_type": "code",
   "execution_count": 10,
   "id": "42fd9254",
   "metadata": {},
   "outputs": [
    {
     "data": {
      "text/plain": [
       "(1000, 3)"
      ]
     },
     "execution_count": 10,
     "metadata": {},
     "output_type": "execute_result"
    }
   ],
   "source": [
    "flights.shape"
   ]
  },
  {
   "cell_type": "code",
   "execution_count": 14,
   "id": "4e72941b",
   "metadata": {},
   "outputs": [
    {
     "data": {
      "text/html": [
       "<div>\n",
       "<style scoped>\n",
       "    .dataframe tbody tr th:only-of-type {\n",
       "        vertical-align: middle;\n",
       "    }\n",
       "\n",
       "    .dataframe tbody tr th {\n",
       "        vertical-align: top;\n",
       "    }\n",
       "\n",
       "    .dataframe thead th {\n",
       "        text-align: right;\n",
       "    }\n",
       "</style>\n",
       "<table border=\"1\" class=\"dataframe\">\n",
       "  <thead>\n",
       "    <tr style=\"text-align: right;\">\n",
       "      <th></th>\n",
       "      <th>Passenger_ID</th>\n",
       "      <th>Flight_ID</th>\n",
       "      <th>Arrived</th>\n",
       "    </tr>\n",
       "  </thead>\n",
       "  <tbody>\n",
       "    <tr>\n",
       "      <th>0</th>\n",
       "      <td>1811</td>\n",
       "      <td>A320</td>\n",
       "      <td>1</td>\n",
       "    </tr>\n",
       "    <tr>\n",
       "      <th>1</th>\n",
       "      <td>1812</td>\n",
       "      <td>A320</td>\n",
       "      <td>1</td>\n",
       "    </tr>\n",
       "    <tr>\n",
       "      <th>2</th>\n",
       "      <td>1813</td>\n",
       "      <td>B777</td>\n",
       "      <td>1</td>\n",
       "    </tr>\n",
       "    <tr>\n",
       "      <th>3</th>\n",
       "      <td>1814</td>\n",
       "      <td>B737</td>\n",
       "      <td>1</td>\n",
       "    </tr>\n",
       "    <tr>\n",
       "      <th>4</th>\n",
       "      <td>1815</td>\n",
       "      <td>B737</td>\n",
       "      <td>1</td>\n",
       "    </tr>\n",
       "  </tbody>\n",
       "</table>\n",
       "</div>"
      ],
      "text/plain": [
       "   Passenger_ID Flight_ID  Arrived\n",
       "0          1811     A320         1\n",
       "1          1812     A320         1\n",
       "2          1813      B777        1\n",
       "3          1814      B737        1\n",
       "4          1815      B737        1"
      ]
     },
     "execution_count": 14,
     "metadata": {},
     "output_type": "execute_result"
    }
   ],
   "source": [
    "flights.head()"
   ]
  },
  {
   "cell_type": "code",
   "execution_count": 20,
   "id": "52225116",
   "metadata": {},
   "outputs": [
    {
     "name": "stdout",
     "output_type": "stream",
     "text": [
      "0.902\n"
     ]
    }
   ],
   "source": [
    "showsup_probability = flights['Arrived'].value_counts(normalize=True)[1]\n",
    "print(showsup_probability)"
   ]
  },
  {
   "cell_type": "code",
   "execution_count": null,
   "id": "37425e98",
   "metadata": {},
   "outputs": [],
   "source": []
  },
  {
   "cell_type": "code",
   "execution_count": 37,
   "id": "aed21211",
   "metadata": {},
   "outputs": [],
   "source": [
    "PENALTY = 70000\n",
    "\n",
    "def calculate_expected_penalty(ticket_sold):\n",
    "    \n",
    "    total_penality = 0.0\n",
    "    \n",
    "    for i in range(1, ticket_sold - 100+1):\n",
    "        prob = math.comb(ticket_sold, 100+i) * (0.9)**(100+i) * (0.1)**(ticket_sold-100-i)\n",
    "        penalty = prob*PENALTY*i\n",
    "        total_penality += penalty\n",
    "    \n",
    "    return total_penality"
   ]
  },
  {
   "cell_type": "code",
   "execution_count": 38,
   "id": "f1c58c7a",
   "metadata": {},
   "outputs": [
    {
     "data": {
      "text/plain": [
       "19114.182303992442"
      ]
     },
     "execution_count": 38,
     "metadata": {},
     "output_type": "execute_result"
    }
   ],
   "source": [
    "calculate_expected_penalty(108)"
   ]
  },
  {
   "cell_type": "code",
   "execution_count": 39,
   "id": "1596665d",
   "metadata": {},
   "outputs": [
    {
     "name": "stdout",
     "output_type": "stream",
     "text": [
      "overbooking seats 100, Profit made 500000 \n",
      "overbooking seats 101, Profit made 504998 \n",
      "overbooking seats 102, Profit made 509980 \n",
      "overbooking seats 103, Profit made 514877 \n",
      "overbooking seats 104, Profit made 519487 \n",
      "overbooking seats 105, Profit made 523357 \n",
      "overbooking seats 106, Profit made 525688 \n",
      "overbooking seats 107, Profit made 525326 \n",
      "overbooking seats 108, Profit made 520886 \n",
      "overbooking seats 109, Profit made 510992 \n",
      "overbooking seats 110, Profit made 494552 \n",
      "overbooking seats 111, Profit made 470978 \n",
      "overbooking seats 112, Profit made 440270 \n",
      "overbooking seats 113, Profit made 402963 \n",
      "overbooking seats 114, Profit made 359970 \n",
      "overbooking seats 115, Profit made 312388 \n",
      "overbooking seats 116, Profit made 261319 \n",
      "overbooking seats 117, Profit made 207743 \n",
      "overbooking seats 118, Profit made 152456 \n",
      "overbooking seats 119, Profit made 96058 \n",
      "overbooking seats 120, Profit made 38969 \n"
     ]
    }
   ],
   "source": [
    "for i in range(100, 121):\n",
    "    sales = 5000*i\n",
    "    penality = calculate_expected_penalty(i)\n",
    "    profit = sales - penality\n",
    "    print(\"overbooking seats {}, Profit made {} \".format(i, round(profit)))"
   ]
  },
  {
   "cell_type": "code",
   "execution_count": 40,
   "id": "6b4e3d3e",
   "metadata": {},
   "outputs": [
    {
     "data": {
      "text/plain": [
       "0.902"
      ]
     },
     "execution_count": 40,
     "metadata": {},
     "output_type": "execute_result"
    }
   ],
   "source": [
    "showsup_probability"
   ]
  },
  {
   "cell_type": "code",
   "execution_count": 43,
   "id": "9be0436d",
   "metadata": {},
   "outputs": [],
   "source": [
    "distrib = stats.binom.rvs(n=110, p = showsup_probability, size= 1000)"
   ]
  },
  {
   "cell_type": "code",
   "execution_count": 45,
   "id": "1d9fa1f0",
   "metadata": {},
   "outputs": [
    {
     "data": {
      "image/png": "[encoded data removed]",
      "text/plain": [
       "<Figure size 432x288 with 1 Axes>"
      ]
     },
     "metadata": {
      "needs_background": "light"
     },
     "output_type": "display_data"
    }
   ],
   "source": [
    "sns.histplot(distrib, kde = True)\n",
    "plt.show()"
   ]
  },
  {
   "cell_type": "code",
   "execution_count": null,
   "id": "017b4a42",
   "metadata": {},
   "outputs": [],
   "source": []
  },
  {
   "cell_type": "markdown",
   "id": "b86845fd",
   "metadata": {},
   "source": [
    "# Poisson Distribution"
   ]
  },
  {
   "cell_type": "code",
   "execution_count": 51,
   "id": "ffa67b5b",
   "metadata": {},
   "outputs": [
    {
     "data": {
      "text/plain": [
       "0.04861075082960534"
      ]
     },
     "execution_count": 51,
     "metadata": {},
     "output_type": "execute_result"
    }
   ],
   "source": [
    "stats.poisson.pmf(k =10, mu = 15)"
   ]
  },
  {
   "cell_type": "code",
   "execution_count": 55,
   "id": "9a440ed3",
   "metadata": {},
   "outputs": [
    {
     "data": {
      "text/plain": [
       "0.006184903811266795"
      ]
     },
     "execution_count": 55,
     "metadata": {},
     "output_type": "execute_result"
    }
   ],
   "source": [
    "1- stats.poisson.cdf(k=25, mu = 15)"
   ]
  },
  {
   "cell_type": "code",
   "execution_count": null,
   "id": "73b5391a",
   "metadata": {},
   "outputs": [],
   "source": []
  }
 ],
 "metadata": {
  "kernelspec": {
   "display_name": "Python 3",
   "language": "python",
   "name": "python3"
  },
  "language_info": {
   "codemirror_mode": {
    "name": "ipython",
    "version": 3
   },
   "file_extension": ".py",
   "mimetype": "text/x-python",
   "name": "python",
   "nbconvert_exporter": "python",
   "pygments_lexer": "ipython3",
   "version": "3.8.8"
  }
 },
 "nbformat": 4,
 "nbformat_minor": 5
}
