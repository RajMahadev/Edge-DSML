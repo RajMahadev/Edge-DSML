{
 "cells": [
  {
   "cell_type": "code",
   "execution_count": 2,
   "id": "a6996522",
   "metadata": {},
   "outputs": [
    {
     "name": "stdout",
     "output_type": "stream",
     "text": [
      "Collecting bs4\n",
      "  Downloading bs4-0.0.1.tar.gz (1.1 kB)\n",
      "Requirement already satisfied: beautifulsoup4 in /Users/mohit/opt/anaconda3/lib/python3.8/site-packages (from bs4) (4.9.3)\n",
      "Requirement already satisfied: soupsieve>1.2 in /Users/mohit/opt/anaconda3/lib/python3.8/site-packages (from beautifulsoup4->bs4) (2.2.1)\n",
      "Building wheels for collected packages: bs4\n",
      "  Building wheel for bs4 (setup.py) ... \u001b[?25ldone\n",
      "\u001b[?25h  Created wheel for bs4: filename=bs4-0.0.1-py3-none-any.whl size=1273 sha256=66cde58653584d49c4e68b6e2099a06f6d71e980ac15a08a6a96fecaf7fdfdee\n",
      "  Stored in directory: /Users/mohit/Library/Caches/pip/wheels/75/78/21/68b124549c9bdc94f822c02fb9aa3578a669843f9767776bca\n",
      "Successfully built bs4\n",
      "Installing collected packages: bs4\n",
      "Successfully installed bs4-0.0.1\n"
     ]
    }
   ],
   "source": [
    "! pip install bs4"
   ]
  },
  {
   "cell_type": "code",
   "execution_count": 81,
   "id": "f36573e1",
   "metadata": {},
   "outputs": [],
   "source": [
    "import requests\n",
    "import pandas as pd\n",
    "from bs4 import BeautifulSoup"
   ]
  },
  {
   "cell_type": "code",
   "execution_count": 4,
   "id": "618f37dd",
   "metadata": {},
   "outputs": [],
   "source": [
    "url = 'https://en.wikipedia.org/wiki/List_of_countries_and_dependencies_and_their_capitals_in_native_languages'\n",
    "res = requests.get(url)"
   ]
  },
  {
   "cell_type": "code",
   "execution_count": 7,
   "id": "a53a7768",
   "metadata": {},
   "outputs": [],
   "source": [
    "website = res.content"
   ]
  },
  {
   "cell_type": "code",
   "execution_count": 10,
   "id": "ba05b847",
   "metadata": {},
   "outputs": [],
   "source": [
    "soup = BeautifulSoup(website)"
   ]
  },
  {
   "cell_type": "code",
   "execution_count": 11,
   "id": "bff69e0f",
   "metadata": {},
   "outputs": [
    {
     "data": {
      "text/plain": [
       "bs4.BeautifulSoup"
      ]
     },
     "execution_count": 11,
     "metadata": {},
     "output_type": "execute_result"
    }
   ],
   "source": [
    "type(soup)"
   ]
  },
  {
   "cell_type": "code",
   "execution_count": 12,
   "id": "a8f955ad",
   "metadata": {},
   "outputs": [
    {
     "data": {
      "text/plain": [
       "<title>List of countries and dependencies and their capitals in native languages - Wikipedia</title>"
      ]
     },
     "execution_count": 12,
     "metadata": {},
     "output_type": "execute_result"
    }
   ],
   "source": [
    "soup.title"
   ]
  },
  {
   "cell_type": "code",
   "execution_count": 13,
   "id": "7ff40129",
   "metadata": {},
   "outputs": [
    {
     "data": {
      "text/plain": [
       "'List of countries and dependencies and their capitals in native languages - Wikipedia'"
      ]
     },
     "execution_count": 13,
     "metadata": {},
     "output_type": "execute_result"
    }
   ],
   "source": [
    "soup.title.text"
   ]
  },
  {
   "cell_type": "code",
   "execution_count": 16,
   "id": "0d923f74",
   "metadata": {},
   "outputs": [
    {
     "data": {
      "text/plain": [
       "<h1 class=\"firstHeading\" id=\"firstHeading\">List of countries and dependencies and their capitals in native languages</h1>"
      ]
     },
     "execution_count": 16,
     "metadata": {},
     "output_type": "execute_result"
    }
   ],
   "source": [
    "soup.h1"
   ]
  },
  {
   "cell_type": "code",
   "execution_count": 17,
   "id": "55747145",
   "metadata": {},
   "outputs": [
    {
     "data": {
      "text/plain": [
       "<h1 class=\"firstHeading\" id=\"firstHeading\">List of countries and dependencies and their capitals in native languages</h1>"
      ]
     },
     "execution_count": 17,
     "metadata": {},
     "output_type": "execute_result"
    }
   ],
   "source": [
    "soup.find('h1')"
   ]
  },
  {
   "cell_type": "code",
   "execution_count": 21,
   "id": "6804324c",
   "metadata": {},
   "outputs": [
    {
     "data": {
      "text/plain": [
       "[<h1 class=\"firstHeading\" id=\"firstHeading\">List of countries and dependencies and their capitals in native languages</h1>]"
      ]
     },
     "execution_count": 21,
     "metadata": {},
     "output_type": "execute_result"
    }
   ],
   "source": [
    "soup.find_all('h1')"
   ]
  },
  {
   "cell_type": "code",
   "execution_count": 29,
   "id": "b229a5b6",
   "metadata": {},
   "outputs": [],
   "source": [
    "all_tables = soup.find_all('table', attrs = {'class' :'wikitable'})"
   ]
  },
  {
   "cell_type": "code",
   "execution_count": 30,
   "id": "58f6079d",
   "metadata": {},
   "outputs": [
    {
     "data": {
      "text/plain": [
       "25"
      ]
     },
     "execution_count": 30,
     "metadata": {},
     "output_type": "execute_result"
    }
   ],
   "source": [
    "len(all_tables)"
   ]
  },
  {
   "cell_type": "code",
   "execution_count": null,
   "id": "4a5a58b4",
   "metadata": {},
   "outputs": [],
   "source": []
  },
  {
   "cell_type": "code",
   "execution_count": 46,
   "id": "3fa08caf",
   "metadata": {},
   "outputs": [],
   "source": [
    "D_table = all_tables[3].find_all('tr')[1:]"
   ]
  },
  {
   "cell_type": "code",
   "execution_count": 48,
   "id": "4c5ce8fc",
   "metadata": {},
   "outputs": [
    {
     "data": {
      "text/plain": [
       "4"
      ]
     },
     "execution_count": 48,
     "metadata": {},
     "output_type": "execute_result"
    }
   ],
   "source": [
    "len(D_table)"
   ]
  },
  {
   "cell_type": "code",
   "execution_count": 53,
   "id": "08f9270a",
   "metadata": {},
   "outputs": [],
   "source": [
    "all_tds = D_table[0].find_all('td')"
   ]
  },
  {
   "cell_type": "code",
   "execution_count": 54,
   "id": "b483142a",
   "metadata": {},
   "outputs": [
    {
     "data": {
      "text/plain": [
       "5"
      ]
     },
     "execution_count": 54,
     "metadata": {},
     "output_type": "execute_result"
    }
   ],
   "source": [
    "len(all_tds)"
   ]
  },
  {
   "cell_type": "code",
   "execution_count": 75,
   "id": "a9f3c665",
   "metadata": {},
   "outputs": [],
   "source": [
    "country = all_tds[0].text.strip()"
   ]
  },
  {
   "cell_type": "code",
   "execution_count": 76,
   "id": "e981ff84",
   "metadata": {},
   "outputs": [],
   "source": [
    "capital = all_tds[1].text.strip()"
   ]
  },
  {
   "cell_type": "code",
   "execution_count": 77,
   "id": "57956c2b",
   "metadata": {},
   "outputs": [],
   "source": [
    "language = all_tds[-1].text.strip()"
   ]
  },
  {
   "cell_type": "code",
   "execution_count": 78,
   "id": "08c26008",
   "metadata": {},
   "outputs": [
    {
     "name": "stdout",
     "output_type": "stream",
     "text": [
      "Dominican Republic Santo Domingo Spanish\n"
     ]
    }
   ],
   "source": [
    "print(country, capital, language)"
   ]
  },
  {
   "cell_type": "markdown",
   "id": "8a193c57",
   "metadata": {},
   "source": [
    "## For One  Table"
   ]
  },
  {
   "cell_type": "code",
   "execution_count": 74,
   "id": "3f861d6e",
   "metadata": {},
   "outputs": [
    {
     "name": "stdout",
     "output_type": "stream",
     "text": [
      "Denmark Copenhagen Danish\n",
      "\n",
      "Djibouti Djibouti Arabic(Arabic script)FrenchSomaliAfar\n",
      "\n",
      "Dominica Roseau English\n",
      "\n",
      "Dominican Republic Santo Domingo Spanish\n",
      "\n"
     ]
    }
   ],
   "source": [
    "for one_row in D_table:\n",
    "    all_tds = one_row.find_all('td')\n",
    "    \n",
    "    country = all_tds[0].text.strip()\n",
    "    capital = all_tds[1].text.strip()\n",
    "    language = all_tds[-1].text.strip()\n",
    "    \n",
    "    print(country, capital, language)\n",
    "    print()"
   ]
  },
  {
   "cell_type": "markdown",
   "id": "f86869f2",
   "metadata": {},
   "source": [
    "# Iterate over all the tables"
   ]
  },
  {
   "cell_type": "code",
   "execution_count": 84,
   "id": "20d9f728",
   "metadata": {},
   "outputs": [
    {
     "data": {
      "text/html": [
       "<div>\n",
       "<style scoped>\n",
       "    .dataframe tbody tr th:only-of-type {\n",
       "        vertical-align: middle;\n",
       "    }\n",
       "\n",
       "    .dataframe tbody tr th {\n",
       "        vertical-align: top;\n",
       "    }\n",
       "\n",
       "    .dataframe thead th {\n",
       "        text-align: right;\n",
       "    }\n",
       "</style>\n",
       "<table border=\"1\" class=\"dataframe\">\n",
       "  <thead>\n",
       "    <tr style=\"text-align: right;\">\n",
       "      <th></th>\n",
       "      <th>Country</th>\n",
       "      <th>Capital</th>\n",
       "      <th>Language</th>\n",
       "    </tr>\n",
       "  </thead>\n",
       "  <tbody>\n",
       "  </tbody>\n",
       "</table>\n",
       "</div>"
      ],
      "text/plain": [
       "Empty DataFrame\n",
       "Columns: [Country, Capital, Language]\n",
       "Index: []"
      ]
     },
     "execution_count": 84,
     "metadata": {},
     "output_type": "execute_result"
    }
   ],
   "source": [
    "df = pd.DataFrame({}, columns=['Country', 'Capital', 'Language'])\n",
    "df"
   ]
  },
  {
   "cell_type": "code",
   "execution_count": 79,
   "id": "0fb82db8",
   "metadata": {},
   "outputs": [
    {
     "data": {
      "text/plain": [
       "25"
      ]
     },
     "execution_count": 79,
     "metadata": {},
     "output_type": "execute_result"
    }
   ],
   "source": [
    "len(all_tables)"
   ]
  },
  {
   "cell_type": "code",
   "execution_count": 92,
   "id": "f22d0a4c",
   "metadata": {},
   "outputs": [
    {
     "name": "stdout",
     "output_type": "stream",
     "text": [
      "Afghanistan Kabul Pashto/Dari(Arabic script)\n",
      "--------------------------------------------------\n",
      "Albania Tirana Albanian\n",
      "--------------------------------------------------\n",
      "Algeria Algiers Berber language(Tifinagh script)Arabic(Arabic script)\n",
      "--------------------------------------------------\n",
      "American Samoa[1] Pago Pago SamoanEnglish\n",
      "--------------------------------------------------\n",
      "Andorra Andorra la Vella Catalan\n",
      "--------------------------------------------------\n",
      "Angola Luanda Portuguese Kongo\n",
      "--------------------------------------------------\n",
      "Anguilla[2] The Valley English\n",
      "--------------------------------------------------\n",
      "Antigua and Barbuda Saint John's English\n",
      "--------------------------------------------------\n",
      "Argentina Buenos Aires Spanish\n",
      "--------------------------------------------------\n",
      "Armenia Yerevan Armenian(Armenian alphabet)\n",
      "--------------------------------------------------\n",
      "Aruba[3] Oranjestad Dutch, Papiamento\n",
      "--------------------------------------------------\n",
      "Australia Canberra English/ Aboriginal native languages\n",
      "--------------------------------------------------\n",
      "Austria Vienna German\n",
      "--------------------------------------------------\n",
      "Åland Islands[4] Mariehamn SwedishFinnish\n",
      "--------------------------------------------------\n",
      "Azerbaijan Baku Azerbaijani\n",
      "--------------------------------------------------\n",
      "The Bahamas Nassau English\n",
      "--------------------------------------------------\n",
      "Bahrain Manama Arabic(Arabic script)\n",
      "--------------------------------------------------\n",
      "Bangladesh Dhaka Bengali(Bengali script)\n",
      "--------------------------------------------------\n",
      "Barbados Bridgetown English\n",
      "--------------------------------------------------\n",
      "Belarus Minsk Belarusian(Cyrillic script)Russian(Cyrillic script)\n",
      "--------------------------------------------------\n",
      "Belgium Brussels DutchFrenchGerman\n",
      "--------------------------------------------------\n",
      "Belize Belmopan English\n",
      "--------------------------------------------------\n",
      "Benin Porto-Novo French\n",
      "--------------------------------------------------\n",
      "Bermuda[2] Hamilton English\n",
      "--------------------------------------------------\n",
      "Bhutan Thimphu Dzongkha(Tibetan alphabet)\n",
      "--------------------------------------------------\n",
      "Bolivia La Paz SpanishQuechuaAymaraGuaraní\n",
      "--------------------------------------------------\n",
      "Bosnia and Herzegovina Sarajevo Bosnian, Croatian(Latin script), Serbian(Cyrillic script)\n",
      "--------------------------------------------------\n",
      "Botswana Gaborone English, Tswana\n",
      "--------------------------------------------------\n",
      "Brazil Brasília Portuguese\n",
      "--------------------------------------------------\n",
      "British Virgin Islands[2] Road Town English\n",
      "--------------------------------------------------\n",
      "Brunei Bandar Seri Begawan Malay(Jawi script)\n",
      "--------------------------------------------------\n",
      "Bulgaria Sofia Bulgarian(Cyrillic script)\n",
      "--------------------------------------------------\n",
      "Burkina Faso Ouagadougou French\n",
      "--------------------------------------------------\n",
      "Burundi Gitega Kirundi  French\n",
      "--------------------------------------------------\n",
      "Cambodia Phnom Penh Khmer(Khmer script)\n",
      "--------------------------------------------------\n",
      "Cameroon Yaoundé FrenchEnglish\n",
      "--------------------------------------------------\n",
      "Canada Ottawa English, French\n",
      "--------------------------------------------------\n",
      "Cape Verde Praia Portuguese\n",
      "--------------------------------------------------\n",
      "Cayman Islands[2] George Town English\n",
      "--------------------------------------------------\n",
      "Central African Republic Bangui FrenchSango\n",
      "--------------------------------------------------\n",
      "Chad N'Djamena FrenchArabic(Arabic script)\n",
      "--------------------------------------------------\n",
      "Chile Santiago Spanish\n",
      "--------------------------------------------------\n",
      "China (People's Republic of) Beijing Mandarin Chinese(Chinese characters)\n",
      "--------------------------------------------------\n",
      "Christmas Island[6] Flying Fish Cove English\n",
      "--------------------------------------------------\n",
      "Cocos Islands[6] West Island English\n",
      "--------------------------------------------------\n",
      "Colombia Bogotá Spanish\n",
      "--------------------------------------------------\n",
      "Comoros Moroni ShikomorArabic(Arabic script)French\n",
      "--------------------------------------------------\n",
      "Republic of the Congo Brazzaville FrenchKongo Lingala\n",
      "--------------------------------------------------\n",
      "Democratic Republic of the Congo Kinshasa French Kongo Lingala Swahili\n",
      "--------------------------------------------------\n",
      "Cook Islands[7] Avarua English  Cook Islands Māori\n",
      "--------------------------------------------------\n",
      "Costa Rica San José Spanish\n",
      "--------------------------------------------------\n",
      "Côte d'Ivoire(formerly Ivory Coast) Yamoussoukro French\n",
      "--------------------------------------------------\n",
      "Croatia Zagreb Croatian\n",
      "--------------------------------------------------\n",
      "Cuba Havana Spanish\n",
      "--------------------------------------------------\n",
      "Curaçao[3] Willemstad DutchPapiamentoEnglish\n",
      "--------------------------------------------------\n",
      "Cyprus Nicosia Greek(Greek alphabet)Turkish\n",
      "--------------------------------------------------\n",
      "Czech Republic Prague Czech\n",
      "--------------------------------------------------\n",
      "Denmark Copenhagen Danish\n",
      "--------------------------------------------------\n",
      "Djibouti Djibouti Arabic(Arabic script)FrenchSomaliAfar\n",
      "--------------------------------------------------\n",
      "Dominica Roseau English\n",
      "--------------------------------------------------\n",
      "Dominican Republic Santo Domingo Spanish\n",
      "--------------------------------------------------\n",
      "East Timor Díli TetumPortuguese\n",
      "--------------------------------------------------\n",
      "Ecuador Quito Spanish\n",
      "--------------------------------------------------\n",
      "Egypt Cairo Arabic(Arabic script)\n",
      "--------------------------------------------------\n",
      "El Salvador San Salvador Spanish\n",
      "--------------------------------------------------\n",
      "Equatorial Guinea Malabo Spanish  French  Portuguese\n",
      "--------------------------------------------------\n",
      "Eritrea Asmara Arabic(Arabic script)Tigrinya(Ge'ez script)\n",
      "--------------------------------------------------\n",
      "Estonia Tallinn Estonian\n",
      "--------------------------------------------------\n",
      "Eswatini(formerly Swaziland) Mbabane EnglishSwazi\n",
      "--------------------------------------------------\n",
      "Ethiopia Addis Ababa Amharic(Ge'ez script)\n",
      "--------------------------------------------------\n",
      "Falkland Islands[2] Stanley English\n",
      "--------------------------------------------------\n",
      "Faroe Islands[8] Tórshavn FaroeseDanish\n",
      "--------------------------------------------------\n",
      "Fiji Suva EnglishFijianFiji Hindi\n",
      "--------------------------------------------------\n",
      "Finland Helsinki FinnishSwedish\n",
      "--------------------------------------------------\n",
      "France Paris French\n",
      "--------------------------------------------------\n",
      "French Guiana[9] Cayenne French\n",
      "--------------------------------------------------\n",
      "French Polynesia[10] Papeete French\n",
      "--------------------------------------------------\n",
      "Gabon Libreville French\n",
      "--------------------------------------------------\n",
      "The Gambia Banjul English\n",
      "--------------------------------------------------\n",
      "Georgia Tbilisi Georgian(Georgian alphabet)\n",
      "--------------------------------------------------\n",
      "Germany Berlin German\n",
      "--------------------------------------------------\n",
      "Ghana Accra EnglishAkanTwiEwe\n",
      "--------------------------------------------------\n",
      "Gibraltar[2] Gibraltar English\n",
      "--------------------------------------------------\n",
      "Greece Athens Greek(Greek alphabet)\n",
      "--------------------------------------------------\n",
      "Greenland[8] Nuuk GreenlandicDanish\n",
      "--------------------------------------------------\n",
      "Grenada St. George's English\n",
      "--------------------------------------------------\n",
      "Guadeloupe[9] Basse-Terre French\n",
      "--------------------------------------------------\n",
      "Guam[1] Hagåtñaformerly Agaña EnglishChamorro\n",
      "--------------------------------------------------\n",
      "Guatemala Guatemala City Spanish\n",
      "--------------------------------------------------\n",
      "Guernsey[11] Saint Peter Port English\n",
      "--------------------------------------------------\n",
      "Guinea Conakry FrenchManinka, SusuPular\n",
      "--------------------------------------------------\n",
      "Guinea-Bissau Bissau Portuguese\n",
      "--------------------------------------------------\n",
      "Guyana Georgetown English\n",
      "--------------------------------------------------\n",
      "Haiti Port-au-Prince FrenchHaitian Creole\n",
      "--------------------------------------------------\n",
      "Honduras Tegucigalpa Spanish\n",
      "--------------------------------------------------\n",
      "Hong Kong[12] Hong Kong EnglishCantonese(Traditional Chinese characters)\n",
      "--------------------------------------------------\n",
      "Hungary Budapest Hungarian\n",
      "--------------------------------------------------\n",
      "Iceland Reykjavík Icelandic\n",
      "--------------------------------------------------\n",
      "India New Delhi Assamese(Assamese script)Bengali(Bengali script)EnglishGujarati(Gujarāti script)Hindi(Devanagari script)Kannada(Kannada script)Konkani(Devanagari script)Malayalam(Malayalam script)Marathi(Devanagari script)Nepalese(Devanagari script)Odia(Odia script)Punjabi(Gurmukhi script)Sanskrit(Devanagari script)Tamil(Tamil script)Telugu(Telugu script)\n",
      "--------------------------------------------------\n",
      "Indonesia Jakarta Bahasa Indonesia\n",
      "--------------------------------------------------\n",
      "Iran Tehran Persian(Persian script)\n",
      "--------------------------------------------------\n",
      "Iraq Baghdad Arabic(Arabic script)Kurdish\n",
      "--------------------------------------------------\n",
      "Ireland Dublin IrishEnglish\n",
      "--------------------------------------------------\n",
      "Isle of Man[11] Douglas EnglishManx\n",
      "--------------------------------------------------\n",
      "Israel Jerusalem (declared)[a] Hebrew(Hebrew script)Arabic(Arabic script)\n",
      "--------------------------------------------------\n",
      "Italy Rome Italian\n",
      "--------------------------------------------------\n",
      "Jamaica Kingston English\n",
      "--------------------------------------------------\n",
      "Japan Tokyo Japanese(Japanese characters)\n",
      "--------------------------------------------------\n",
      "Jersey[11] St. Helier EnglishFrenchJèrriais\n",
      "--------------------------------------------------\n",
      "Jordan Amman Arabic(Arabic script)\n",
      "--------------------------------------------------\n",
      "Kazakhstan Nur-Sultan Kazakh(Cyrillic script)Russian(Cyrillic script)\n",
      "--------------------------------------------------\n",
      "Kenya Nairobi English, Swahili\n",
      "--------------------------------------------------\n",
      "Kiribati Tarawa[13] English, Gilbertese\n",
      "--------------------------------------------------\n",
      "North Korea Pyongyang Korean(Hangul/Hanja)\n",
      "--------------------------------------------------\n",
      "South Korea Seoul Korean(Hangul/Hanja)\n",
      "--------------------------------------------------\n",
      "Kosovo[14] Pristina Albanian  Serbian (Latin)  Serbian (Cyrillic)\n",
      "--------------------------------------------------\n",
      "Kuwait Kuwait City Arabic (Official)(Arabic script) Kuwaiti Gulf Arabic (native)(Arabic script)\n",
      "--------------------------------------------------\n",
      "Kyrgyzstan Bishkek Kyrgyz(Cyrillic script)Russian(Cyrillic script)\n",
      "--------------------------------------------------\n",
      "Laos Vientiane LaoLao alphabet\n",
      "--------------------------------------------------\n",
      "Latvia Riga Latvian\n",
      "--------------------------------------------------\n",
      "Lebanon Beirut Arabic(Arabic script)\n",
      "French\n",
      "--------------------------------------------------\n",
      "Lesotho Maseru Sesotho, English\n",
      "--------------------------------------------------\n",
      "Liberia Monrovia English\n",
      "--------------------------------------------------\n",
      "Libya Tripoli Berber language(Tifinagh script)Arabic(Arabic script)\n",
      "--------------------------------------------------\n",
      "Liechtenstein Vaduz German\n",
      "--------------------------------------------------\n",
      "Lithuania Vilnius Lithuanian\n",
      "--------------------------------------------------\n",
      "Luxembourg Luxembourg LuxembourgishGermanFrench\n",
      "--------------------------------------------------\n",
      "Macau[12] Macau Cantonese(Traditional Chinese characters) Portuguese\n",
      "--------------------------------------------------\n",
      "Madagascar Antananarivo MalagasyFrench\n",
      "--------------------------------------------------\n",
      "Malawi Lilongwe English  Chichewa\n",
      "--------------------------------------------------\n",
      "Malaysia Kuala Lumpur Malay\n",
      "--------------------------------------------------\n",
      "Maldives Malé Dhivehi(Thaana script)\n",
      "--------------------------------------------------\n",
      "Mali Bamako FrenchBambara\n",
      "--------------------------------------------------\n",
      "Malta Valletta Maltese  English\n",
      "--------------------------------------------------\n",
      "Marshall Islands Majuro English Marshallese\n",
      "--------------------------------------------------\n",
      "Martinique[9] Fort-de-France French\n",
      "--------------------------------------------------\n",
      "Mauritania Nouakchott Berber language(Tifinagh script)Arabic(Arabic script)\n",
      "--------------------------------------------------\n",
      "Mauritius Port Louis EnglishFrenchMauritian Creole\n",
      "--------------------------------------------------\n",
      "Mayotte[9] Mamoudzou FrenchShimaore\n",
      "--------------------------------------------------\n",
      "Mexico Mexico City SpanishNahuatl\n",
      "--------------------------------------------------\n",
      "Federated States of Micronesia Palikir English\n",
      "--------------------------------------------------\n",
      "Moldova Chișinău Romanian\n",
      "--------------------------------------------------\n",
      "Monaco Monaco French  Monégasque\n",
      "--------------------------------------------------\n",
      "Mongolia Ulaanbaatar Mongolian(Cyrillic script)(Mongol script)\n",
      "--------------------------------------------------\n"
     ]
    },
    {
     "name": "stdout",
     "output_type": "stream",
     "text": [
      "Montenegro Podgorica Montenegrin\n",
      "--------------------------------------------------\n",
      "Montserrat[2] Brades Estate[15] English\n",
      "--------------------------------------------------\n",
      "Morocco Rabat Berber language(Tifinagh script)Arabic(Arabic script)\n",
      "--------------------------------------------------\n",
      "Mozambique Maputo Portuguese\n",
      "--------------------------------------------------\n",
      "Myanmar (or Burma) Naypyidaw Burmese(Burmese alphabet)\n",
      "--------------------------------------------------\n",
      "Namibia Windhoek EnglishGermanAfrikaansDamara/NamaHerero\n",
      "--------------------------------------------------\n",
      "Nauru Yaren (de facto)[16] EnglishNauruan\n",
      "--------------------------------------------------\n",
      "Nepal Kathmandu NepaleseDevanagari\n",
      "--------------------------------------------------\n",
      "Netherlands Amsterdam DutchWest Frisian\n",
      "--------------------------------------------------\n",
      "New Caledonia[17] Nouméa French\n",
      "--------------------------------------------------\n",
      "New Zealand[18] Wellington EnglishMāori\n",
      "--------------------------------------------------\n",
      "Nicaragua Managua Spanish\n",
      "--------------------------------------------------\n",
      "Niger Niamey French\n",
      "--------------------------------------------------\n",
      "Nigeria Abuja English Hausa Igbo Yoruba\n",
      "--------------------------------------------------\n",
      "Niue[7] Alofi NiueanEnglish\n",
      "--------------------------------------------------\n",
      "Norfolk Island[6] Kingston English Norfuk\n",
      "--------------------------------------------------\n",
      "North Macedonia Skopje Macedonian(Cyrillic script)Albanian\n",
      "--------------------------------------------------\n",
      "Northern Mariana Islands[1] Saipan English Chamorro\n",
      "--------------------------------------------------\n",
      "Norway Oslo Norwegian BokmålNorwegian NynorskNorthern SamiLule SamiSouthern Sami\n",
      "--------------------------------------------------\n",
      "Oman Muscat Arabic(Arabic script)\n",
      "--------------------------------------------------\n",
      "Pakistan Islamabad EnglishUrdu(Arabic script [Nastaʿlīq hand])\n",
      "--------------------------------------------------\n",
      "Palau Ngerulmud EnglishPalauan\n",
      "--------------------------------------------------\n",
      "Palestine[14] East Jerusalem (declared)  Ramallah (administrative capital)[b] Arabic(Arabic script)\n",
      "--------------------------------------------------\n",
      "Panama Panama City Spanish\n",
      "--------------------------------------------------\n",
      "Papua New Guinea Port Moresby EnglishTok PisinHiri Motu\n",
      "--------------------------------------------------\n",
      "Paraguay Asunción SpanishGuaraní\n",
      "--------------------------------------------------\n",
      "Peru Lima SpanishQuechua/Aymara\n",
      "--------------------------------------------------\n",
      "Philippines Manila FilipinoEnglish\n",
      "--------------------------------------------------\n",
      "Pitcairn Islands[2] Adamstown English Pitcairnese\n",
      "--------------------------------------------------\n",
      "Poland Warsaw Polish\n",
      "--------------------------------------------------\n",
      "Portugal Lisbon Portuguese\n",
      "--------------------------------------------------\n",
      "Puerto Rico[1] San Juan English, Spanish\n",
      "--------------------------------------------------\n",
      "Qatar Doha Arabic(Arabic script)\n",
      "--------------------------------------------------\n",
      "Réunion[9] Saint-Denis French\n",
      "--------------------------------------------------\n",
      "Romania Bucharest Romanian\n",
      "--------------------------------------------------\n",
      "Russia Moscow Russian(Cyrillic script)\n",
      "--------------------------------------------------\n",
      "Rwanda Kigali French, Kinyarwanda, Swahili, English\n",
      "--------------------------------------------------\n",
      "Sahrawi Arab Democratic Republic[14] Laayoune Arabic(Arabic script)SpanishFrench\n",
      "--------------------------------------------------\n",
      "Saint Barthélemy[10] Gustavia French\n",
      "--------------------------------------------------\n",
      "Saint Helena, Ascension and Tristan da Cunha[2] Jamestown English\n",
      "--------------------------------------------------\n",
      "Saint Kitts and Nevis Basseterre English\n",
      "--------------------------------------------------\n",
      "Saint Martin[10] Marigot French\n",
      "--------------------------------------------------\n",
      "Saint Lucia Castries English\n",
      "--------------------------------------------------\n",
      "Saint Pierre and Miquelon[10] Saint-Pierre French\n",
      "--------------------------------------------------\n",
      "Saint Vincent and the Grenadines Kingstown English\n",
      "--------------------------------------------------\n",
      "Samoa Apia EnglishSamoan\n",
      "--------------------------------------------------\n",
      "San Marino San Marino Italian\n",
      "--------------------------------------------------\n",
      "São Tomé and Príncipe São Tomé Portuguese\n",
      "--------------------------------------------------\n",
      "Saudi Arabia Riyadh Arabic(Arabic script)\n",
      "--------------------------------------------------\n",
      "Senegal Dakar FrenchWolof\n",
      "--------------------------------------------------\n",
      "Serbia Belgrade Serbian(Cyrillic script)\n",
      "--------------------------------------------------\n",
      "Seychelles Victoria Seychellois CreoleFrenchEnglish\n",
      "--------------------------------------------------\n",
      "Sierra Leone Freetown English\n",
      "--------------------------------------------------\n",
      "Singapore Singapore MalayEnglishMandarin Chinese(Simplified Chinese characters)Tamil(Tamil script)\n",
      "--------------------------------------------------\n",
      "Sint Maarten[3] Philipsburg DutchEnglish\n",
      "--------------------------------------------------\n",
      "Slovakia Bratislava Slovak\n",
      "--------------------------------------------------\n",
      "Slovenia Ljubljana Slovene\n",
      "--------------------------------------------------\n",
      "Solomon Islands Honiara EnglishNeo-Solomonic\n",
      "--------------------------------------------------\n",
      "Somalia Mogadishu SomaliArabic(Arabic script)\n",
      "--------------------------------------------------\n",
      "South Africa Pretoria (administrative capital), Cape Town (legislative capital), Bloemfontein, (judicial capital) EnglishAfrikaansisiZuluisiXhosaPediSothoTswanaVendaTsongaSwaziNdebele\n",
      "--------------------------------------------------\n",
      "South Sudan Juba English Swahili  Dinka\n",
      "--------------------------------------------------\n",
      "Spain Madrid Spanish, GalicianCatalanBasqueAranese, Galician (R)\n",
      "--------------------------------------------------\n",
      "Sri Lanka Sri Jayawardenapura Kotte SinhalaTamil\n",
      "--------------------------------------------------\n",
      "Sudan Khartoum Arabic(Arabic script)\n",
      "--------------------------------------------------\n",
      "Suriname Paramaribo Dutch\n",
      "--------------------------------------------------\n",
      "Svalbard[19] Longyearbyen Norwegian\n",
      "--------------------------------------------------\n",
      "Sweden Stockholm Swedish\n",
      "--------------------------------------------------\n",
      "Switzerland Bern (de facto)[16] GermanFrenchItalianRomansh\n",
      "--------------------------------------------------\n",
      "Syria Damascus Arabic(Arabic script)\n",
      "--------------------------------------------------\n",
      "Taiwan (Republic of China)[14] Taipei Chinese(Traditional Chinese characters)\n",
      "--------------------------------------------------\n",
      "Tajikistan Dushanbe Tajiki-Persian(Cyrillic)\n",
      "--------------------------------------------------\n",
      "Tanzania Dodoma English, Swahili\n",
      "--------------------------------------------------\n",
      "Thailand Bangkok Thai(Thai script)\n",
      "--------------------------------------------------\n",
      "Togo Lomé French Ewe  Kabiye\n",
      "--------------------------------------------------\n",
      "Tokelau[20]  English, Tokelauan\n",
      "--------------------------------------------------\n",
      "Tonga Nukuʻalofa Tongan, English\n",
      "--------------------------------------------------\n",
      "Trinidad and Tobago Port of Spain English\n",
      "--------------------------------------------------\n",
      "Tunisia Tunis Berber language(Tifinagh script)Arabic(Arabic script)\n",
      "--------------------------------------------------\n",
      "Turkey Ankara Turkish\n",
      "--------------------------------------------------\n",
      "Turkmenistan Ashgabat Turkmen\n",
      "--------------------------------------------------\n",
      "Turks and Caicos Islands[2] Cockburn Town English\n",
      "--------------------------------------------------\n",
      "Tuvalu Fongafale (in Funafuti) English, Tuvaluan\n",
      "--------------------------------------------------\n",
      "Uganda Kampala English, Swahili\n",
      "--------------------------------------------------\n",
      "Ukraine Kyiv Ukrainian(Cyrillic script)\n",
      "--------------------------------------------------\n",
      "United Arab Emirates Abu Dhabi Arabic(Arabic script)\n",
      "--------------------------------------------------\n",
      "United Kingdom London EnglishWelshScotsScots GaelicIrishCornish\n",
      "--------------------------------------------------\n",
      "United States Washington, D.C. EnglishSpanishCajun FrenchIndigenousHawaiian\n",
      "--------------------------------------------------\n",
      "United States Virgin Islands[1] Charlotte Amalie English\n",
      "--------------------------------------------------\n",
      "Uruguay Montevideo Spanish\n",
      "--------------------------------------------------\n",
      "Uzbekistan Tashkent Uzbek(Cyrillic script)\n",
      "--------------------------------------------------\n",
      "Vanuatu Port Vila French\n",
      "--------------------------------------------------\n",
      "Vatican City Vatican City LatinItalian\n",
      "--------------------------------------------------\n",
      "Venezuela Caracas Spanish\n",
      "--------------------------------------------------\n",
      "Vietnam Hanoi Vietnamese\n",
      "--------------------------------------------------\n",
      "Wallis and Futuna[10] Mata Utu FrenchWallisianFutunan\n",
      "--------------------------------------------------\n",
      "Yemen Sana'a Arabic(Arabic script)\n",
      "--------------------------------------------------\n",
      "Zambia Lusaka English, Bemba, Chewa\n",
      "--------------------------------------------------\n",
      "Zimbabwe Harare English, Shona\n",
      "--------------------------------------------------\n"
     ]
    }
   ],
   "source": [
    "for one_table in all_tables:\n",
    "    all_rows = one_table.find_all('tr')[1:]\n",
    "    \n",
    "    for one_row in all_rows:\n",
    "        all_tds = one_row.find_all('td')\n",
    "\n",
    "        country = all_tds[0].text.strip()\n",
    "        capital = all_tds[1].text.strip()\n",
    "        language = all_tds[-1].text.strip()\n",
    "        \n",
    "        ele = {'Country': country, 'Capital':capital, 'Language' : language}\n",
    "        \n",
    "        df = df.append(ele, ignore_index=True )\n",
    "        \n",
    "        print(country, capital, language)\n",
    "        print('-'*50)"
   ]
  },
  {
   "cell_type": "code",
   "execution_count": null,
   "id": "b1fefade",
   "metadata": {},
   "outputs": [],
   "source": []
  },
  {
   "cell_type": "code",
   "execution_count": 94,
   "id": "96c0e8c5",
   "metadata": {},
   "outputs": [
    {
     "data": {
      "text/html": [
       "<div>\n",
       "<style scoped>\n",
       "    .dataframe tbody tr th:only-of-type {\n",
       "        vertical-align: middle;\n",
       "    }\n",
       "\n",
       "    .dataframe tbody tr th {\n",
       "        vertical-align: top;\n",
       "    }\n",
       "\n",
       "    .dataframe thead th {\n",
       "        text-align: right;\n",
       "    }\n",
       "</style>\n",
       "<table border=\"1\" class=\"dataframe\">\n",
       "  <thead>\n",
       "    <tr style=\"text-align: right;\">\n",
       "      <th></th>\n",
       "      <th>Country</th>\n",
       "      <th>Capital</th>\n",
       "      <th>Language</th>\n",
       "    </tr>\n",
       "  </thead>\n",
       "  <tbody>\n",
       "    <tr>\n",
       "      <th>0</th>\n",
       "      <td>Afghanistan</td>\n",
       "      <td>Kabul</td>\n",
       "      <td>Pashto/Dari(Arabic script)</td>\n",
       "    </tr>\n",
       "    <tr>\n",
       "      <th>1</th>\n",
       "      <td>Albania</td>\n",
       "      <td>Tirana</td>\n",
       "      <td>Albanian</td>\n",
       "    </tr>\n",
       "    <tr>\n",
       "      <th>2</th>\n",
       "      <td>Algeria</td>\n",
       "      <td>Algiers</td>\n",
       "      <td>Berber language(Tifinagh script)Arabic(Arabic ...</td>\n",
       "    </tr>\n",
       "    <tr>\n",
       "      <th>3</th>\n",
       "      <td>American Samoa[1]</td>\n",
       "      <td>Pago Pago</td>\n",
       "      <td>SamoanEnglish</td>\n",
       "    </tr>\n",
       "    <tr>\n",
       "      <th>4</th>\n",
       "      <td>Andorra</td>\n",
       "      <td>Andorra la Vella</td>\n",
       "      <td>Catalan</td>\n",
       "    </tr>\n",
       "  </tbody>\n",
       "</table>\n",
       "</div>"
      ],
      "text/plain": [
       "             Country           Capital  \\\n",
       "0        Afghanistan             Kabul   \n",
       "1            Albania            Tirana   \n",
       "2            Algeria           Algiers   \n",
       "3  American Samoa[1]         Pago Pago   \n",
       "4            Andorra  Andorra la Vella   \n",
       "\n",
       "                                            Language  \n",
       "0                         Pashto/Dari(Arabic script)  \n",
       "1                                           Albanian  \n",
       "2  Berber language(Tifinagh script)Arabic(Arabic ...  \n",
       "3                                      SamoanEnglish  \n",
       "4                                            Catalan  "
      ]
     },
     "execution_count": 94,
     "metadata": {},
     "output_type": "execute_result"
    }
   ],
   "source": [
    "df.head()"
   ]
  },
  {
   "cell_type": "code",
   "execution_count": null,
   "id": "1743098b",
   "metadata": {},
   "outputs": [],
   "source": []
  },
  {
   "cell_type": "code",
   "execution_count": 104,
   "id": "9a04b039",
   "metadata": {},
   "outputs": [],
   "source": [
    "import re"
   ]
  },
  {
   "cell_type": "code",
   "execution_count": 105,
   "id": "5ca56f72",
   "metadata": {},
   "outputs": [],
   "source": [
    "s = \"Heeloworld[10]\""
   ]
  },
  {
   "cell_type": "code",
   "execution_count": 112,
   "id": "4752273d",
   "metadata": {},
   "outputs": [
    {
     "data": {
      "text/plain": [
       "'Heeloworld'"
      ]
     },
     "execution_count": 112,
     "metadata": {},
     "output_type": "execute_result"
    }
   ],
   "source": [
    "re.sub(\"[^a-z A-Z]\", \"\", s )"
   ]
  },
  {
   "cell_type": "code",
   "execution_count": 118,
   "id": "39ac2da7",
   "metadata": {},
   "outputs": [
    {
     "data": {
      "text/plain": [
       "'Heeloworld'"
      ]
     },
     "execution_count": 118,
     "metadata": {},
     "output_type": "execute_result"
    }
   ],
   "source": [
    "re.sub('\\[.*\\]', \"\", s)"
   ]
  },
  {
   "cell_type": "code",
   "execution_count": 114,
   "id": "998ac250",
   "metadata": {},
   "outputs": [
    {
     "data": {
      "text/plain": [
       "0            Afghanistan\n",
       "1                Albania\n",
       "2                Algeria\n",
       "3         American Samoa\n",
       "4                Andorra\n",
       "             ...        \n",
       "237              Vietnam\n",
       "238    Wallis and Futuna\n",
       "239                Yemen\n",
       "240               Zambia\n",
       "241             Zimbabwe\n",
       "Name: Country, Length: 242, dtype: object"
      ]
     },
     "execution_count": 114,
     "metadata": {},
     "output_type": "execute_result"
    }
   ],
   "source": [
    "df['Country'].apply(lambda x : re.sub(\"[^a-z A-Z]\", \"\", x ) )"
   ]
  },
  {
   "cell_type": "code",
   "execution_count": 115,
   "id": "4d072472",
   "metadata": {},
   "outputs": [],
   "source": [
    "df['Country'] = df['Country'].apply(lambda x : re.sub(\"[^a-z A-Z]\", \"\", x ) )"
   ]
  },
  {
   "cell_type": "code",
   "execution_count": 116,
   "id": "ba56248c",
   "metadata": {},
   "outputs": [
    {
     "data": {
      "text/html": [
       "<div>\n",
       "<style scoped>\n",
       "    .dataframe tbody tr th:only-of-type {\n",
       "        vertical-align: middle;\n",
       "    }\n",
       "\n",
       "    .dataframe tbody tr th {\n",
       "        vertical-align: top;\n",
       "    }\n",
       "\n",
       "    .dataframe thead th {\n",
       "        text-align: right;\n",
       "    }\n",
       "</style>\n",
       "<table border=\"1\" class=\"dataframe\">\n",
       "  <thead>\n",
       "    <tr style=\"text-align: right;\">\n",
       "      <th></th>\n",
       "      <th>Country</th>\n",
       "      <th>Capital</th>\n",
       "      <th>Language</th>\n",
       "    </tr>\n",
       "  </thead>\n",
       "  <tbody>\n",
       "    <tr>\n",
       "      <th>0</th>\n",
       "      <td>Afghanistan</td>\n",
       "      <td>Kabul</td>\n",
       "      <td>Pashto/Dari(Arabic script)</td>\n",
       "    </tr>\n",
       "    <tr>\n",
       "      <th>1</th>\n",
       "      <td>Albania</td>\n",
       "      <td>Tirana</td>\n",
       "      <td>Albanian</td>\n",
       "    </tr>\n",
       "    <tr>\n",
       "      <th>2</th>\n",
       "      <td>Algeria</td>\n",
       "      <td>Algiers</td>\n",
       "      <td>Berber language(Tifinagh script)Arabic(Arabic ...</td>\n",
       "    </tr>\n",
       "    <tr>\n",
       "      <th>3</th>\n",
       "      <td>American Samoa</td>\n",
       "      <td>Pago Pago</td>\n",
       "      <td>SamoanEnglish</td>\n",
       "    </tr>\n",
       "    <tr>\n",
       "      <th>4</th>\n",
       "      <td>Andorra</td>\n",
       "      <td>Andorra la Vella</td>\n",
       "      <td>Catalan</td>\n",
       "    </tr>\n",
       "    <tr>\n",
       "      <th>...</th>\n",
       "      <td>...</td>\n",
       "      <td>...</td>\n",
       "      <td>...</td>\n",
       "    </tr>\n",
       "    <tr>\n",
       "      <th>237</th>\n",
       "      <td>Vietnam</td>\n",
       "      <td>Hanoi</td>\n",
       "      <td>Vietnamese</td>\n",
       "    </tr>\n",
       "    <tr>\n",
       "      <th>238</th>\n",
       "      <td>Wallis and Futuna</td>\n",
       "      <td>Mata Utu</td>\n",
       "      <td>FrenchWallisianFutunan</td>\n",
       "    </tr>\n",
       "    <tr>\n",
       "      <th>239</th>\n",
       "      <td>Yemen</td>\n",
       "      <td>Sana'a</td>\n",
       "      <td>Arabic(Arabic script)</td>\n",
       "    </tr>\n",
       "    <tr>\n",
       "      <th>240</th>\n",
       "      <td>Zambia</td>\n",
       "      <td>Lusaka</td>\n",
       "      <td>English, Bemba, Chewa</td>\n",
       "    </tr>\n",
       "    <tr>\n",
       "      <th>241</th>\n",
       "      <td>Zimbabwe</td>\n",
       "      <td>Harare</td>\n",
       "      <td>English, Shona</td>\n",
       "    </tr>\n",
       "  </tbody>\n",
       "</table>\n",
       "<p>242 rows × 3 columns</p>\n",
       "</div>"
      ],
      "text/plain": [
       "               Country           Capital  \\\n",
       "0          Afghanistan             Kabul   \n",
       "1              Albania            Tirana   \n",
       "2              Algeria           Algiers   \n",
       "3       American Samoa         Pago Pago   \n",
       "4              Andorra  Andorra la Vella   \n",
       "..                 ...               ...   \n",
       "237            Vietnam             Hanoi   \n",
       "238  Wallis and Futuna          Mata Utu   \n",
       "239              Yemen            Sana'a   \n",
       "240             Zambia            Lusaka   \n",
       "241           Zimbabwe            Harare   \n",
       "\n",
       "                                              Language  \n",
       "0                           Pashto/Dari(Arabic script)  \n",
       "1                                             Albanian  \n",
       "2    Berber language(Tifinagh script)Arabic(Arabic ...  \n",
       "3                                        SamoanEnglish  \n",
       "4                                              Catalan  \n",
       "..                                                 ...  \n",
       "237                                         Vietnamese  \n",
       "238                             FrenchWallisianFutunan  \n",
       "239                              Arabic(Arabic script)  \n",
       "240                              English, Bemba, Chewa  \n",
       "241                                     English, Shona  \n",
       "\n",
       "[242 rows x 3 columns]"
      ]
     },
     "execution_count": 116,
     "metadata": {},
     "output_type": "execute_result"
    }
   ],
   "source": [
    "df"
   ]
  },
  {
   "cell_type": "code",
   "execution_count": 117,
   "id": "63859dcd",
   "metadata": {},
   "outputs": [],
   "source": [
    "df.to_csv('country.csv', index = False)"
   ]
  },
  {
   "cell_type": "code",
   "execution_count": null,
   "id": "1cd6e2ef",
   "metadata": {},
   "outputs": [],
   "source": []
  }
 ],
 "metadata": {
  "kernelspec": {
   "display_name": "Python 3",
   "language": "python",
   "name": "python3"
  },
  "language_info": {
   "codemirror_mode": {
    "name": "ipython",
    "version": 3
   },
   "file_extension": ".py",
   "mimetype": "text/x-python",
   "name": "python",
   "nbconvert_exporter": "python",
   "pygments_lexer": "ipython3",
   "version": "3.8.8"
  }
 },
 "nbformat": 4,
 "nbformat_minor": 5
}
