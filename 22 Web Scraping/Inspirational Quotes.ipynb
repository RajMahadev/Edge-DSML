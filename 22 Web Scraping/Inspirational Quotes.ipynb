{
 "cells": [
  {
   "cell_type": "markdown",
   "id": "60478a6a",
   "metadata": {},
   "source": [
    "- https://www.passiton.com/inspirational-quotes?page=1\n",
    "- https://www.passiton.com/inspirational-quotes?page=2\n",
    "- ...\n",
    "- ...\n",
    "- https://www.passiton.com/inspirational-quotes?page=124"
   ]
  },
  {
   "cell_type": "code",
   "execution_count": 1,
   "id": "59d46e44",
   "metadata": {},
   "outputs": [],
   "source": [
    "import requests"
   ]
  },
  {
   "cell_type": "code",
   "execution_count": 2,
   "id": "29bcef8c",
   "metadata": {},
   "outputs": [],
   "source": [
    "from bs4 import BeautifulSoup"
   ]
  },
  {
   "cell_type": "code",
   "execution_count": 3,
   "id": "f2f5a6d0",
   "metadata": {},
   "outputs": [],
   "source": [
    "url = \"https://www.passiton.com/inspirational-quotes?page=1\""
   ]
  },
  {
   "cell_type": "code",
   "execution_count": 5,
   "id": "17264548",
   "metadata": {},
   "outputs": [],
   "source": [
    "soup = BeautifulSoup(requests.get(url).content)"
   ]
  },
  {
   "cell_type": "code",
   "execution_count": 7,
   "id": "7b094b56",
   "metadata": {},
   "outputs": [],
   "source": [
    "all_quotes = soup.find('div', attrs={'id': \"all_quotes\"})"
   ]
  },
  {
   "cell_type": "code",
   "execution_count": null,
   "id": "fa0712df",
   "metadata": {},
   "outputs": [],
   "source": []
  },
  {
   "cell_type": "code",
   "execution_count": 10,
   "id": "1cb0e67b",
   "metadata": {},
   "outputs": [],
   "source": [
    "all_images = all_quotes.find_all('img')"
   ]
  },
  {
   "cell_type": "code",
   "execution_count": 16,
   "id": "cbd92ec2",
   "metadata": {},
   "outputs": [
    {
     "data": {
      "text/plain": [
       "'https://assets.passiton.com/quotes/quote_artwork/7567/medium/20211126_friday_quote.jpg?1637301230'"
      ]
     },
     "execution_count": 16,
     "metadata": {},
     "output_type": "execute_result"
    }
   ],
   "source": [
    "all_images[0].attrs['src']"
   ]
  },
  {
   "cell_type": "code",
   "execution_count": 17,
   "id": "dd7794d9",
   "metadata": {},
   "outputs": [
    {
     "name": "stdout",
     "output_type": "stream",
     "text": [
      "https://assets.passiton.com/quotes/quote_artwork/7567/medium/20211126_friday_quote.jpg?1637301230\n",
      "https://assets.passiton.com/quotes/quote_artwork/7427/medium/20211125_thursday_quote.jpg?1637301183\n",
      "https://assets.passiton.com/quotes/quote_artwork/7426/medium/20211124_wednesday_quote.jpg?1637300980\n",
      "https://assets.passiton.com/quotes/quote_artwork/8283/medium/20211123_tuesday_quote.jpg?1637300949\n",
      "https://assets.passiton.com/quotes/quote_artwork/7424/medium/20211122_monday_quote.jpg?1637300918\n",
      "https://assets.passiton.com/quotes/quote_artwork/8282/medium/20211119_friday_quote.jpg?1636743913\n",
      "https://assets.passiton.com/quotes/quote_artwork/7039/medium/20211118_thursday_quote.jpg?1636743886\n",
      "https://assets.passiton.com/quotes/quote_artwork/8281/medium/20211117_wednesday_quote.jpg?1636743860\n",
      "https://assets.passiton.com/quotes/quote_artwork/8280/medium/20211116_tuesday_quote.jpg?1636743836\n",
      "https://assets.passiton.com/quotes/quote_artwork/7922/medium/20211115_monday_quote.jpg?1636743810\n",
      "https://assets.passiton.com/quotes/quote_artwork/8030/medium/20201112_friday_quote.jpg?1636143095\n",
      "https://assets.passiton.com/quotes/quote_artwork/8279/medium/20201111_thursday_quote.jpg?1636142954\n",
      "https://assets.passiton.com/quotes/quote_artwork/7829/medium/20201110_wednesday_quote.jpg?1636142920\n",
      "https://assets.passiton.com/quotes/quote_artwork/8278/medium/20201109_tuesday_quote.jpg?1636142894\n",
      "https://assets.passiton.com/quotes/quote_artwork/8277/medium/20201108_monday_quote.jpg?1636142868\n",
      "https://assets.passiton.com/quotes/quote_artwork/8276/medium/20211105_friday_quote.jpg?1635457574\n",
      "https://assets.passiton.com/quotes/quote_artwork/7896/medium/20211104_thursday_quote.jpg?1635457542\n",
      "https://assets.passiton.com/quotes/quote_artwork/7899/medium/20211103_wednesday_quote.jpg?1635457515\n",
      "https://assets.passiton.com/quotes/quote_artwork/5504/medium/20211102_tuesday_quote.jpg?1635457492\n",
      "https://assets.passiton.com/quotes/quote_artwork/7990/medium/20211101_monday_quote.jpg?1635457465\n",
      "https://assets.passiton.com/quotes/quote_artwork/8275/medium/20211029_friday_quote.jpg?1634921264\n",
      "https://assets.passiton.com/quotes/quote_artwork/8274/medium/20211028_thursday_quote.jpg?1634921240\n",
      "https://assets.passiton.com/quotes/quote_artwork/8273/medium/20211027_wednesday_quote.jpg?1634921218\n",
      "https://assets.passiton.com/quotes/quote_artwork/7404/medium/20211026_tuesday_quote.jpg?1634921196\n",
      "https://assets.passiton.com/quotes/quote_artwork/8272/medium/20211025_monday_quote.jpg?1634921166\n",
      "https://assets.passiton.com/quotes/quote_artwork/7676/medium/20211022_friday_quote.jpg?1634252268\n",
      "https://assets.passiton.com/quotes/quote_artwork/4548/medium/20211021_thursday_quote.jpg?1634252220\n",
      "https://assets.passiton.com/quotes/quote_artwork/8271/medium/20211020_wednesday_quote.jpg?1634252195\n",
      "https://assets.passiton.com/quotes/quote_artwork/7961/medium/20211019_tuesday_quote.jpg?1634252141\n",
      "https://assets.passiton.com/quotes/quote_artwork/7679/medium/20211018_monday_quote.jpg?1634251914\n",
      "https://assets.passiton.com/quotes/quote_artwork/7491/medium/20211015_friday_quote.jpg?1633722687\n",
      "https://assets.passiton.com/quotes/quote_artwork/7729/medium/20211014_thursday_quote.jpg?1633722660\n"
     ]
    }
   ],
   "source": [
    "for one_img in all_images:\n",
    "    link = one_img.attrs['src']\n",
    "    print(link)"
   ]
  },
  {
   "cell_type": "code",
   "execution_count": 18,
   "id": "c3fed7b0",
   "metadata": {},
   "outputs": [
    {
     "data": {
      "text/plain": [
       "3936"
      ]
     },
     "execution_count": 18,
     "metadata": {},
     "output_type": "execute_result"
    }
   ],
   "source": [
    "32*123"
   ]
  },
  {
   "cell_type": "code",
   "execution_count": null,
   "id": "f4fa4811",
   "metadata": {},
   "outputs": [],
   "source": []
  }
 ],
 "metadata": {
  "kernelspec": {
   "display_name": "Python 3",
   "language": "python",
   "name": "python3"
  },
  "language_info": {
   "codemirror_mode": {
    "name": "ipython",
    "version": 3
   },
   "file_extension": ".py",
   "mimetype": "text/x-python",
   "name": "python",
   "nbconvert_exporter": "python",
   "pygments_lexer": "ipython3",
   "version": "3.8.8"
  }
 },
 "nbformat": 4,
 "nbformat_minor": 5
}
