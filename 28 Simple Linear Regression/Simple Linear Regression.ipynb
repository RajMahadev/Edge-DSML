{
 "cells": [
  {
   "cell_type": "code",
   "execution_count": 1,
   "id": "154cc697",
   "metadata": {},
   "outputs": [],
   "source": [
    "import pandas as pd\n",
    "import seaborn as sns\n",
    "import matplotlib.pyplot as plt\n",
    "import numpy as np"
   ]
  },
  {
   "cell_type": "code",
   "execution_count": 2,
   "id": "6260eded",
   "metadata": {},
   "outputs": [],
   "source": [
    "df = pd.read_csv(\"cars24-car-price.csv\")"
   ]
  },
  {
   "cell_type": "code",
   "execution_count": 3,
   "id": "3e8f4e4a",
   "metadata": {},
   "outputs": [
    {
     "data": {
      "text/plain": [
       "(19980, 11)"
      ]
     },
     "execution_count": 3,
     "metadata": {},
     "output_type": "execute_result"
    }
   ],
   "source": [
    "df.shape"
   ]
  },
  {
   "cell_type": "code",
   "execution_count": 4,
   "id": "778ed7dc",
   "metadata": {},
   "outputs": [
    {
     "data": {
      "text/html": [
       "<div>\n",
       "<style scoped>\n",
       "    .dataframe tbody tr th:only-of-type {\n",
       "        vertical-align: middle;\n",
       "    }\n",
       "\n",
       "    .dataframe tbody tr th {\n",
       "        vertical-align: top;\n",
       "    }\n",
       "\n",
       "    .dataframe thead th {\n",
       "        text-align: right;\n",
       "    }\n",
       "</style>\n",
       "<table border=\"1\" class=\"dataframe\">\n",
       "  <thead>\n",
       "    <tr style=\"text-align: right;\">\n",
       "      <th></th>\n",
       "      <th>full_name</th>\n",
       "      <th>selling_price</th>\n",
       "      <th>year</th>\n",
       "      <th>seller_type</th>\n",
       "      <th>km_driven</th>\n",
       "      <th>fuel_type</th>\n",
       "      <th>transmission_type</th>\n",
       "      <th>mileage</th>\n",
       "      <th>engine</th>\n",
       "      <th>max_power</th>\n",
       "      <th>seats</th>\n",
       "    </tr>\n",
       "  </thead>\n",
       "  <tbody>\n",
       "    <tr>\n",
       "      <th>0</th>\n",
       "      <td>Maruti Alto Std</td>\n",
       "      <td>1.20</td>\n",
       "      <td>2012.0</td>\n",
       "      <td>Individual</td>\n",
       "      <td>120000</td>\n",
       "      <td>Petrol</td>\n",
       "      <td>Manual</td>\n",
       "      <td>19.70</td>\n",
       "      <td>796.0</td>\n",
       "      <td>46.30</td>\n",
       "      <td>5.0</td>\n",
       "    </tr>\n",
       "    <tr>\n",
       "      <th>1</th>\n",
       "      <td>Hyundai Grand i10 Asta</td>\n",
       "      <td>5.50</td>\n",
       "      <td>2016.0</td>\n",
       "      <td>Individual</td>\n",
       "      <td>20000</td>\n",
       "      <td>Petrol</td>\n",
       "      <td>Manual</td>\n",
       "      <td>18.90</td>\n",
       "      <td>1197.0</td>\n",
       "      <td>82.00</td>\n",
       "      <td>5.0</td>\n",
       "    </tr>\n",
       "    <tr>\n",
       "      <th>2</th>\n",
       "      <td>Hyundai i20 Asta</td>\n",
       "      <td>2.15</td>\n",
       "      <td>2010.0</td>\n",
       "      <td>Individual</td>\n",
       "      <td>60000</td>\n",
       "      <td>Petrol</td>\n",
       "      <td>Manual</td>\n",
       "      <td>17.00</td>\n",
       "      <td>1197.0</td>\n",
       "      <td>80.00</td>\n",
       "      <td>5.0</td>\n",
       "    </tr>\n",
       "    <tr>\n",
       "      <th>3</th>\n",
       "      <td>Maruti Alto K10 2010-2014 VXI</td>\n",
       "      <td>2.26</td>\n",
       "      <td>2012.0</td>\n",
       "      <td>Individual</td>\n",
       "      <td>37000</td>\n",
       "      <td>Petrol</td>\n",
       "      <td>Manual</td>\n",
       "      <td>20.92</td>\n",
       "      <td>998.0</td>\n",
       "      <td>67.10</td>\n",
       "      <td>5.0</td>\n",
       "    </tr>\n",
       "    <tr>\n",
       "      <th>4</th>\n",
       "      <td>Ford Ecosport 2015-2021 1.5 TDCi Titanium BSIV</td>\n",
       "      <td>5.70</td>\n",
       "      <td>2015.0</td>\n",
       "      <td>Dealer</td>\n",
       "      <td>30000</td>\n",
       "      <td>Diesel</td>\n",
       "      <td>Manual</td>\n",
       "      <td>22.77</td>\n",
       "      <td>1498.0</td>\n",
       "      <td>98.59</td>\n",
       "      <td>5.0</td>\n",
       "    </tr>\n",
       "  </tbody>\n",
       "</table>\n",
       "</div>"
      ],
      "text/plain": [
       "                                        full_name  selling_price    year  \\\n",
       "0                                 Maruti Alto Std           1.20  2012.0   \n",
       "1                          Hyundai Grand i10 Asta           5.50  2016.0   \n",
       "2                                Hyundai i20 Asta           2.15  2010.0   \n",
       "3                   Maruti Alto K10 2010-2014 VXI           2.26  2012.0   \n",
       "4  Ford Ecosport 2015-2021 1.5 TDCi Titanium BSIV           5.70  2015.0   \n",
       "\n",
       "  seller_type  km_driven fuel_type transmission_type  mileage  engine  \\\n",
       "0  Individual     120000    Petrol            Manual    19.70   796.0   \n",
       "1  Individual      20000    Petrol            Manual    18.90  1197.0   \n",
       "2  Individual      60000    Petrol            Manual    17.00  1197.0   \n",
       "3  Individual      37000    Petrol            Manual    20.92   998.0   \n",
       "4      Dealer      30000    Diesel            Manual    22.77  1498.0   \n",
       "\n",
       "   max_power  seats  \n",
       "0      46.30    5.0  \n",
       "1      82.00    5.0  \n",
       "2      80.00    5.0  \n",
       "3      67.10    5.0  \n",
       "4      98.59    5.0  "
      ]
     },
     "execution_count": 4,
     "metadata": {},
     "output_type": "execute_result"
    }
   ],
   "source": [
    "df.head()"
   ]
  },
  {
   "cell_type": "code",
   "execution_count": 5,
   "id": "e6451882",
   "metadata": {},
   "outputs": [
    {
     "data": {
      "text/html": [
       "<div>\n",
       "<style scoped>\n",
       "    .dataframe tbody tr th:only-of-type {\n",
       "        vertical-align: middle;\n",
       "    }\n",
       "\n",
       "    .dataframe tbody tr th {\n",
       "        vertical-align: top;\n",
       "    }\n",
       "\n",
       "    .dataframe thead th {\n",
       "        text-align: right;\n",
       "    }\n",
       "</style>\n",
       "<table border=\"1\" class=\"dataframe\">\n",
       "  <thead>\n",
       "    <tr style=\"text-align: right;\">\n",
       "      <th></th>\n",
       "      <th>selling_price</th>\n",
       "      <th>year</th>\n",
       "      <th>km_driven</th>\n",
       "      <th>mileage</th>\n",
       "      <th>engine</th>\n",
       "      <th>max_power</th>\n",
       "      <th>seats</th>\n",
       "    </tr>\n",
       "  </thead>\n",
       "  <tbody>\n",
       "    <tr>\n",
       "      <th>count</th>\n",
       "      <td>19980.000000</td>\n",
       "      <td>19980.000000</td>\n",
       "      <td>1.998000e+04</td>\n",
       "      <td>19980.000000</td>\n",
       "      <td>19980.000000</td>\n",
       "      <td>19980.000000</td>\n",
       "      <td>19980.000000</td>\n",
       "    </tr>\n",
       "    <tr>\n",
       "      <th>mean</th>\n",
       "      <td>7.392066</td>\n",
       "      <td>2014.525125</td>\n",
       "      <td>5.824488e+04</td>\n",
       "      <td>19.347219</td>\n",
       "      <td>1476.327401</td>\n",
       "      <td>97.854443</td>\n",
       "      <td>5.317868</td>\n",
       "    </tr>\n",
       "    <tr>\n",
       "      <th>std</th>\n",
       "      <td>9.103088</td>\n",
       "      <td>3.249185</td>\n",
       "      <td>5.172509e+04</td>\n",
       "      <td>4.620053</td>\n",
       "      <td>520.449398</td>\n",
       "      <td>45.080670</td>\n",
       "      <td>0.835370</td>\n",
       "    </tr>\n",
       "    <tr>\n",
       "      <th>min</th>\n",
       "      <td>0.250000</td>\n",
       "      <td>1991.000000</td>\n",
       "      <td>1.000000e+02</td>\n",
       "      <td>0.000000</td>\n",
       "      <td>0.000000</td>\n",
       "      <td>5.000000</td>\n",
       "      <td>2.000000</td>\n",
       "    </tr>\n",
       "    <tr>\n",
       "      <th>25%</th>\n",
       "      <td>3.400000</td>\n",
       "      <td>2013.000000</td>\n",
       "      <td>3.116425e+04</td>\n",
       "      <td>16.800000</td>\n",
       "      <td>1197.000000</td>\n",
       "      <td>73.900000</td>\n",
       "      <td>5.000000</td>\n",
       "    </tr>\n",
       "    <tr>\n",
       "      <th>50%</th>\n",
       "      <td>5.200000</td>\n",
       "      <td>2015.000000</td>\n",
       "      <td>5.200000e+04</td>\n",
       "      <td>19.160000</td>\n",
       "      <td>1248.000000</td>\n",
       "      <td>86.700000</td>\n",
       "      <td>5.000000</td>\n",
       "    </tr>\n",
       "    <tr>\n",
       "      <th>75%</th>\n",
       "      <td>7.850000</td>\n",
       "      <td>2017.000000</td>\n",
       "      <td>7.400000e+04</td>\n",
       "      <td>22.320000</td>\n",
       "      <td>1582.000000</td>\n",
       "      <td>112.000000</td>\n",
       "      <td>5.000000</td>\n",
       "    </tr>\n",
       "    <tr>\n",
       "      <th>max</th>\n",
       "      <td>395.000000</td>\n",
       "      <td>2021.000000</td>\n",
       "      <td>3.800000e+06</td>\n",
       "      <td>120.000000</td>\n",
       "      <td>6752.000000</td>\n",
       "      <td>626.000000</td>\n",
       "      <td>14.000000</td>\n",
       "    </tr>\n",
       "  </tbody>\n",
       "</table>\n",
       "</div>"
      ],
      "text/plain": [
       "       selling_price          year     km_driven       mileage        engine  \\\n",
       "count   19980.000000  19980.000000  1.998000e+04  19980.000000  19980.000000   \n",
       "mean        7.392066   2014.525125  5.824488e+04     19.347219   1476.327401   \n",
       "std         9.103088      3.249185  5.172509e+04      4.620053    520.449398   \n",
       "min         0.250000   1991.000000  1.000000e+02      0.000000      0.000000   \n",
       "25%         3.400000   2013.000000  3.116425e+04     16.800000   1197.000000   \n",
       "50%         5.200000   2015.000000  5.200000e+04     19.160000   1248.000000   \n",
       "75%         7.850000   2017.000000  7.400000e+04     22.320000   1582.000000   \n",
       "max       395.000000   2021.000000  3.800000e+06    120.000000   6752.000000   \n",
       "\n",
       "          max_power         seats  \n",
       "count  19980.000000  19980.000000  \n",
       "mean      97.854443      5.317868  \n",
       "std       45.080670      0.835370  \n",
       "min        5.000000      2.000000  \n",
       "25%       73.900000      5.000000  \n",
       "50%       86.700000      5.000000  \n",
       "75%      112.000000      5.000000  \n",
       "max      626.000000     14.000000  "
      ]
     },
     "execution_count": 5,
     "metadata": {},
     "output_type": "execute_result"
    }
   ],
   "source": [
    "df.describe()"
   ]
  },
  {
   "cell_type": "code",
   "execution_count": 6,
   "id": "fc70e269",
   "metadata": {
    "scrolled": true
   },
   "outputs": [
    {
     "data": {
      "text/plain": [
       "<AxesSubplot:>"
      ]
     },
     "execution_count": 6,
     "metadata": {},
     "output_type": "execute_result"
    },
    {
     "data": {
      "image/png": "[encoded data removed]",
      "text/plain": [
       "<Figure size 432x288 with 2 Axes>"
      ]
     },
     "metadata": {
      "needs_background": "light"
     },
     "output_type": "display_data"
    }
   ],
   "source": [
    "sns.heatmap(df.corr(), annot = True)"
   ]
  },
  {
   "cell_type": "code",
   "execution_count": 10,
   "id": "19311ccd",
   "metadata": {},
   "outputs": [],
   "source": [
    "X = df['max_power'].values"
   ]
  },
  {
   "cell_type": "code",
   "execution_count": 13,
   "id": "b895e574",
   "metadata": {},
   "outputs": [],
   "source": [
    "Y = df['selling_price'].values"
   ]
  },
  {
   "cell_type": "code",
   "execution_count": null,
   "id": "be4faca1",
   "metadata": {},
   "outputs": [],
   "source": []
  },
  {
   "cell_type": "code",
   "execution_count": 14,
   "id": "63e956d5",
   "metadata": {},
   "outputs": [
    {
     "data": {
      "image/png": "[encoded data removed]",
      "text/plain": [
       "<Figure size 432x288 with 1 Axes>"
      ]
     },
     "metadata": {
      "needs_background": "light"
     },
     "output_type": "display_data"
    }
   ],
   "source": [
    "plt.scatter(X, Y)\n",
    "plt.show()"
   ]
  },
  {
   "cell_type": "code",
   "execution_count": null,
   "id": "ee1ea259",
   "metadata": {},
   "outputs": [],
   "source": []
  },
  {
   "cell_type": "code",
   "execution_count": 15,
   "id": "d566dc3b",
   "metadata": {},
   "outputs": [
    {
     "name": "stdout",
     "output_type": "stream",
     "text": [
      "Requirement already satisfied: scikit-learn in /Users/mohit/opt/anaconda3/lib/python3.8/site-packages (0.24.1)\r\n",
      "Requirement already satisfied: joblib>=0.11 in /Users/mohit/opt/anaconda3/lib/python3.8/site-packages (from scikit-learn) (1.0.1)\r\n",
      "Requirement already satisfied: numpy>=1.13.3 in /Users/mohit/opt/anaconda3/lib/python3.8/site-packages (from scikit-learn) (1.20.1)\r\n",
      "Requirement already satisfied: scipy>=0.19.1 in /Users/mohit/opt/anaconda3/lib/python3.8/site-packages (from scikit-learn) (1.6.2)\r\n",
      "Requirement already satisfied: threadpoolctl>=2.0.0 in /Users/mohit/opt/anaconda3/lib/python3.8/site-packages (from scikit-learn) (2.1.0)\r\n"
     ]
    }
   ],
   "source": [
    "# ! pip install scikit-learn"
   ]
  },
  {
   "cell_type": "code",
   "execution_count": 16,
   "id": "bd49cee3",
   "metadata": {},
   "outputs": [],
   "source": [
    "from sklearn.linear_model import LinearRegression"
   ]
  },
  {
   "cell_type": "code",
   "execution_count": 18,
   "id": "ab0f589e",
   "metadata": {},
   "outputs": [],
   "source": [
    "# creating a model\n",
    "model = LinearRegression()"
   ]
  },
  {
   "cell_type": "code",
   "execution_count": 23,
   "id": "814d5f3c",
   "metadata": {},
   "outputs": [],
   "source": [
    "X = X.reshape(-1, 1)\n",
    "Y = Y.reshape(-1, 1)"
   ]
  },
  {
   "cell_type": "code",
   "execution_count": 24,
   "id": "600ddf54",
   "metadata": {},
   "outputs": [
    {
     "name": "stdout",
     "output_type": "stream",
     "text": [
      "(19980, 1) (19980, 1)\n"
     ]
    }
   ],
   "source": [
    "print(X.shape, Y.shape)"
   ]
  },
  {
   "cell_type": "code",
   "execution_count": 25,
   "id": "4c911c24",
   "metadata": {},
   "outputs": [],
   "source": [
    "# training a model\n",
    "model = model.fit(X, Y)"
   ]
  },
  {
   "cell_type": "code",
   "execution_count": 35,
   "id": "ce92922d",
   "metadata": {},
   "outputs": [],
   "source": [
    "X_test = np.array([[200], [100], [130]])"
   ]
  },
  {
   "cell_type": "code",
   "execution_count": 36,
   "id": "a0dcbd7c",
   "metadata": {},
   "outputs": [
    {
     "name": "stdout",
     "output_type": "stream",
     "text": [
      "(3, 1)\n"
     ]
    }
   ],
   "source": [
    "print(X_test.shape)"
   ]
  },
  {
   "cell_type": "code",
   "execution_count": 37,
   "id": "ed6e77c5",
   "metadata": {},
   "outputs": [
    {
     "data": {
      "text/plain": [
       "array([[200],\n",
       "       [100],\n",
       "       [130]])"
      ]
     },
     "execution_count": 37,
     "metadata": {},
     "output_type": "execute_result"
    }
   ],
   "source": [
    "X_test"
   ]
  },
  {
   "cell_type": "code",
   "execution_count": 38,
   "id": "2d89f1d4",
   "metadata": {},
   "outputs": [
    {
     "data": {
      "text/plain": [
       "array([[22.51649453],\n",
       "       [ 7.70975307],\n",
       "       [12.15177551]])"
      ]
     },
     "execution_count": 38,
     "metadata": {},
     "output_type": "execute_result"
    }
   ],
   "source": [
    "model.predict(X_test)"
   ]
  },
  {
   "cell_type": "code",
   "execution_count": 39,
   "id": "0241a08e",
   "metadata": {},
   "outputs": [
    {
     "data": {
      "text/plain": [
       "array([[0.14806741]])"
      ]
     },
     "execution_count": 39,
     "metadata": {},
     "output_type": "execute_result"
    }
   ],
   "source": [
    "model.coef_"
   ]
  },
  {
   "cell_type": "code",
   "execution_count": 40,
   "id": "5ded288d",
   "metadata": {},
   "outputs": [
    {
     "data": {
      "text/plain": [
       "array([-7.09698838])"
      ]
     },
     "execution_count": 40,
     "metadata": {},
     "output_type": "execute_result"
    }
   ],
   "source": [
    "model.intercept_"
   ]
  },
  {
   "cell_type": "code",
   "execution_count": 53,
   "id": "0b474a13",
   "metadata": {},
   "outputs": [],
   "source": [
    "x_random = np.arange(1, 600, 5)\n"
   ]
  },
  {
   "cell_type": "code",
   "execution_count": 54,
   "id": "019ad70a",
   "metadata": {},
   "outputs": [],
   "source": [
    "y_random = model.coef_*x_random + model.intercept_"
   ]
  },
  {
   "cell_type": "code",
   "execution_count": 55,
   "id": "068a756f",
   "metadata": {},
   "outputs": [],
   "source": [
    "y_random = y_random.T"
   ]
  },
  {
   "cell_type": "code",
   "execution_count": 56,
   "id": "db820072",
   "metadata": {},
   "outputs": [
    {
     "data": {
      "image/png": "[encoded data removed]",
      "text/plain": [
       "<Figure size 432x288 with 1 Axes>"
      ]
     },
     "metadata": {
      "needs_background": "light"
     },
     "output_type": "display_data"
    }
   ],
   "source": [
    "plt.plot(x_random, y_random, color='red')\n",
    "plt.scatter(X, Y)\n",
    "plt.show()"
   ]
  },
  {
   "cell_type": "code",
   "execution_count": null,
   "id": "bcb6b865",
   "metadata": {},
   "outputs": [],
   "source": []
  }
 ],
 "metadata": {
  "kernelspec": {
   "display_name": "Python 3",
   "language": "python",
   "name": "python3"
  },
  "language_info": {
   "codemirror_mode": {
    "name": "ipython",
    "version": 3
   },
   "file_extension": ".py",
   "mimetype": "text/x-python",
   "name": "python",
   "nbconvert_exporter": "python",
   "pygments_lexer": "ipython3",
   "version": "3.8.8"
  }
 },
 "nbformat": 4,
 "nbformat_minor": 5
}
