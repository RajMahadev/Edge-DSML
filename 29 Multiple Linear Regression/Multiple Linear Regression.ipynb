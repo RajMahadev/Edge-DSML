{
 "cells": [
  {
   "cell_type": "code",
   "execution_count": 1,
   "id": "deb47142",
   "metadata": {},
   "outputs": [],
   "source": [
    "import numpy as np\n",
    "import pandas as pd\n",
    "\n",
    "import matplotlib.pyplot as plt"
   ]
  },
  {
   "cell_type": "code",
   "execution_count": 2,
   "id": "f26e3765",
   "metadata": {},
   "outputs": [],
   "source": [
    "df = pd.read_csv('cars24-car-price.csv')"
   ]
  },
  {
   "cell_type": "code",
   "execution_count": 3,
   "id": "32baf0c0",
   "metadata": {},
   "outputs": [
    {
     "data": {
      "text/plain": [
       "(19980, 11)"
      ]
     },
     "execution_count": 3,
     "metadata": {},
     "output_type": "execute_result"
    }
   ],
   "source": [
    "df.shape"
   ]
  },
  {
   "cell_type": "code",
   "execution_count": 4,
   "id": "0e6d4743",
   "metadata": {},
   "outputs": [
    {
     "data": {
      "text/html": [
       "<div>\n",
       "<style scoped>\n",
       "    .dataframe tbody tr th:only-of-type {\n",
       "        vertical-align: middle;\n",
       "    }\n",
       "\n",
       "    .dataframe tbody tr th {\n",
       "        vertical-align: top;\n",
       "    }\n",
       "\n",
       "    .dataframe thead th {\n",
       "        text-align: right;\n",
       "    }\n",
       "</style>\n",
       "<table border=\"1\" class=\"dataframe\">\n",
       "  <thead>\n",
       "    <tr style=\"text-align: right;\">\n",
       "      <th></th>\n",
       "      <th>full_name</th>\n",
       "      <th>selling_price</th>\n",
       "      <th>year</th>\n",
       "      <th>seller_type</th>\n",
       "      <th>km_driven</th>\n",
       "      <th>fuel_type</th>\n",
       "      <th>transmission_type</th>\n",
       "      <th>mileage</th>\n",
       "      <th>engine</th>\n",
       "      <th>max_power</th>\n",
       "      <th>seats</th>\n",
       "    </tr>\n",
       "  </thead>\n",
       "  <tbody>\n",
       "    <tr>\n",
       "      <th>0</th>\n",
       "      <td>Maruti Alto Std</td>\n",
       "      <td>1.20</td>\n",
       "      <td>2012.0</td>\n",
       "      <td>Individual</td>\n",
       "      <td>120000</td>\n",
       "      <td>Petrol</td>\n",
       "      <td>Manual</td>\n",
       "      <td>19.70</td>\n",
       "      <td>796.0</td>\n",
       "      <td>46.30</td>\n",
       "      <td>5.0</td>\n",
       "    </tr>\n",
       "    <tr>\n",
       "      <th>1</th>\n",
       "      <td>Hyundai Grand i10 Asta</td>\n",
       "      <td>5.50</td>\n",
       "      <td>2016.0</td>\n",
       "      <td>Individual</td>\n",
       "      <td>20000</td>\n",
       "      <td>Petrol</td>\n",
       "      <td>Manual</td>\n",
       "      <td>18.90</td>\n",
       "      <td>1197.0</td>\n",
       "      <td>82.00</td>\n",
       "      <td>5.0</td>\n",
       "    </tr>\n",
       "    <tr>\n",
       "      <th>2</th>\n",
       "      <td>Hyundai i20 Asta</td>\n",
       "      <td>2.15</td>\n",
       "      <td>2010.0</td>\n",
       "      <td>Individual</td>\n",
       "      <td>60000</td>\n",
       "      <td>Petrol</td>\n",
       "      <td>Manual</td>\n",
       "      <td>17.00</td>\n",
       "      <td>1197.0</td>\n",
       "      <td>80.00</td>\n",
       "      <td>5.0</td>\n",
       "    </tr>\n",
       "    <tr>\n",
       "      <th>3</th>\n",
       "      <td>Maruti Alto K10 2010-2014 VXI</td>\n",
       "      <td>2.26</td>\n",
       "      <td>2012.0</td>\n",
       "      <td>Individual</td>\n",
       "      <td>37000</td>\n",
       "      <td>Petrol</td>\n",
       "      <td>Manual</td>\n",
       "      <td>20.92</td>\n",
       "      <td>998.0</td>\n",
       "      <td>67.10</td>\n",
       "      <td>5.0</td>\n",
       "    </tr>\n",
       "    <tr>\n",
       "      <th>4</th>\n",
       "      <td>Ford Ecosport 2015-2021 1.5 TDCi Titanium BSIV</td>\n",
       "      <td>5.70</td>\n",
       "      <td>2015.0</td>\n",
       "      <td>Dealer</td>\n",
       "      <td>30000</td>\n",
       "      <td>Diesel</td>\n",
       "      <td>Manual</td>\n",
       "      <td>22.77</td>\n",
       "      <td>1498.0</td>\n",
       "      <td>98.59</td>\n",
       "      <td>5.0</td>\n",
       "    </tr>\n",
       "  </tbody>\n",
       "</table>\n",
       "</div>"
      ],
      "text/plain": [
       "                                        full_name  selling_price    year  \\\n",
       "0                                 Maruti Alto Std           1.20  2012.0   \n",
       "1                          Hyundai Grand i10 Asta           5.50  2016.0   \n",
       "2                                Hyundai i20 Asta           2.15  2010.0   \n",
       "3                   Maruti Alto K10 2010-2014 VXI           2.26  2012.0   \n",
       "4  Ford Ecosport 2015-2021 1.5 TDCi Titanium BSIV           5.70  2015.0   \n",
       "\n",
       "  seller_type  km_driven fuel_type transmission_type  mileage  engine  \\\n",
       "0  Individual     120000    Petrol            Manual    19.70   796.0   \n",
       "1  Individual      20000    Petrol            Manual    18.90  1197.0   \n",
       "2  Individual      60000    Petrol            Manual    17.00  1197.0   \n",
       "3  Individual      37000    Petrol            Manual    20.92   998.0   \n",
       "4      Dealer      30000    Diesel            Manual    22.77  1498.0   \n",
       "\n",
       "   max_power  seats  \n",
       "0      46.30    5.0  \n",
       "1      82.00    5.0  \n",
       "2      80.00    5.0  \n",
       "3      67.10    5.0  \n",
       "4      98.59    5.0  "
      ]
     },
     "execution_count": 4,
     "metadata": {},
     "output_type": "execute_result"
    }
   ],
   "source": [
    "df.head()"
   ]
  },
  {
   "cell_type": "code",
   "execution_count": 6,
   "id": "69c92cf5",
   "metadata": {},
   "outputs": [
    {
     "data": {
      "text/plain": [
       "full_name            0\n",
       "selling_price        0\n",
       "year                 0\n",
       "seller_type          0\n",
       "km_driven            0\n",
       "fuel_type            0\n",
       "transmission_type    0\n",
       "mileage              0\n",
       "engine               0\n",
       "max_power            0\n",
       "seats                0\n",
       "dtype: int64"
      ]
     },
     "execution_count": 6,
     "metadata": {},
     "output_type": "execute_result"
    }
   ],
   "source": [
    "df.isna().sum()"
   ]
  },
  {
   "cell_type": "code",
   "execution_count": 16,
   "id": "6db0f7d3",
   "metadata": {},
   "outputs": [],
   "source": [
    "df.drop(columns=['full_name'], inplace=True)"
   ]
  },
  {
   "cell_type": "code",
   "execution_count": 17,
   "id": "ff850895",
   "metadata": {},
   "outputs": [
    {
     "data": {
      "text/html": [
       "<div>\n",
       "<style scoped>\n",
       "    .dataframe tbody tr th:only-of-type {\n",
       "        vertical-align: middle;\n",
       "    }\n",
       "\n",
       "    .dataframe tbody tr th {\n",
       "        vertical-align: top;\n",
       "    }\n",
       "\n",
       "    .dataframe thead th {\n",
       "        text-align: right;\n",
       "    }\n",
       "</style>\n",
       "<table border=\"1\" class=\"dataframe\">\n",
       "  <thead>\n",
       "    <tr style=\"text-align: right;\">\n",
       "      <th></th>\n",
       "      <th>selling_price</th>\n",
       "      <th>year</th>\n",
       "      <th>seller_type</th>\n",
       "      <th>km_driven</th>\n",
       "      <th>fuel_type</th>\n",
       "      <th>transmission_type</th>\n",
       "      <th>mileage</th>\n",
       "      <th>engine</th>\n",
       "      <th>max_power</th>\n",
       "      <th>seats</th>\n",
       "    </tr>\n",
       "  </thead>\n",
       "  <tbody>\n",
       "    <tr>\n",
       "      <th>0</th>\n",
       "      <td>1.20</td>\n",
       "      <td>2012.0</td>\n",
       "      <td>Individual</td>\n",
       "      <td>120000</td>\n",
       "      <td>Petrol</td>\n",
       "      <td>Manual</td>\n",
       "      <td>19.70</td>\n",
       "      <td>796.0</td>\n",
       "      <td>46.30</td>\n",
       "      <td>5.0</td>\n",
       "    </tr>\n",
       "    <tr>\n",
       "      <th>1</th>\n",
       "      <td>5.50</td>\n",
       "      <td>2016.0</td>\n",
       "      <td>Individual</td>\n",
       "      <td>20000</td>\n",
       "      <td>Petrol</td>\n",
       "      <td>Manual</td>\n",
       "      <td>18.90</td>\n",
       "      <td>1197.0</td>\n",
       "      <td>82.00</td>\n",
       "      <td>5.0</td>\n",
       "    </tr>\n",
       "    <tr>\n",
       "      <th>2</th>\n",
       "      <td>2.15</td>\n",
       "      <td>2010.0</td>\n",
       "      <td>Individual</td>\n",
       "      <td>60000</td>\n",
       "      <td>Petrol</td>\n",
       "      <td>Manual</td>\n",
       "      <td>17.00</td>\n",
       "      <td>1197.0</td>\n",
       "      <td>80.00</td>\n",
       "      <td>5.0</td>\n",
       "    </tr>\n",
       "    <tr>\n",
       "      <th>3</th>\n",
       "      <td>2.26</td>\n",
       "      <td>2012.0</td>\n",
       "      <td>Individual</td>\n",
       "      <td>37000</td>\n",
       "      <td>Petrol</td>\n",
       "      <td>Manual</td>\n",
       "      <td>20.92</td>\n",
       "      <td>998.0</td>\n",
       "      <td>67.10</td>\n",
       "      <td>5.0</td>\n",
       "    </tr>\n",
       "    <tr>\n",
       "      <th>4</th>\n",
       "      <td>5.70</td>\n",
       "      <td>2015.0</td>\n",
       "      <td>Dealer</td>\n",
       "      <td>30000</td>\n",
       "      <td>Diesel</td>\n",
       "      <td>Manual</td>\n",
       "      <td>22.77</td>\n",
       "      <td>1498.0</td>\n",
       "      <td>98.59</td>\n",
       "      <td>5.0</td>\n",
       "    </tr>\n",
       "  </tbody>\n",
       "</table>\n",
       "</div>"
      ],
      "text/plain": [
       "   selling_price    year seller_type  km_driven fuel_type transmission_type  \\\n",
       "0           1.20  2012.0  Individual     120000    Petrol            Manual   \n",
       "1           5.50  2016.0  Individual      20000    Petrol            Manual   \n",
       "2           2.15  2010.0  Individual      60000    Petrol            Manual   \n",
       "3           2.26  2012.0  Individual      37000    Petrol            Manual   \n",
       "4           5.70  2015.0      Dealer      30000    Diesel            Manual   \n",
       "\n",
       "   mileage  engine  max_power  seats  \n",
       "0    19.70   796.0      46.30    5.0  \n",
       "1    18.90  1197.0      82.00    5.0  \n",
       "2    17.00  1197.0      80.00    5.0  \n",
       "3    20.92   998.0      67.10    5.0  \n",
       "4    22.77  1498.0      98.59    5.0  "
      ]
     },
     "execution_count": 17,
     "metadata": {},
     "output_type": "execute_result"
    }
   ],
   "source": [
    "df.head()"
   ]
  },
  {
   "cell_type": "code",
   "execution_count": 20,
   "id": "93dd1ce7",
   "metadata": {},
   "outputs": [
    {
     "data": {
      "text/plain": [
       "['seller_type', 'fuel_type', 'transmission_type']"
      ]
     },
     "execution_count": 20,
     "metadata": {},
     "output_type": "execute_result"
    }
   ],
   "source": [
    "cat_vars = list(df.dtypes[(df.dtypes == 'object')].index)\n",
    "cat_vars"
   ]
  },
  {
   "cell_type": "code",
   "execution_count": 24,
   "id": "e99bc111",
   "metadata": {},
   "outputs": [
    {
     "data": {
      "text/plain": [
       "Dealer              11973\n",
       "Individual           7817\n",
       "Trustmark Dealer      190\n",
       "Name: seller_type, dtype: int64"
      ]
     },
     "execution_count": 24,
     "metadata": {},
     "output_type": "execute_result"
    }
   ],
   "source": [
    "df['seller_type'].value_counts()"
   ]
  },
  {
   "cell_type": "code",
   "execution_count": 25,
   "id": "ad4ab4bb",
   "metadata": {},
   "outputs": [
    {
     "data": {
      "text/plain": [
       "Diesel      9817\n",
       "Petrol      9767\n",
       "CNG          316\n",
       "LPG           66\n",
       "Electric      14\n",
       "Name: fuel_type, dtype: int64"
      ]
     },
     "execution_count": 25,
     "metadata": {},
     "output_type": "execute_result"
    }
   ],
   "source": [
    "df['fuel_type'].value_counts()"
   ]
  },
  {
   "cell_type": "code",
   "execution_count": 26,
   "id": "6eeddec8",
   "metadata": {},
   "outputs": [
    {
     "data": {
      "text/plain": [
       "Manual       16029\n",
       "Automatic     3951\n",
       "Name: transmission_type, dtype: int64"
      ]
     },
     "execution_count": 26,
     "metadata": {},
     "output_type": "execute_result"
    }
   ],
   "source": [
    "df['transmission_type'].value_counts()"
   ]
  },
  {
   "cell_type": "code",
   "execution_count": 28,
   "id": "ca146e36",
   "metadata": {},
   "outputs": [],
   "source": [
    "df['transmission_type'] = df['transmission_type'].astype('category').cat.codes"
   ]
  },
  {
   "cell_type": "code",
   "execution_count": 29,
   "id": "1bd3b00d",
   "metadata": {},
   "outputs": [
    {
     "data": {
      "text/plain": [
       "['seller_type', 'fuel_type']"
      ]
     },
     "execution_count": 29,
     "metadata": {},
     "output_type": "execute_result"
    }
   ],
   "source": [
    "cat_vars = list(df.dtypes[(df.dtypes == 'object')].index)\n",
    "cat_vars"
   ]
  },
  {
   "cell_type": "code",
   "execution_count": 31,
   "id": "ac28d549",
   "metadata": {},
   "outputs": [
    {
     "data": {
      "text/html": [
       "<div>\n",
       "<style scoped>\n",
       "    .dataframe tbody tr th:only-of-type {\n",
       "        vertical-align: middle;\n",
       "    }\n",
       "\n",
       "    .dataframe tbody tr th {\n",
       "        vertical-align: top;\n",
       "    }\n",
       "\n",
       "    .dataframe thead th {\n",
       "        text-align: right;\n",
       "    }\n",
       "</style>\n",
       "<table border=\"1\" class=\"dataframe\">\n",
       "  <thead>\n",
       "    <tr style=\"text-align: right;\">\n",
       "      <th></th>\n",
       "      <th>seller_type</th>\n",
       "      <th>fuel_type</th>\n",
       "    </tr>\n",
       "  </thead>\n",
       "  <tbody>\n",
       "    <tr>\n",
       "      <th>0</th>\n",
       "      <td>Individual</td>\n",
       "      <td>Petrol</td>\n",
       "    </tr>\n",
       "    <tr>\n",
       "      <th>1</th>\n",
       "      <td>Individual</td>\n",
       "      <td>Petrol</td>\n",
       "    </tr>\n",
       "    <tr>\n",
       "      <th>2</th>\n",
       "      <td>Individual</td>\n",
       "      <td>Petrol</td>\n",
       "    </tr>\n",
       "    <tr>\n",
       "      <th>3</th>\n",
       "      <td>Individual</td>\n",
       "      <td>Petrol</td>\n",
       "    </tr>\n",
       "    <tr>\n",
       "      <th>4</th>\n",
       "      <td>Dealer</td>\n",
       "      <td>Diesel</td>\n",
       "    </tr>\n",
       "  </tbody>\n",
       "</table>\n",
       "</div>"
      ],
      "text/plain": [
       "  seller_type fuel_type\n",
       "0  Individual    Petrol\n",
       "1  Individual    Petrol\n",
       "2  Individual    Petrol\n",
       "3  Individual    Petrol\n",
       "4      Dealer    Diesel"
      ]
     },
     "execution_count": 31,
     "metadata": {},
     "output_type": "execute_result"
    }
   ],
   "source": [
    "df[cat_vars].head()"
   ]
  },
  {
   "cell_type": "code",
   "execution_count": 33,
   "id": "71c28d87",
   "metadata": {},
   "outputs": [
    {
     "data": {
      "text/html": [
       "<div>\n",
       "<style scoped>\n",
       "    .dataframe tbody tr th:only-of-type {\n",
       "        vertical-align: middle;\n",
       "    }\n",
       "\n",
       "    .dataframe tbody tr th {\n",
       "        vertical-align: top;\n",
       "    }\n",
       "\n",
       "    .dataframe thead th {\n",
       "        text-align: right;\n",
       "    }\n",
       "</style>\n",
       "<table border=\"1\" class=\"dataframe\">\n",
       "  <thead>\n",
       "    <tr style=\"text-align: right;\">\n",
       "      <th></th>\n",
       "      <th>seller_type_Dealer</th>\n",
       "      <th>seller_type_Individual</th>\n",
       "      <th>seller_type_Trustmark Dealer</th>\n",
       "      <th>fuel_type_CNG</th>\n",
       "      <th>fuel_type_Diesel</th>\n",
       "      <th>fuel_type_Electric</th>\n",
       "      <th>fuel_type_LPG</th>\n",
       "      <th>fuel_type_Petrol</th>\n",
       "    </tr>\n",
       "  </thead>\n",
       "  <tbody>\n",
       "    <tr>\n",
       "      <th>0</th>\n",
       "      <td>0</td>\n",
       "      <td>1</td>\n",
       "      <td>0</td>\n",
       "      <td>0</td>\n",
       "      <td>0</td>\n",
       "      <td>0</td>\n",
       "      <td>0</td>\n",
       "      <td>1</td>\n",
       "    </tr>\n",
       "    <tr>\n",
       "      <th>1</th>\n",
       "      <td>0</td>\n",
       "      <td>1</td>\n",
       "      <td>0</td>\n",
       "      <td>0</td>\n",
       "      <td>0</td>\n",
       "      <td>0</td>\n",
       "      <td>0</td>\n",
       "      <td>1</td>\n",
       "    </tr>\n",
       "    <tr>\n",
       "      <th>2</th>\n",
       "      <td>0</td>\n",
       "      <td>1</td>\n",
       "      <td>0</td>\n",
       "      <td>0</td>\n",
       "      <td>0</td>\n",
       "      <td>0</td>\n",
       "      <td>0</td>\n",
       "      <td>1</td>\n",
       "    </tr>\n",
       "    <tr>\n",
       "      <th>3</th>\n",
       "      <td>0</td>\n",
       "      <td>1</td>\n",
       "      <td>0</td>\n",
       "      <td>0</td>\n",
       "      <td>0</td>\n",
       "      <td>0</td>\n",
       "      <td>0</td>\n",
       "      <td>1</td>\n",
       "    </tr>\n",
       "    <tr>\n",
       "      <th>4</th>\n",
       "      <td>1</td>\n",
       "      <td>0</td>\n",
       "      <td>0</td>\n",
       "      <td>0</td>\n",
       "      <td>1</td>\n",
       "      <td>0</td>\n",
       "      <td>0</td>\n",
       "      <td>0</td>\n",
       "    </tr>\n",
       "  </tbody>\n",
       "</table>\n",
       "</div>"
      ],
      "text/plain": [
       "   seller_type_Dealer  seller_type_Individual  seller_type_Trustmark Dealer  \\\n",
       "0                   0                       1                             0   \n",
       "1                   0                       1                             0   \n",
       "2                   0                       1                             0   \n",
       "3                   0                       1                             0   \n",
       "4                   1                       0                             0   \n",
       "\n",
       "   fuel_type_CNG  fuel_type_Diesel  fuel_type_Electric  fuel_type_LPG  \\\n",
       "0              0                 0                   0              0   \n",
       "1              0                 0                   0              0   \n",
       "2              0                 0                   0              0   \n",
       "3              0                 0                   0              0   \n",
       "4              0                 1                   0              0   \n",
       "\n",
       "   fuel_type_Petrol  \n",
       "0                 1  \n",
       "1                 1  \n",
       "2                 1  \n",
       "3                 1  \n",
       "4                 0  "
      ]
     },
     "execution_count": 33,
     "metadata": {},
     "output_type": "execute_result"
    }
   ],
   "source": [
    "ohe = pd.get_dummies(df[cat_vars])\n",
    "ohe.head()"
   ]
  },
  {
   "cell_type": "code",
   "execution_count": null,
   "id": "2127e45c",
   "metadata": {},
   "outputs": [],
   "source": []
  },
  {
   "cell_type": "code",
   "execution_count": 35,
   "id": "8708b190",
   "metadata": {},
   "outputs": [],
   "source": [
    "df = df.drop(columns=cat_vars)"
   ]
  },
  {
   "cell_type": "code",
   "execution_count": 37,
   "id": "e8df6449",
   "metadata": {},
   "outputs": [
    {
     "data": {
      "text/html": [
       "<div>\n",
       "<style scoped>\n",
       "    .dataframe tbody tr th:only-of-type {\n",
       "        vertical-align: middle;\n",
       "    }\n",
       "\n",
       "    .dataframe tbody tr th {\n",
       "        vertical-align: top;\n",
       "    }\n",
       "\n",
       "    .dataframe thead th {\n",
       "        text-align: right;\n",
       "    }\n",
       "</style>\n",
       "<table border=\"1\" class=\"dataframe\">\n",
       "  <thead>\n",
       "    <tr style=\"text-align: right;\">\n",
       "      <th></th>\n",
       "      <th>selling_price</th>\n",
       "      <th>year</th>\n",
       "      <th>km_driven</th>\n",
       "      <th>transmission_type</th>\n",
       "      <th>mileage</th>\n",
       "      <th>engine</th>\n",
       "      <th>max_power</th>\n",
       "      <th>seats</th>\n",
       "    </tr>\n",
       "  </thead>\n",
       "  <tbody>\n",
       "    <tr>\n",
       "      <th>0</th>\n",
       "      <td>1.20</td>\n",
       "      <td>2012.0</td>\n",
       "      <td>120000</td>\n",
       "      <td>1</td>\n",
       "      <td>19.70</td>\n",
       "      <td>796.0</td>\n",
       "      <td>46.30</td>\n",
       "      <td>5.0</td>\n",
       "    </tr>\n",
       "    <tr>\n",
       "      <th>1</th>\n",
       "      <td>5.50</td>\n",
       "      <td>2016.0</td>\n",
       "      <td>20000</td>\n",
       "      <td>1</td>\n",
       "      <td>18.90</td>\n",
       "      <td>1197.0</td>\n",
       "      <td>82.00</td>\n",
       "      <td>5.0</td>\n",
       "    </tr>\n",
       "    <tr>\n",
       "      <th>2</th>\n",
       "      <td>2.15</td>\n",
       "      <td>2010.0</td>\n",
       "      <td>60000</td>\n",
       "      <td>1</td>\n",
       "      <td>17.00</td>\n",
       "      <td>1197.0</td>\n",
       "      <td>80.00</td>\n",
       "      <td>5.0</td>\n",
       "    </tr>\n",
       "    <tr>\n",
       "      <th>3</th>\n",
       "      <td>2.26</td>\n",
       "      <td>2012.0</td>\n",
       "      <td>37000</td>\n",
       "      <td>1</td>\n",
       "      <td>20.92</td>\n",
       "      <td>998.0</td>\n",
       "      <td>67.10</td>\n",
       "      <td>5.0</td>\n",
       "    </tr>\n",
       "    <tr>\n",
       "      <th>4</th>\n",
       "      <td>5.70</td>\n",
       "      <td>2015.0</td>\n",
       "      <td>30000</td>\n",
       "      <td>1</td>\n",
       "      <td>22.77</td>\n",
       "      <td>1498.0</td>\n",
       "      <td>98.59</td>\n",
       "      <td>5.0</td>\n",
       "    </tr>\n",
       "  </tbody>\n",
       "</table>\n",
       "</div>"
      ],
      "text/plain": [
       "   selling_price    year  km_driven  transmission_type  mileage  engine  \\\n",
       "0           1.20  2012.0     120000                  1    19.70   796.0   \n",
       "1           5.50  2016.0      20000                  1    18.90  1197.0   \n",
       "2           2.15  2010.0      60000                  1    17.00  1197.0   \n",
       "3           2.26  2012.0      37000                  1    20.92   998.0   \n",
       "4           5.70  2015.0      30000                  1    22.77  1498.0   \n",
       "\n",
       "   max_power  seats  \n",
       "0      46.30    5.0  \n",
       "1      82.00    5.0  \n",
       "2      80.00    5.0  \n",
       "3      67.10    5.0  \n",
       "4      98.59    5.0  "
      ]
     },
     "execution_count": 37,
     "metadata": {},
     "output_type": "execute_result"
    }
   ],
   "source": [
    "df.head()"
   ]
  },
  {
   "cell_type": "code",
   "execution_count": 40,
   "id": "1205b4d7",
   "metadata": {},
   "outputs": [],
   "source": [
    "df = pd.concat((df,ohe), axis=1)"
   ]
  },
  {
   "cell_type": "code",
   "execution_count": 42,
   "id": "f4a024d1",
   "metadata": {},
   "outputs": [
    {
     "data": {
      "text/plain": [
       "(19980, 16)"
      ]
     },
     "execution_count": 42,
     "metadata": {},
     "output_type": "execute_result"
    }
   ],
   "source": [
    "df.shape"
   ]
  },
  {
   "cell_type": "code",
   "execution_count": 41,
   "id": "ab1e36ca",
   "metadata": {},
   "outputs": [
    {
     "data": {
      "text/html": [
       "<div>\n",
       "<style scoped>\n",
       "    .dataframe tbody tr th:only-of-type {\n",
       "        vertical-align: middle;\n",
       "    }\n",
       "\n",
       "    .dataframe tbody tr th {\n",
       "        vertical-align: top;\n",
       "    }\n",
       "\n",
       "    .dataframe thead th {\n",
       "        text-align: right;\n",
       "    }\n",
       "</style>\n",
       "<table border=\"1\" class=\"dataframe\">\n",
       "  <thead>\n",
       "    <tr style=\"text-align: right;\">\n",
       "      <th></th>\n",
       "      <th>selling_price</th>\n",
       "      <th>year</th>\n",
       "      <th>km_driven</th>\n",
       "      <th>transmission_type</th>\n",
       "      <th>mileage</th>\n",
       "      <th>engine</th>\n",
       "      <th>max_power</th>\n",
       "      <th>seats</th>\n",
       "      <th>seller_type_Dealer</th>\n",
       "      <th>seller_type_Individual</th>\n",
       "      <th>seller_type_Trustmark Dealer</th>\n",
       "      <th>fuel_type_CNG</th>\n",
       "      <th>fuel_type_Diesel</th>\n",
       "      <th>fuel_type_Electric</th>\n",
       "      <th>fuel_type_LPG</th>\n",
       "      <th>fuel_type_Petrol</th>\n",
       "    </tr>\n",
       "  </thead>\n",
       "  <tbody>\n",
       "    <tr>\n",
       "      <th>0</th>\n",
       "      <td>1.20</td>\n",
       "      <td>2012.0</td>\n",
       "      <td>120000</td>\n",
       "      <td>1</td>\n",
       "      <td>19.70</td>\n",
       "      <td>796.0</td>\n",
       "      <td>46.30</td>\n",
       "      <td>5.0</td>\n",
       "      <td>0</td>\n",
       "      <td>1</td>\n",
       "      <td>0</td>\n",
       "      <td>0</td>\n",
       "      <td>0</td>\n",
       "      <td>0</td>\n",
       "      <td>0</td>\n",
       "      <td>1</td>\n",
       "    </tr>\n",
       "    <tr>\n",
       "      <th>1</th>\n",
       "      <td>5.50</td>\n",
       "      <td>2016.0</td>\n",
       "      <td>20000</td>\n",
       "      <td>1</td>\n",
       "      <td>18.90</td>\n",
       "      <td>1197.0</td>\n",
       "      <td>82.00</td>\n",
       "      <td>5.0</td>\n",
       "      <td>0</td>\n",
       "      <td>1</td>\n",
       "      <td>0</td>\n",
       "      <td>0</td>\n",
       "      <td>0</td>\n",
       "      <td>0</td>\n",
       "      <td>0</td>\n",
       "      <td>1</td>\n",
       "    </tr>\n",
       "    <tr>\n",
       "      <th>2</th>\n",
       "      <td>2.15</td>\n",
       "      <td>2010.0</td>\n",
       "      <td>60000</td>\n",
       "      <td>1</td>\n",
       "      <td>17.00</td>\n",
       "      <td>1197.0</td>\n",
       "      <td>80.00</td>\n",
       "      <td>5.0</td>\n",
       "      <td>0</td>\n",
       "      <td>1</td>\n",
       "      <td>0</td>\n",
       "      <td>0</td>\n",
       "      <td>0</td>\n",
       "      <td>0</td>\n",
       "      <td>0</td>\n",
       "      <td>1</td>\n",
       "    </tr>\n",
       "    <tr>\n",
       "      <th>3</th>\n",
       "      <td>2.26</td>\n",
       "      <td>2012.0</td>\n",
       "      <td>37000</td>\n",
       "      <td>1</td>\n",
       "      <td>20.92</td>\n",
       "      <td>998.0</td>\n",
       "      <td>67.10</td>\n",
       "      <td>5.0</td>\n",
       "      <td>0</td>\n",
       "      <td>1</td>\n",
       "      <td>0</td>\n",
       "      <td>0</td>\n",
       "      <td>0</td>\n",
       "      <td>0</td>\n",
       "      <td>0</td>\n",
       "      <td>1</td>\n",
       "    </tr>\n",
       "    <tr>\n",
       "      <th>4</th>\n",
       "      <td>5.70</td>\n",
       "      <td>2015.0</td>\n",
       "      <td>30000</td>\n",
       "      <td>1</td>\n",
       "      <td>22.77</td>\n",
       "      <td>1498.0</td>\n",
       "      <td>98.59</td>\n",
       "      <td>5.0</td>\n",
       "      <td>1</td>\n",
       "      <td>0</td>\n",
       "      <td>0</td>\n",
       "      <td>0</td>\n",
       "      <td>1</td>\n",
       "      <td>0</td>\n",
       "      <td>0</td>\n",
       "      <td>0</td>\n",
       "    </tr>\n",
       "  </tbody>\n",
       "</table>\n",
       "</div>"
      ],
      "text/plain": [
       "   selling_price    year  km_driven  transmission_type  mileage  engine  \\\n",
       "0           1.20  2012.0     120000                  1    19.70   796.0   \n",
       "1           5.50  2016.0      20000                  1    18.90  1197.0   \n",
       "2           2.15  2010.0      60000                  1    17.00  1197.0   \n",
       "3           2.26  2012.0      37000                  1    20.92   998.0   \n",
       "4           5.70  2015.0      30000                  1    22.77  1498.0   \n",
       "\n",
       "   max_power  seats  seller_type_Dealer  seller_type_Individual  \\\n",
       "0      46.30    5.0                   0                       1   \n",
       "1      82.00    5.0                   0                       1   \n",
       "2      80.00    5.0                   0                       1   \n",
       "3      67.10    5.0                   0                       1   \n",
       "4      98.59    5.0                   1                       0   \n",
       "\n",
       "   seller_type_Trustmark Dealer  fuel_type_CNG  fuel_type_Diesel  \\\n",
       "0                             0              0                 0   \n",
       "1                             0              0                 0   \n",
       "2                             0              0                 0   \n",
       "3                             0              0                 0   \n",
       "4                             0              0                 1   \n",
       "\n",
       "   fuel_type_Electric  fuel_type_LPG  fuel_type_Petrol  \n",
       "0                   0              0                 1  \n",
       "1                   0              0                 1  \n",
       "2                   0              0                 1  \n",
       "3                   0              0                 1  \n",
       "4                   0              0                 0  "
      ]
     },
     "execution_count": 41,
     "metadata": {},
     "output_type": "execute_result"
    }
   ],
   "source": [
    "df.head()"
   ]
  },
  {
   "cell_type": "code",
   "execution_count": 43,
   "id": "243e47fe",
   "metadata": {},
   "outputs": [],
   "source": [
    "Y = df['selling_price'].values\n",
    "X = df.drop(columns=['selling_price']).values"
   ]
  },
  {
   "cell_type": "code",
   "execution_count": 44,
   "id": "8c7c870f",
   "metadata": {},
   "outputs": [
    {
     "data": {
      "text/plain": [
       "(19980, 15)"
      ]
     },
     "execution_count": 44,
     "metadata": {},
     "output_type": "execute_result"
    }
   ],
   "source": [
    "X.shape"
   ]
  },
  {
   "cell_type": "code",
   "execution_count": 46,
   "id": "8d4b6dd6",
   "metadata": {},
   "outputs": [
    {
     "data": {
      "text/plain": [
       "(19980, 1)"
      ]
     },
     "execution_count": 46,
     "metadata": {},
     "output_type": "execute_result"
    }
   ],
   "source": [
    "Y = Y.reshape(-1, 1)\n",
    "Y.shape"
   ]
  },
  {
   "cell_type": "code",
   "execution_count": null,
   "id": "402158c3",
   "metadata": {},
   "outputs": [],
   "source": []
  },
  {
   "cell_type": "code",
   "execution_count": 49,
   "id": "d71280ca",
   "metadata": {},
   "outputs": [],
   "source": [
    "from sklearn.linear_model import LinearRegression"
   ]
  },
  {
   "cell_type": "code",
   "execution_count": 50,
   "id": "2a59b611",
   "metadata": {},
   "outputs": [],
   "source": [
    "model_lr =  LinearRegression()"
   ]
  },
  {
   "cell_type": "code",
   "execution_count": 51,
   "id": "b8ab4797",
   "metadata": {},
   "outputs": [],
   "source": [
    "model_lr  = model_lr.fit(X, Y)"
   ]
  },
  {
   "cell_type": "code",
   "execution_count": 54,
   "id": "3dbbba39",
   "metadata": {},
   "outputs": [
    {
     "data": {
      "text/plain": [
       "array([[ 5.91807521e-01, -1.01437437e-05, -2.32099777e+00,\n",
       "        -5.42557364e-02,  2.96329704e-03,  1.04867717e-01,\n",
       "        -9.55473961e-01,  2.70864256e-01,  3.03220049e-01,\n",
       "        -5.74084305e-01, -1.22352164e-01, -1.45297204e+00,\n",
       "         2.55244769e+00,  1.25543217e+00, -2.23255567e+00]])"
      ]
     },
     "execution_count": 54,
     "metadata": {},
     "output_type": "execute_result"
    }
   ],
   "source": [
    "model_lr.coef_"
   ]
  },
  {
   "cell_type": "code",
   "execution_count": 55,
   "id": "045c52b7",
   "metadata": {},
   "outputs": [
    {
     "data": {
      "text/plain": [
       "array([-1189.34621761])"
      ]
     },
     "execution_count": 55,
     "metadata": {},
     "output_type": "execute_result"
    }
   ],
   "source": [
    "model_lr.intercept_"
   ]
  },
  {
   "cell_type": "code",
   "execution_count": null,
   "id": "c8982706",
   "metadata": {},
   "outputs": [],
   "source": []
  },
  {
   "cell_type": "code",
   "execution_count": 58,
   "id": "3db880a3",
   "metadata": {},
   "outputs": [
    {
     "data": {
      "text/plain": [
       "(15,)"
      ]
     },
     "execution_count": 58,
     "metadata": {},
     "output_type": "execute_result"
    }
   ],
   "source": [
    "X[100].shape"
   ]
  },
  {
   "cell_type": "code",
   "execution_count": 60,
   "id": "def7f47f",
   "metadata": {},
   "outputs": [
    {
     "data": {
      "text/plain": [
       "array([[4.1777918]])"
      ]
     },
     "execution_count": 60,
     "metadata": {},
     "output_type": "execute_result"
    }
   ],
   "source": [
    "model_lr.predict(X[100].reshape(1, -1))"
   ]
  },
  {
   "cell_type": "code",
   "execution_count": 61,
   "id": "f60c3d4c",
   "metadata": {},
   "outputs": [
    {
     "data": {
      "text/plain": [
       "array([4.5])"
      ]
     },
     "execution_count": 61,
     "metadata": {},
     "output_type": "execute_result"
    }
   ],
   "source": [
    "Y[100]"
   ]
  },
  {
   "cell_type": "markdown",
   "id": "226a93ce",
   "metadata": {},
   "source": [
    "# evaluate?"
   ]
  },
  {
   "cell_type": "code",
   "execution_count": 62,
   "id": "24f8999b",
   "metadata": {},
   "outputs": [
    {
     "data": {
      "text/plain": [
       "0.6003938638569908"
      ]
     },
     "execution_count": 62,
     "metadata": {},
     "output_type": "execute_result"
    }
   ],
   "source": [
    "model_lr.score(X, Y)"
   ]
  },
  {
   "cell_type": "code",
   "execution_count": null,
   "id": "222badff",
   "metadata": {},
   "outputs": [],
   "source": []
  }
 ],
 "metadata": {
  "kernelspec": {
   "display_name": "Python 3",
   "language": "python",
   "name": "python3"
  },
  "language_info": {
   "codemirror_mode": {
    "name": "ipython",
    "version": 3
   },
   "file_extension": ".py",
   "mimetype": "text/x-python",
   "name": "python",
   "nbconvert_exporter": "python",
   "pygments_lexer": "ipython3",
   "version": "3.8.8"
  }
 },
 "nbformat": 4,
 "nbformat_minor": 5
}
