{
 "cells": [
  {
   "cell_type": "code",
   "execution_count": 1,
   "id": "2085268a",
   "metadata": {},
   "outputs": [],
   "source": [
    "import random"
   ]
  },
  {
   "cell_type": "markdown",
   "id": "e82a0d00",
   "metadata": {},
   "source": [
    "## Simulation of a coin"
   ]
  },
  {
   "cell_type": "code",
   "execution_count": 11,
   "id": "f04d0024",
   "metadata": {},
   "outputs": [],
   "source": [
    "head = 0\n",
    "for i in range(1000000):\n",
    "    head += random.randint(0,1)"
   ]
  },
  {
   "cell_type": "code",
   "execution_count": 12,
   "id": "97afef71",
   "metadata": {},
   "outputs": [
    {
     "name": "stdout",
     "output_type": "stream",
     "text": [
      "499908\n"
     ]
    }
   ],
   "source": [
    "print(head)"
   ]
  },
  {
   "cell_type": "code",
   "execution_count": 10,
   "id": "65391a2e",
   "metadata": {},
   "outputs": [
    {
     "data": {
      "text/plain": [
       "0.497"
      ]
     },
     "execution_count": 10,
     "metadata": {},
     "output_type": "execute_result"
    }
   ],
   "source": [
    "4970/10000"
   ]
  },
  {
   "cell_type": "code",
   "execution_count": null,
   "id": "ce034d12",
   "metadata": {},
   "outputs": [],
   "source": []
  }
 ],
 "metadata": {
  "kernelspec": {
   "display_name": "Python 3",
   "language": "python",
   "name": "python3"
  },
  "language_info": {
   "codemirror_mode": {
    "name": "ipython",
    "version": 3
   },
   "file_extension": ".py",
   "mimetype": "text/x-python",
   "name": "python",
   "nbconvert_exporter": "python",
   "pygments_lexer": "ipython3",
   "version": "3.8.8"
  }
 },
 "nbformat": 4,
 "nbformat_minor": 5
}
