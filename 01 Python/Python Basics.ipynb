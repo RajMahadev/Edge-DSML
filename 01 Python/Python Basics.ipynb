{
 "cells": [
  {
   "cell_type": "code",
   "execution_count": 3,
   "id": "2e0b3ba2",
   "metadata": {},
   "outputs": [
    {
     "name": "stdout",
     "output_type": "stream",
     "text": [
      "Hello world\n"
     ]
    }
   ],
   "source": [
    "print(\"Hello world\")"
   ]
  },
  {
   "cell_type": "markdown",
   "id": "8970b704",
   "metadata": {},
   "source": [
    "# Basics\n",
    "<h1> Python </h1>"
   ]
  },
  {
   "cell_type": "markdown",
   "id": "88f3aa64",
   "metadata": {},
   "source": [
    "## Data Structure\n",
    "- Arrays\n",
    "- Strings\n",
    "- Linked lists\n",
    "- Trees"
   ]
  },
  {
   "cell_type": "code",
   "execution_count": 2,
   "id": "e94ee23a",
   "metadata": {},
   "outputs": [
    {
     "name": "stdout",
     "output_type": "stream",
     "text": [
      "Hello students\n"
     ]
    }
   ],
   "source": [
    "# shift + enter\n",
    "print(\"Hello students\")"
   ]
  },
  {
   "cell_type": "code",
   "execution_count": 140,
   "id": "6795c276",
   "metadata": {},
   "outputs": [
    {
     "name": "stdout",
     "output_type": "stream",
     "text": [
      "Python, Data Science, Machine Learning\n"
     ]
    }
   ],
   "source": [
    "print(\"Python\", \"Data Science\", \"Machine Learning\", sep = \", \")"
   ]
  },
  {
   "cell_type": "code",
   "execution_count": 138,
   "id": "6130a587",
   "metadata": {},
   "outputs": [],
   "source": [
    "print?"
   ]
  },
  {
   "cell_type": "code",
   "execution_count": 5,
   "id": "14920f7d",
   "metadata": {},
   "outputs": [
    {
     "name": "stdout",
     "output_type": "stream",
     "text": [
      "['False', 'None', 'True', 'and', 'as', 'assert', 'async', 'await', 'break', 'class', 'continue', 'def', 'del', 'elif', 'else', 'except', 'finally', 'for', 'from', 'global', 'if', 'import', 'in', 'is', 'lambda', 'nonlocal', 'not', 'or', 'pass', 'raise', 'return', 'try', 'while', 'with', 'yield']\n"
     ]
    }
   ],
   "source": [
    "import keyword\n",
    "print(keyword.kwlist)"
   ]
  },
  {
   "cell_type": "code",
   "execution_count": null,
   "id": "a7ca0ff6",
   "metadata": {},
   "outputs": [],
   "source": []
  },
  {
   "cell_type": "code",
   "execution_count": 8,
   "id": "65d7b29b",
   "metadata": {},
   "outputs": [
    {
     "name": "stdout",
     "output_type": "stream",
     "text": [
      "699\n"
     ]
    }
   ],
   "source": [
    "price = 699\n",
    "print(price)"
   ]
  },
  {
   "cell_type": "code",
   "execution_count": 9,
   "id": "711b8f7b",
   "metadata": {},
   "outputs": [
    {
     "ename": "SyntaxError",
     "evalue": "invalid syntax (<ipython-input-9-fc6a65fbc66b>, line 1)",
     "output_type": "error",
     "traceback": [
      "\u001b[0;36m  File \u001b[0;32m\"<ipython-input-9-fc6a65fbc66b>\"\u001b[0;36m, line \u001b[0;32m1\u001b[0m\n\u001b[0;31m    13iphone = 799\u001b[0m\n\u001b[0m      ^\u001b[0m\n\u001b[0;31mSyntaxError\u001b[0m\u001b[0;31m:\u001b[0m invalid syntax\n"
     ]
    }
   ],
   "source": [
    "13iphone = 799"
   ]
  },
  {
   "cell_type": "code",
   "execution_count": 10,
   "id": "27b75c34",
   "metadata": {},
   "outputs": [
    {
     "name": "stdout",
     "output_type": "stream",
     "text": [
      "799\n"
     ]
    }
   ],
   "source": [
    "iphone13 = 799\n",
    "print(iphone13)"
   ]
  },
  {
   "cell_type": "code",
   "execution_count": 11,
   "id": "d2570424",
   "metadata": {},
   "outputs": [
    {
     "name": "stdout",
     "output_type": "stream",
     "text": [
      "<class 'int'>\n"
     ]
    }
   ],
   "source": [
    "print( type(iphone13) )"
   ]
  },
  {
   "cell_type": "markdown",
   "id": "c8534e1b",
   "metadata": {},
   "source": [
    "## DataTypes\n",
    "- int\n",
    "- float\n",
    "- str\n",
    "- bool\n",
    "- None"
   ]
  },
  {
   "cell_type": "code",
   "execution_count": 12,
   "id": "a97bab4b",
   "metadata": {},
   "outputs": [
    {
     "name": "stdout",
     "output_type": "stream",
     "text": [
      "$799\n"
     ]
    }
   ],
   "source": [
    "iphone13 = \"$799\"\n",
    "\n",
    "print(iphone13)"
   ]
  },
  {
   "cell_type": "code",
   "execution_count": 17,
   "id": "d11fbe31",
   "metadata": {},
   "outputs": [
    {
     "data": {
      "text/plain": [
       "str"
      ]
     },
     "execution_count": 17,
     "metadata": {},
     "output_type": "execute_result"
    }
   ],
   "source": [
    "type(iphone13)"
   ]
  },
  {
   "cell_type": "code",
   "execution_count": 18,
   "id": "ac726ffa",
   "metadata": {},
   "outputs": [
    {
     "data": {
      "text/plain": [
       "'$799'"
      ]
     },
     "execution_count": 18,
     "metadata": {},
     "output_type": "execute_result"
    }
   ],
   "source": [
    "iphone13"
   ]
  },
  {
   "cell_type": "code",
   "execution_count": 19,
   "id": "06450575",
   "metadata": {},
   "outputs": [
    {
     "name": "stdout",
     "output_type": "stream",
     "text": [
      "799.99\n"
     ]
    }
   ],
   "source": [
    "iphone13 = 799.99\n",
    "\n",
    "print(iphone13)"
   ]
  },
  {
   "cell_type": "code",
   "execution_count": null,
   "id": "4b18b6a3",
   "metadata": {},
   "outputs": [],
   "source": []
  },
  {
   "cell_type": "markdown",
   "id": "5bfaa4ae",
   "metadata": {},
   "source": [
    "### Location of a Variable"
   ]
  },
  {
   "cell_type": "code",
   "execution_count": 20,
   "id": "afe2cc1f",
   "metadata": {},
   "outputs": [
    {
     "data": {
      "text/plain": [
       "140623423645040"
      ]
     },
     "execution_count": 20,
     "metadata": {},
     "output_type": "execute_result"
    }
   ],
   "source": [
    "id(iphone13)"
   ]
  },
  {
   "cell_type": "code",
   "execution_count": 21,
   "id": "16eed7c4",
   "metadata": {},
   "outputs": [
    {
     "data": {
      "text/plain": [
       "140623693626064"
      ]
     },
     "execution_count": 21,
     "metadata": {},
     "output_type": "execute_result"
    }
   ],
   "source": [
    "id(price)"
   ]
  },
  {
   "cell_type": "code",
   "execution_count": null,
   "id": "066cffaa",
   "metadata": {},
   "outputs": [],
   "source": []
  },
  {
   "cell_type": "markdown",
   "id": "449743ae",
   "metadata": {},
   "source": [
    "### Type Conversion"
   ]
  },
  {
   "cell_type": "code",
   "execution_count": 23,
   "id": "9716794c",
   "metadata": {},
   "outputs": [
    {
     "data": {
      "text/plain": [
       "'799.99'"
      ]
     },
     "execution_count": 23,
     "metadata": {},
     "output_type": "execute_result"
    }
   ],
   "source": [
    "str(iphone13)"
   ]
  },
  {
   "cell_type": "code",
   "execution_count": 25,
   "id": "391e1506",
   "metadata": {},
   "outputs": [
    {
     "data": {
      "text/plain": [
       "799"
      ]
     },
     "execution_count": 25,
     "metadata": {},
     "output_type": "execute_result"
    }
   ],
   "source": [
    "int(iphone13)"
   ]
  },
  {
   "cell_type": "code",
   "execution_count": 26,
   "id": "8f890d9e",
   "metadata": {},
   "outputs": [
    {
     "data": {
      "text/plain": [
       "float"
      ]
     },
     "execution_count": 26,
     "metadata": {},
     "output_type": "execute_result"
    }
   ],
   "source": [
    "type(iphone13)"
   ]
  },
  {
   "cell_type": "code",
   "execution_count": 29,
   "id": "c1a074c5",
   "metadata": {},
   "outputs": [
    {
     "data": {
      "text/plain": [
       "True"
      ]
     },
     "execution_count": 29,
     "metadata": {},
     "output_type": "execute_result"
    }
   ],
   "source": [
    "bool(1)"
   ]
  },
  {
   "cell_type": "code",
   "execution_count": null,
   "id": "17d82638",
   "metadata": {},
   "outputs": [],
   "source": []
  },
  {
   "cell_type": "markdown",
   "id": "54f34c15",
   "metadata": {},
   "source": [
    "### Input from user"
   ]
  },
  {
   "cell_type": "code",
   "execution_count": 32,
   "id": "6d3e11dd",
   "metadata": {},
   "outputs": [
    {
     "name": "stdout",
     "output_type": "stream",
     "text": [
      "Enter your name: Mohit\n"
     ]
    }
   ],
   "source": [
    "name = input(\"Enter your name: \")"
   ]
  },
  {
   "cell_type": "code",
   "execution_count": 33,
   "id": "a4c939cf",
   "metadata": {},
   "outputs": [
    {
     "name": "stdout",
     "output_type": "stream",
     "text": [
      "Mohit\n"
     ]
    }
   ],
   "source": [
    "print(name)"
   ]
  },
  {
   "cell_type": "code",
   "execution_count": 34,
   "id": "b5da70da",
   "metadata": {},
   "outputs": [
    {
     "data": {
      "text/plain": [
       "str"
      ]
     },
     "execution_count": 34,
     "metadata": {},
     "output_type": "execute_result"
    }
   ],
   "source": [
    "type(name)"
   ]
  },
  {
   "cell_type": "code",
   "execution_count": 35,
   "id": "cdadc03e",
   "metadata": {},
   "outputs": [
    {
     "name": "stdout",
     "output_type": "stream",
     "text": [
      "Welcome Mohit\n"
     ]
    }
   ],
   "source": [
    "print(\"Welcome\", name)"
   ]
  },
  {
   "cell_type": "markdown",
   "id": "17aa145c",
   "metadata": {},
   "source": [
    "salary = 50000 + exp* 20000"
   ]
  },
  {
   "cell_type": "code",
   "execution_count": 38,
   "id": "6ad18c15",
   "metadata": {},
   "outputs": [
    {
     "name": "stdout",
     "output_type": "stream",
     "text": [
      "Enter your experience:2.5\n"
     ]
    }
   ],
   "source": [
    "exp = float(input(\"Enter your experience:\"))"
   ]
  },
  {
   "cell_type": "code",
   "execution_count": 39,
   "id": "ead3da35",
   "metadata": {},
   "outputs": [
    {
     "name": "stdout",
     "output_type": "stream",
     "text": [
      "100000.0\n"
     ]
    }
   ],
   "source": [
    "salary = 50000 + exp*20000\n",
    "\n",
    "print(salary)"
   ]
  },
  {
   "cell_type": "code",
   "execution_count": null,
   "id": "71310433",
   "metadata": {},
   "outputs": [],
   "source": []
  },
  {
   "cell_type": "markdown",
   "id": "d442a509",
   "metadata": {},
   "source": [
    "### Operators Expression"
   ]
  },
  {
   "cell_type": "code",
   "execution_count": 40,
   "id": "ee319a5e",
   "metadata": {},
   "outputs": [],
   "source": [
    "no1 = 8\n",
    "no2 = 3"
   ]
  },
  {
   "cell_type": "code",
   "execution_count": 50,
   "id": "dac16e8e",
   "metadata": {},
   "outputs": [],
   "source": [
    "add = no1 + no2\n",
    "div = no1 / no2\n",
    "f_div = no1 // no2\n",
    "exp = no1 ** no2"
   ]
  },
  {
   "cell_type": "code",
   "execution_count": 51,
   "id": "742c3380",
   "metadata": {},
   "outputs": [
    {
     "name": "stdout",
     "output_type": "stream",
     "text": [
      "8+3 = 11\n",
      "8/3 = 2.6666666666666665\n",
      "8//3 = 2\n",
      "8**3 = 512\n"
     ]
    }
   ],
   "source": [
    "print( \"{}+{} = {}\".format(no1,no2,add) )\n",
    "print( \"{}/{} = {}\".format(no1,no2,div) )\n",
    "print( \"{}//{} = {}\".format(no1,no2,f_div) )\n",
    "print( \"{}**{} = {}\".format(no1,no2,exp) )"
   ]
  },
  {
   "cell_type": "code",
   "execution_count": null,
   "id": "2e4cb4cb",
   "metadata": {},
   "outputs": [],
   "source": []
  },
  {
   "cell_type": "code",
   "execution_count": 53,
   "id": "10bd8c95",
   "metadata": {},
   "outputs": [],
   "source": [
    "p1_salary = 90000"
   ]
  },
  {
   "cell_type": "code",
   "execution_count": 54,
   "id": "c473db0a",
   "metadata": {},
   "outputs": [
    {
     "data": {
      "text/plain": [
       "False"
      ]
     },
     "execution_count": 54,
     "metadata": {},
     "output_type": "execute_result"
    }
   ],
   "source": [
    "p1_salary > 100000"
   ]
  },
  {
   "cell_type": "code",
   "execution_count": 55,
   "id": "a34921bf",
   "metadata": {},
   "outputs": [
    {
     "data": {
      "text/plain": [
       "True"
      ]
     },
     "execution_count": 55,
     "metadata": {},
     "output_type": "execute_result"
    }
   ],
   "source": [
    "p1_salary < 100000"
   ]
  },
  {
   "cell_type": "code",
   "execution_count": 56,
   "id": "14262867",
   "metadata": {},
   "outputs": [
    {
     "data": {
      "text/plain": [
       "False"
      ]
     },
     "execution_count": 56,
     "metadata": {},
     "output_type": "execute_result"
    }
   ],
   "source": [
    "p1_salary == 100000"
   ]
  },
  {
   "cell_type": "code",
   "execution_count": 57,
   "id": "b81decc0",
   "metadata": {},
   "outputs": [
    {
     "data": {
      "text/plain": [
       "True"
      ]
     },
     "execution_count": 57,
     "metadata": {},
     "output_type": "execute_result"
    }
   ],
   "source": [
    "(10>5) and (20 < 25)"
   ]
  },
  {
   "cell_type": "code",
   "execution_count": 61,
   "id": "9900e7e6",
   "metadata": {},
   "outputs": [
    {
     "data": {
      "text/plain": [
       "True"
      ]
     },
     "execution_count": 61,
     "metadata": {},
     "output_type": "execute_result"
    }
   ],
   "source": [
    "(10>5) or (30 < 25)"
   ]
  },
  {
   "cell_type": "code",
   "execution_count": 63,
   "id": "669825f8",
   "metadata": {},
   "outputs": [
    {
     "data": {
      "text/plain": [
       "True"
      ]
     },
     "execution_count": 63,
     "metadata": {},
     "output_type": "execute_result"
    }
   ],
   "source": [
    "not (5 > 10)"
   ]
  },
  {
   "cell_type": "code",
   "execution_count": null,
   "id": "ac6c3cb8",
   "metadata": {},
   "outputs": [],
   "source": []
  },
  {
   "cell_type": "code",
   "execution_count": 64,
   "id": "4986fbdb",
   "metadata": {},
   "outputs": [],
   "source": [
    "a = 5"
   ]
  },
  {
   "cell_type": "code",
   "execution_count": 65,
   "id": "29823164",
   "metadata": {},
   "outputs": [],
   "source": [
    "a = a + 1"
   ]
  },
  {
   "cell_type": "code",
   "execution_count": 66,
   "id": "d5e7d956",
   "metadata": {},
   "outputs": [
    {
     "name": "stdout",
     "output_type": "stream",
     "text": [
      "6\n"
     ]
    }
   ],
   "source": [
    "print(a)"
   ]
  },
  {
   "cell_type": "code",
   "execution_count": 67,
   "id": "9bb44d71",
   "metadata": {},
   "outputs": [],
   "source": [
    "a += 1"
   ]
  },
  {
   "cell_type": "code",
   "execution_count": 68,
   "id": "a4dc2bef",
   "metadata": {},
   "outputs": [
    {
     "name": "stdout",
     "output_type": "stream",
     "text": [
      "7\n"
     ]
    }
   ],
   "source": [
    "print(a)"
   ]
  },
  {
   "cell_type": "code",
   "execution_count": 69,
   "id": "077de108",
   "metadata": {},
   "outputs": [],
   "source": [
    "a *= 2"
   ]
  },
  {
   "cell_type": "code",
   "execution_count": 70,
   "id": "3f24f205",
   "metadata": {},
   "outputs": [
    {
     "name": "stdout",
     "output_type": "stream",
     "text": [
      "14\n"
     ]
    }
   ],
   "source": [
    "print(a)"
   ]
  },
  {
   "cell_type": "code",
   "execution_count": 71,
   "id": "54e939a1",
   "metadata": {},
   "outputs": [],
   "source": [
    "c_id, c_name, c_purchase = 1001, \"Anurag\", 500"
   ]
  },
  {
   "cell_type": "code",
   "execution_count": 72,
   "id": "f93858c3",
   "metadata": {},
   "outputs": [],
   "source": [
    "a = b = c = 10"
   ]
  },
  {
   "cell_type": "code",
   "execution_count": null,
   "id": "6ba4b313",
   "metadata": {},
   "outputs": [],
   "source": []
  },
  {
   "cell_type": "markdown",
   "id": "f60e7284",
   "metadata": {},
   "source": [
    "# in operator"
   ]
  },
  {
   "cell_type": "code",
   "execution_count": 73,
   "id": "07123891",
   "metadata": {},
   "outputs": [],
   "source": [
    "food_review = \"\"\"We visited this place for breakfast and dinner. \n",
    "The place is very conveniently located with ample parking space. \n",
    "The food at both the meals was tasty and definitely worth the price. \n",
    "Good quantity served per portion. Service as also good. \n",
    "Overall, a good place to have food (both south indian and north indian).\n",
    "Would recommend it definitely.\"\"\""
   ]
  },
  {
   "cell_type": "code",
   "execution_count": 74,
   "id": "83b6f06a",
   "metadata": {},
   "outputs": [
    {
     "name": "stdout",
     "output_type": "stream",
     "text": [
      "We visited this place for breakfast and dinner. \n",
      "The place is very conveniently located with ample parking space. \n",
      "The food at both the meals was tasty and definitely worth the price. \n",
      "Good quantity served per portion. Service as also good. \n",
      "Overall, a good place to have food (both south indian and north indian).\n",
      "Would recommend it definitely.\n"
     ]
    }
   ],
   "source": [
    "print(food_review)"
   ]
  },
  {
   "cell_type": "code",
   "execution_count": 75,
   "id": "e370f07a",
   "metadata": {},
   "outputs": [
    {
     "data": {
      "text/plain": [
       "True"
      ]
     },
     "execution_count": 75,
     "metadata": {},
     "output_type": "execute_result"
    }
   ],
   "source": [
    "\"good\" in food_review"
   ]
  },
  {
   "cell_type": "code",
   "execution_count": 76,
   "id": "d88ef171",
   "metadata": {},
   "outputs": [
    {
     "data": {
      "text/plain": [
       "True"
      ]
     },
     "execution_count": 76,
     "metadata": {},
     "output_type": "execute_result"
    }
   ],
   "source": [
    "\"tasty\" in food_review"
   ]
  },
  {
   "cell_type": "code",
   "execution_count": 77,
   "id": "4f9ee0b6",
   "metadata": {},
   "outputs": [
    {
     "data": {
      "text/plain": [
       "False"
      ]
     },
     "execution_count": 77,
     "metadata": {},
     "output_type": "execute_result"
    }
   ],
   "source": [
    "\"worst\" in food_review"
   ]
  },
  {
   "cell_type": "code",
   "execution_count": 78,
   "id": "9813f21e",
   "metadata": {},
   "outputs": [
    {
     "data": {
      "text/plain": [
       "False"
      ]
     },
     "execution_count": 78,
     "metadata": {},
     "output_type": "execute_result"
    }
   ],
   "source": [
    "\"nasty\" in food_review"
   ]
  },
  {
   "cell_type": "code",
   "execution_count": null,
   "id": "4e5aea4c",
   "metadata": {},
   "outputs": [],
   "source": []
  },
  {
   "cell_type": "markdown",
   "id": "88f545d4",
   "metadata": {},
   "source": [
    "# Control Flow\n",
    "- conditional statements\n",
    "- loops and iterations\n",
    "- loop statement (break, continue)"
   ]
  },
  {
   "cell_type": "code",
   "execution_count": 93,
   "id": "9238df2a",
   "metadata": {},
   "outputs": [
    {
     "name": "stdout",
     "output_type": "stream",
     "text": [
      "you can vote\n",
      "i'm inside if\n"
     ]
    }
   ],
   "source": [
    "age = 25\n",
    "\n",
    "if(age>18):\n",
    "    print(\"you can vote\")\n",
    "    print(\"i'm inside if\")\n",
    "else:\n",
    "    print(\"go home kid.\")\n",
    "    print(\"i'm inside else\")"
   ]
  },
  {
   "cell_type": "code",
   "execution_count": null,
   "id": "0b3c8bd5",
   "metadata": {},
   "outputs": [],
   "source": []
  },
  {
   "cell_type": "markdown",
   "id": "6897e45f",
   "metadata": {},
   "source": [
    "Q - find if number is zero, positive, or negative?"
   ]
  },
  {
   "cell_type": "code",
   "execution_count": 101,
   "id": "7c695803",
   "metadata": {},
   "outputs": [],
   "source": [
    "number = 6"
   ]
  },
  {
   "cell_type": "code",
   "execution_count": 102,
   "id": "ffdc260c",
   "metadata": {},
   "outputs": [
    {
     "name": "stdout",
     "output_type": "stream",
     "text": [
      "Positive\n"
     ]
    }
   ],
   "source": [
    "if(number==0):\n",
    "    print(\"Zero\")\n",
    "elif (number>0):\n",
    "    print(\"Positive\")\n",
    "else:\n",
    "    print(\"Negative\")"
   ]
  },
  {
   "cell_type": "code",
   "execution_count": 103,
   "id": "b7754d29",
   "metadata": {},
   "outputs": [
    {
     "name": "stdout",
     "output_type": "stream",
     "text": [
      "Positive\n"
     ]
    }
   ],
   "source": [
    "if(number==0):\n",
    "    print(\"Zero\")\n",
    "else:\n",
    "    if(number>0):\n",
    "        print(\"Positive\")\n",
    "    else:\n",
    "        print(\"Negative\")     "
   ]
  },
  {
   "cell_type": "code",
   "execution_count": null,
   "id": "2c2230ac",
   "metadata": {},
   "outputs": [],
   "source": []
  },
  {
   "cell_type": "markdown",
   "id": "6b9f4aac",
   "metadata": {},
   "source": [
    "## Loops\n",
    "- while\n",
    "- for in loop"
   ]
  },
  {
   "cell_type": "code",
   "execution_count": 111,
   "id": "d5ccea38",
   "metadata": {},
   "outputs": [
    {
     "name": "stdout",
     "output_type": "stream",
     "text": [
      "1 2 3 4 5 6 7 8 9 "
     ]
    }
   ],
   "source": [
    "i = 1\n",
    "\n",
    "while(i<10):\n",
    "    print(i, end=\" \")\n",
    "    i = i+1"
   ]
  },
  {
   "cell_type": "code",
   "execution_count": null,
   "id": "cc3d5a39",
   "metadata": {},
   "outputs": [],
   "source": []
  },
  {
   "cell_type": "code",
   "execution_count": 116,
   "id": "cba47d44",
   "metadata": {},
   "outputs": [
    {
     "name": "stdout",
     "output_type": "stream",
     "text": [
      "1 3 5 7 9 11 13 15 17 19 "
     ]
    }
   ],
   "source": [
    "for ele in range(1, 21, 2):\n",
    "    \n",
    "    print(ele, end=\" \")"
   ]
  },
  {
   "cell_type": "code",
   "execution_count": 118,
   "id": "e630e795",
   "metadata": {},
   "outputs": [
    {
     "name": "stdout",
     "output_type": "stream",
     "text": [
      "1 3 5 7 9 11 13 15 17 19 "
     ]
    }
   ],
   "source": [
    "for ele in range(0,21):\n",
    "    \n",
    "    if ele%2!=0:\n",
    "        print(ele, end=\" \")"
   ]
  },
  {
   "cell_type": "code",
   "execution_count": 133,
   "id": "f29abeaf",
   "metadata": {},
   "outputs": [
    {
     "name": "stdout",
     "output_type": "stream",
     "text": [
      "10\n",
      "9\n",
      "8\n",
      "7\n",
      "6\n",
      "5\n",
      "4\n",
      "3\n",
      "2\n",
      "1\n"
     ]
    }
   ],
   "source": [
    "for i in range(10,0, -1):\n",
    "    print(i)"
   ]
  },
  {
   "cell_type": "code",
   "execution_count": null,
   "id": "d93190f7",
   "metadata": {},
   "outputs": [],
   "source": []
  },
  {
   "cell_type": "code",
   "execution_count": null,
   "id": "87b16529",
   "metadata": {},
   "outputs": [],
   "source": [
    "n = 5\n",
    "# *\n",
    "# **\n",
    "# ***\n",
    "# ****\n",
    "# *****"
   ]
  },
  {
   "cell_type": "code",
   "execution_count": 155,
   "id": "23a05f04",
   "metadata": {},
   "outputs": [
    {
     "name": "stdout",
     "output_type": "stream",
     "text": [
      "*\n",
      "**\n",
      "***\n",
      "****\n",
      "*****\n"
     ]
    }
   ],
   "source": [
    "for i in range(5):\n",
    "    for j in range(i+1):\n",
    "        print(\"*\", end='')\n",
    "    print()"
   ]
  },
  {
   "cell_type": "code",
   "execution_count": 145,
   "id": "bf520756",
   "metadata": {},
   "outputs": [
    {
     "name": "stdout",
     "output_type": "stream",
     "text": [
      "*\n",
      "**\n",
      "***\n",
      "****\n",
      "*****\n"
     ]
    }
   ],
   "source": [
    "for i in range(5):\n",
    "    print(\"*\"*(i+1))"
   ]
  },
  {
   "cell_type": "code",
   "execution_count": 146,
   "id": "562fadca",
   "metadata": {},
   "outputs": [
    {
     "data": {
      "text/plain": [
       "'HelloHelloHelloHello'"
      ]
     },
     "execution_count": 146,
     "metadata": {},
     "output_type": "execute_result"
    }
   ],
   "source": [
    "\"Hello\"*4"
   ]
  },
  {
   "cell_type": "code",
   "execution_count": null,
   "id": "b41379e4",
   "metadata": {},
   "outputs": [],
   "source": []
  },
  {
   "cell_type": "code",
   "execution_count": 147,
   "id": "44202ae2",
   "metadata": {},
   "outputs": [
    {
     "name": "stdout",
     "output_type": "stream",
     "text": [
      "1\n",
      "2\n",
      "3\n"
     ]
    }
   ],
   "source": [
    "for i in range(1, 10):\n",
    "    if i==4:\n",
    "        break\n",
    "    print(i)"
   ]
  },
  {
   "cell_type": "code",
   "execution_count": 148,
   "id": "dc2e555c",
   "metadata": {},
   "outputs": [
    {
     "name": "stdout",
     "output_type": "stream",
     "text": [
      "1\n",
      "2\n",
      "3\n",
      "5\n",
      "6\n",
      "7\n",
      "8\n",
      "9\n"
     ]
    }
   ],
   "source": [
    "for i in range(1, 10):\n",
    "    if i==4:\n",
    "        continue\n",
    "    print(i)"
   ]
  },
  {
   "cell_type": "code",
   "execution_count": null,
   "id": "980a1164",
   "metadata": {},
   "outputs": [],
   "source": []
  },
  {
   "cell_type": "code",
   "execution_count": null,
   "id": "b019048f",
   "metadata": {},
   "outputs": [],
   "source": []
  }
 ],
 "metadata": {
  "kernelspec": {
   "display_name": "Python 3",
   "language": "python",
   "name": "python3"
  },
  "language_info": {
   "codemirror_mode": {
    "name": "ipython",
    "version": 3
   },
   "file_extension": ".py",
   "mimetype": "text/x-python",
   "name": "python",
   "nbconvert_exporter": "python",
   "pygments_lexer": "ipython3",
   "version": "3.8.8"
  }
 },
 "nbformat": 4,
 "nbformat_minor": 5
}
