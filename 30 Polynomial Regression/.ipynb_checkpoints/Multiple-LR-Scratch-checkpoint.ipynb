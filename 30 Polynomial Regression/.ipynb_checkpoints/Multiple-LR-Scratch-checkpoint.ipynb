{
 "cells": [
  {
   "cell_type": "code",
   "execution_count": 1,
   "id": "deb47142",
   "metadata": {},
   "outputs": [],
   "source": [
    "import numpy as np\n",
    "import pandas as pd\n",
    "\n",
    "import matplotlib.pyplot as plt"
   ]
  },
  {
   "cell_type": "code",
   "execution_count": 2,
   "id": "f26e3765",
   "metadata": {},
   "outputs": [],
   "source": [
    "df = pd.read_csv('cars24-clean.csv')"
   ]
  },
  {
   "cell_type": "code",
   "execution_count": 3,
   "id": "32baf0c0",
   "metadata": {},
   "outputs": [
    {
     "data": {
      "text/plain": [
       "(19980, 16)"
      ]
     },
     "execution_count": 3,
     "metadata": {},
     "output_type": "execute_result"
    }
   ],
   "source": [
    "df.shape"
   ]
  },
  {
   "cell_type": "code",
   "execution_count": 4,
   "id": "0e6d4743",
   "metadata": {},
   "outputs": [
    {
     "data": {
      "text/html": [
       "<div>\n",
       "<style scoped>\n",
       "    .dataframe tbody tr th:only-of-type {\n",
       "        vertical-align: middle;\n",
       "    }\n",
       "\n",
       "    .dataframe tbody tr th {\n",
       "        vertical-align: top;\n",
       "    }\n",
       "\n",
       "    .dataframe thead th {\n",
       "        text-align: right;\n",
       "    }\n",
       "</style>\n",
       "<table border=\"1\" class=\"dataframe\">\n",
       "  <thead>\n",
       "    <tr style=\"text-align: right;\">\n",
       "      <th></th>\n",
       "      <th>selling_price</th>\n",
       "      <th>year</th>\n",
       "      <th>km_driven</th>\n",
       "      <th>transmission_type</th>\n",
       "      <th>mileage</th>\n",
       "      <th>engine</th>\n",
       "      <th>max_power</th>\n",
       "      <th>seats</th>\n",
       "      <th>seller_type_Dealer</th>\n",
       "      <th>seller_type_Individual</th>\n",
       "      <th>seller_type_Trustmark Dealer</th>\n",
       "      <th>fuel_type_CNG</th>\n",
       "      <th>fuel_type_Diesel</th>\n",
       "      <th>fuel_type_Electric</th>\n",
       "      <th>fuel_type_LPG</th>\n",
       "      <th>fuel_type_Petrol</th>\n",
       "    </tr>\n",
       "  </thead>\n",
       "  <tbody>\n",
       "    <tr>\n",
       "      <th>0</th>\n",
       "      <td>1.20</td>\n",
       "      <td>2012.0</td>\n",
       "      <td>120000</td>\n",
       "      <td>1</td>\n",
       "      <td>19.70</td>\n",
       "      <td>796.0</td>\n",
       "      <td>46.30</td>\n",
       "      <td>5.0</td>\n",
       "      <td>0</td>\n",
       "      <td>1</td>\n",
       "      <td>0</td>\n",
       "      <td>0</td>\n",
       "      <td>0</td>\n",
       "      <td>0</td>\n",
       "      <td>0</td>\n",
       "      <td>1</td>\n",
       "    </tr>\n",
       "    <tr>\n",
       "      <th>1</th>\n",
       "      <td>5.50</td>\n",
       "      <td>2016.0</td>\n",
       "      <td>20000</td>\n",
       "      <td>1</td>\n",
       "      <td>18.90</td>\n",
       "      <td>1197.0</td>\n",
       "      <td>82.00</td>\n",
       "      <td>5.0</td>\n",
       "      <td>0</td>\n",
       "      <td>1</td>\n",
       "      <td>0</td>\n",
       "      <td>0</td>\n",
       "      <td>0</td>\n",
       "      <td>0</td>\n",
       "      <td>0</td>\n",
       "      <td>1</td>\n",
       "    </tr>\n",
       "    <tr>\n",
       "      <th>2</th>\n",
       "      <td>2.15</td>\n",
       "      <td>2010.0</td>\n",
       "      <td>60000</td>\n",
       "      <td>1</td>\n",
       "      <td>17.00</td>\n",
       "      <td>1197.0</td>\n",
       "      <td>80.00</td>\n",
       "      <td>5.0</td>\n",
       "      <td>0</td>\n",
       "      <td>1</td>\n",
       "      <td>0</td>\n",
       "      <td>0</td>\n",
       "      <td>0</td>\n",
       "      <td>0</td>\n",
       "      <td>0</td>\n",
       "      <td>1</td>\n",
       "    </tr>\n",
       "    <tr>\n",
       "      <th>3</th>\n",
       "      <td>2.26</td>\n",
       "      <td>2012.0</td>\n",
       "      <td>37000</td>\n",
       "      <td>1</td>\n",
       "      <td>20.92</td>\n",
       "      <td>998.0</td>\n",
       "      <td>67.10</td>\n",
       "      <td>5.0</td>\n",
       "      <td>0</td>\n",
       "      <td>1</td>\n",
       "      <td>0</td>\n",
       "      <td>0</td>\n",
       "      <td>0</td>\n",
       "      <td>0</td>\n",
       "      <td>0</td>\n",
       "      <td>1</td>\n",
       "    </tr>\n",
       "    <tr>\n",
       "      <th>4</th>\n",
       "      <td>5.70</td>\n",
       "      <td>2015.0</td>\n",
       "      <td>30000</td>\n",
       "      <td>1</td>\n",
       "      <td>22.77</td>\n",
       "      <td>1498.0</td>\n",
       "      <td>98.59</td>\n",
       "      <td>5.0</td>\n",
       "      <td>1</td>\n",
       "      <td>0</td>\n",
       "      <td>0</td>\n",
       "      <td>0</td>\n",
       "      <td>1</td>\n",
       "      <td>0</td>\n",
       "      <td>0</td>\n",
       "      <td>0</td>\n",
       "    </tr>\n",
       "  </tbody>\n",
       "</table>\n",
       "</div>"
      ],
      "text/plain": [
       "   selling_price    year  km_driven  transmission_type  mileage  engine  \\\n",
       "0           1.20  2012.0     120000                  1    19.70   796.0   \n",
       "1           5.50  2016.0      20000                  1    18.90  1197.0   \n",
       "2           2.15  2010.0      60000                  1    17.00  1197.0   \n",
       "3           2.26  2012.0      37000                  1    20.92   998.0   \n",
       "4           5.70  2015.0      30000                  1    22.77  1498.0   \n",
       "\n",
       "   max_power  seats  seller_type_Dealer  seller_type_Individual  \\\n",
       "0      46.30    5.0                   0                       1   \n",
       "1      82.00    5.0                   0                       1   \n",
       "2      80.00    5.0                   0                       1   \n",
       "3      67.10    5.0                   0                       1   \n",
       "4      98.59    5.0                   1                       0   \n",
       "\n",
       "   seller_type_Trustmark Dealer  fuel_type_CNG  fuel_type_Diesel  \\\n",
       "0                             0              0                 0   \n",
       "1                             0              0                 0   \n",
       "2                             0              0                 0   \n",
       "3                             0              0                 0   \n",
       "4                             0              0                 1   \n",
       "\n",
       "   fuel_type_Electric  fuel_type_LPG  fuel_type_Petrol  \n",
       "0                   0              0                 1  \n",
       "1                   0              0                 1  \n",
       "2                   0              0                 1  \n",
       "3                   0              0                 1  \n",
       "4                   0              0                 0  "
      ]
     },
     "execution_count": 4,
     "metadata": {},
     "output_type": "execute_result"
    }
   ],
   "source": [
    "df.head()"
   ]
  },
  {
   "cell_type": "code",
   "execution_count": 5,
   "id": "69c92cf5",
   "metadata": {},
   "outputs": [
    {
     "data": {
      "text/plain": [
       "selling_price                   0\n",
       "year                            0\n",
       "km_driven                       0\n",
       "transmission_type               0\n",
       "mileage                         0\n",
       "engine                          0\n",
       "max_power                       0\n",
       "seats                           0\n",
       "seller_type_Dealer              0\n",
       "seller_type_Individual          0\n",
       "seller_type_Trustmark Dealer    0\n",
       "fuel_type_CNG                   0\n",
       "fuel_type_Diesel                0\n",
       "fuel_type_Electric              0\n",
       "fuel_type_LPG                   0\n",
       "fuel_type_Petrol                0\n",
       "dtype: int64"
      ]
     },
     "execution_count": 5,
     "metadata": {},
     "output_type": "execute_result"
    }
   ],
   "source": [
    "df.isna().sum()"
   ]
  },
  {
   "cell_type": "code",
   "execution_count": 60,
   "id": "222badff",
   "metadata": {},
   "outputs": [],
   "source": [
    "X = df.drop(columns=['selling_price']).values\n",
    "Y = df['selling_price'].values"
   ]
  },
  {
   "cell_type": "code",
   "execution_count": 61,
   "id": "6a2188ac",
   "metadata": {},
   "outputs": [
    {
     "data": {
      "text/plain": [
       "(19980, 15)"
      ]
     },
     "execution_count": 61,
     "metadata": {},
     "output_type": "execute_result"
    }
   ],
   "source": [
    "X.shape"
   ]
  },
  {
   "cell_type": "code",
   "execution_count": 62,
   "id": "583264f3",
   "metadata": {},
   "outputs": [],
   "source": [
    "Y = Y.reshape(-1, 1)"
   ]
  },
  {
   "cell_type": "code",
   "execution_count": 63,
   "id": "cfe93fb9",
   "metadata": {},
   "outputs": [
    {
     "data": {
      "text/plain": [
       "(19980, 1)"
      ]
     },
     "execution_count": 63,
     "metadata": {},
     "output_type": "execute_result"
    }
   ],
   "source": [
    "Y.shape"
   ]
  },
  {
   "cell_type": "markdown",
   "id": "f5dd1627",
   "metadata": {},
   "source": [
    "# Standardise the Data"
   ]
  },
  {
   "cell_type": "code",
   "execution_count": 64,
   "id": "5a6afed8",
   "metadata": {},
   "outputs": [],
   "source": [
    "mu = np.mean(X,axis=0)\n",
    "std = np.std(X,axis=0)"
   ]
  },
  {
   "cell_type": "code",
   "execution_count": 65,
   "id": "e3f56f8b",
   "metadata": {},
   "outputs": [],
   "source": [
    "X = (X-mu)/std"
   ]
  },
  {
   "cell_type": "code",
   "execution_count": 66,
   "id": "c971abd1",
   "metadata": {},
   "outputs": [
    {
     "data": {
      "text/plain": [
       "array([[-0.77717587,  1.19394023,  0.49647833,  0.07636062],\n",
       "       [ 0.45393282, -0.73940588,  0.49647833, -0.09680191],\n",
       "       [-1.39273021,  0.03393256,  0.49647833, -0.50806291],\n",
       "       [-0.77717587, -0.41073704,  0.49647833,  0.34043348],\n",
       "       [ 0.14615565, -0.54607127,  0.49647833,  0.74087183]])"
      ]
     },
     "execution_count": 66,
     "metadata": {},
     "output_type": "execute_result"
    }
   ],
   "source": [
    "X[:5, :4]"
   ]
  },
  {
   "cell_type": "code",
   "execution_count": 67,
   "id": "3aad2179",
   "metadata": {},
   "outputs": [
    {
     "data": {
      "image/png": "[encoded data removed]",
      "text/plain": [
       "<Figure size 576x396 with 1 Axes>"
      ]
     },
     "metadata": {},
     "output_type": "display_data"
    }
   ],
   "source": [
    "# Plot Y vs any feature\n",
    "\n",
    "plt.style.use('seaborn')\n",
    "plt.scatter(X[:,5],y)\n",
    "plt.show()"
   ]
  },
  {
   "cell_type": "code",
   "execution_count": null,
   "id": "bf4dbaf6",
   "metadata": {},
   "outputs": [],
   "source": []
  },
  {
   "cell_type": "code",
   "execution_count": 68,
   "id": "4a728c9a",
   "metadata": {},
   "outputs": [
    {
     "name": "stdout",
     "output_type": "stream",
     "text": [
      "(19980, 16)\n"
     ]
    }
   ],
   "source": [
    "ones = np.ones((X.shape[0],1))\n",
    "X = np.hstack((ones,X))\n",
    "print(X.shape)"
   ]
  },
  {
   "cell_type": "code",
   "execution_count": 69,
   "id": "4524a8fe",
   "metadata": {},
   "outputs": [
    {
     "data": {
      "text/plain": [
       "array([[ 1.        , -0.77717587,  1.19394023,  0.49647833],\n",
       "       [ 1.        ,  0.45393282, -0.73940588,  0.49647833],\n",
       "       [ 1.        , -1.39273021,  0.03393256,  0.49647833],\n",
       "       [ 1.        , -0.77717587, -0.41073704,  0.49647833],\n",
       "       [ 1.        ,  0.14615565, -0.54607127,  0.49647833]])"
      ]
     },
     "execution_count": 69,
     "metadata": {},
     "output_type": "execute_result"
    }
   ],
   "source": [
    "X[:5, :4]"
   ]
  },
  {
   "cell_type": "markdown",
   "id": "0762009c",
   "metadata": {},
   "source": [
    "# Scratch Implementation\n",
    "\n",
    "\n",
    "- Avoid loops in the implemenation, except gradient descent main loop\n",
    "- Use numpy functions like np.sum(), np.dot() which are quite fast and already optimised"
   ]
  },
  {
   "cell_type": "code",
   "execution_count": 70,
   "id": "13b52602",
   "metadata": {},
   "outputs": [],
   "source": [
    "def hypothesis(X,theta):\n",
    "    '''\n",
    "    X : np.array. shape - (m,n)\n",
    "    theta : np.array. shape - (n,1)\n",
    "    \n",
    "    return : np.array (m,1)\n",
    "    '''\n",
    "    return np.dot(X,theta)\n",
    "\n",
    "def error(X,Y,theta):\n",
    "    '''\n",
    "    X : np.array. shape - (m,n)\n",
    "    Y : np.array. shape - (m,1)\n",
    "    theta : np.array. shape - (n,1)\n",
    "    \n",
    "    return : Scalar loss value\n",
    "    '''\n",
    "    \n",
    "    Y_ = hypothesis(X,theta)\n",
    "    e = np.sum((Y-Y_)**2)\n",
    "    \n",
    "    return e/X.shape[0]\n",
    "    \n",
    "def gradient(X,Y,theta):\n",
    "    '''\n",
    "    X : np.array. shape - (m,n)\n",
    "    Y : np.array. shape - (m,1)\n",
    "    theta : np.array. shape - (n,1)\n",
    "    \n",
    "    return : np.array (n,1)\n",
    "    '''\n",
    "    \n",
    "    Y_ = hypothesis(X,theta)\n",
    "    grad = np.dot(X.T,(Y_ - Y))\n",
    "    \n",
    "    return grad/X.shape[0]\n",
    "\n",
    "def gradient_descent(X, Y, learning_rate = 0.1, max_iters=300):\n",
    "    \n",
    "    n = X.shape[1]\n",
    "    theta = np.zeros((n,1))\n",
    "    error_list = []\n",
    "    \n",
    "    for i in range(max_iters):\n",
    "        e = error(X,Y,theta)\n",
    "        error_list.append(e)\n",
    "        \n",
    "        #Gradient descent\n",
    "        grad = gradient(X,Y,theta)\n",
    "        theta = theta - learning_rate*grad\n",
    "        \n",
    "    return theta,error_list"
   ]
  },
  {
   "cell_type": "code",
   "execution_count": 71,
   "id": "4c107d77",
   "metadata": {},
   "outputs": [],
   "source": [
    "theta, error_list = gradient_descent(X,Y)"
   ]
  },
  {
   "cell_type": "code",
   "execution_count": 72,
   "id": "f45ed4c4",
   "metadata": {},
   "outputs": [
    {
     "data": {
      "image/png": "[encoded data removed]",
      "text/plain": [
       "<Figure size 576x396 with 1 Axes>"
      ]
     },
     "metadata": {},
     "output_type": "display_data"
    }
   ],
   "source": [
    "plt.plot(error_list)\n",
    "plt.show()"
   ]
  },
  {
   "cell_type": "markdown",
   "id": "4f9c5ebd",
   "metadata": {},
   "source": [
    "### Predictions"
   ]
  },
  {
   "cell_type": "code",
   "execution_count": 75,
   "id": "ddae5347",
   "metadata": {},
   "outputs": [],
   "source": [
    "Y_ = hypothesis(X, theta)"
   ]
  },
  {
   "cell_type": "code",
   "execution_count": 76,
   "id": "bd0f7280",
   "metadata": {},
   "outputs": [
    {
     "data": {
      "text/plain": [
       "array([[ -2.73823768],\n",
       "       [  5.62898873],\n",
       "       [  1.55901388],\n",
       "       ...,\n",
       "       [  8.32961806],\n",
       "       [-24.81061348],\n",
       "       [ 14.44232625]])"
      ]
     },
     "execution_count": 76,
     "metadata": {},
     "output_type": "execute_result"
    }
   ],
   "source": [
    "Y_*si"
   ]
  },
  {
   "cell_type": "code",
   "execution_count": null,
   "id": "afef631b",
   "metadata": {},
   "outputs": [],
   "source": []
  }
 ],
 "metadata": {
  "kernelspec": {
   "display_name": "Python 3",
   "language": "python",
   "name": "python3"
  },
  "language_info": {
   "codemirror_mode": {
    "name": "ipython",
    "version": 3
   },
   "file_extension": ".py",
   "mimetype": "text/x-python",
   "name": "python",
   "nbconvert_exporter": "python",
   "pygments_lexer": "ipython3",
   "version": "3.8.8"
  }
 },
 "nbformat": 4,
 "nbformat_minor": 5
}
