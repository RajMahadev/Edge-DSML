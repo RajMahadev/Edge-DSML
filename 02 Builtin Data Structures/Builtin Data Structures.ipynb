{
 "cells": [
  {
   "cell_type": "markdown",
   "id": "cb8ac880",
   "metadata": {},
   "source": [
    "## Data Structures\n",
    "- strings\n",
    "- lists\n",
    "- tuples\n",
    "- sets\n",
    "- dictionary"
   ]
  },
  {
   "cell_type": "code",
   "execution_count": 1,
   "id": "523cc997",
   "metadata": {},
   "outputs": [
    {
     "name": "stdout",
     "output_type": "stream",
     "text": [
      "Alexa, Switch off the lights\n"
     ]
    }
   ],
   "source": [
    "data = \"Alexa, Switch off the lights\"\n",
    "\n",
    "print(data)"
   ]
  },
  {
   "cell_type": "code",
   "execution_count": 3,
   "id": "62c4626c",
   "metadata": {},
   "outputs": [
    {
     "name": "stdout",
     "output_type": "stream",
     "text": [
      "<class 'str'>\n"
     ]
    }
   ],
   "source": [
    "print( type(data) )"
   ]
  },
  {
   "cell_type": "markdown",
   "id": "793bb2b9",
   "metadata": {},
   "source": [
    "#### Indexing"
   ]
  },
  {
   "cell_type": "code",
   "execution_count": 5,
   "id": "45670b30",
   "metadata": {},
   "outputs": [
    {
     "name": "stdout",
     "output_type": "stream",
     "text": [
      "A\n",
      "e\n"
     ]
    }
   ],
   "source": [
    "print(data[0])\n",
    "print(data[2])"
   ]
  },
  {
   "cell_type": "code",
   "execution_count": 7,
   "id": "05cd82bb",
   "metadata": {},
   "outputs": [
    {
     "name": "stdout",
     "output_type": "stream",
     "text": [
      "28\n"
     ]
    }
   ],
   "source": [
    "print(len(data))"
   ]
  },
  {
   "cell_type": "code",
   "execution_count": 8,
   "id": "f2a271b3",
   "metadata": {},
   "outputs": [
    {
     "name": "stdout",
     "output_type": "stream",
     "text": [
      "s\n"
     ]
    }
   ],
   "source": [
    "print( data[ len(data) - 1 ] )"
   ]
  },
  {
   "cell_type": "markdown",
   "id": "c327389c",
   "metadata": {},
   "source": [
    "**Negative Indexing**"
   ]
  },
  {
   "cell_type": "code",
   "execution_count": 9,
   "id": "0f2c41fa",
   "metadata": {},
   "outputs": [
    {
     "name": "stdout",
     "output_type": "stream",
     "text": [
      "s\n",
      "t\n"
     ]
    }
   ],
   "source": [
    "print( data[-1] )\n",
    "print( data[-2] )"
   ]
  },
  {
   "cell_type": "markdown",
   "id": "291bbe8c",
   "metadata": {},
   "source": [
    "### Slicing\n",
    "\n",
    "`data[start_idx : end_idx+1 : step_size ]`"
   ]
  },
  {
   "cell_type": "code",
   "execution_count": 12,
   "id": "c8a3c460",
   "metadata": {},
   "outputs": [
    {
     "name": "stdout",
     "output_type": "stream",
     "text": [
      "Alexa, Switch off the lights\n"
     ]
    }
   ],
   "source": [
    "print(data)"
   ]
  },
  {
   "cell_type": "code",
   "execution_count": 13,
   "id": "94464fed",
   "metadata": {},
   "outputs": [
    {
     "name": "stdout",
     "output_type": "stream",
     "text": [
      "Alexa\n"
     ]
    }
   ],
   "source": [
    "print(data[0:4+1])"
   ]
  },
  {
   "cell_type": "code",
   "execution_count": 14,
   "id": "49cf9575",
   "metadata": {},
   "outputs": [
    {
     "name": "stdout",
     "output_type": "stream",
     "text": [
      "Switch off\n"
     ]
    }
   ],
   "source": [
    "print(data[7:17])"
   ]
  },
  {
   "cell_type": "code",
   "execution_count": 15,
   "id": "d257dc7f",
   "metadata": {},
   "outputs": [
    {
     "name": "stdout",
     "output_type": "stream",
     "text": [
      "Alexa, Switch off the lights\n"
     ]
    }
   ],
   "source": [
    "print(data[:])"
   ]
  },
  {
   "cell_type": "code",
   "execution_count": 25,
   "id": "6490e3a8",
   "metadata": {},
   "outputs": [
    {
     "name": "stdout",
     "output_type": "stream",
     "text": [
      "Sic f\n"
     ]
    }
   ],
   "source": [
    "# jump / step size\n",
    "\n",
    "print(data[7:17:2])"
   ]
  },
  {
   "cell_type": "code",
   "execution_count": 26,
   "id": "c8487a0a",
   "metadata": {},
   "outputs": [
    {
     "name": "stdout",
     "output_type": "stream",
     "text": [
      " ffo hctiw\n"
     ]
    }
   ],
   "source": [
    "print(data[17:7:-1])"
   ]
  },
  {
   "cell_type": "code",
   "execution_count": 27,
   "id": "207a0382",
   "metadata": {},
   "outputs": [
    {
     "name": "stdout",
     "output_type": "stream",
     "text": [
      "sthgil eht ffo hctiwS ,axelA\n"
     ]
    }
   ],
   "source": [
    "# what is this? ----> reversing a string\n",
    "\n",
    "print(data[::-1])"
   ]
  },
  {
   "cell_type": "code",
   "execution_count": null,
   "id": "2cb3f222",
   "metadata": {},
   "outputs": [],
   "source": []
  },
  {
   "cell_type": "markdown",
   "id": "2b67f4fc",
   "metadata": {},
   "source": [
    "### String Methods"
   ]
  },
  {
   "cell_type": "code",
   "execution_count": 29,
   "id": "c576a1d1",
   "metadata": {},
   "outputs": [
    {
     "name": "stdout",
     "output_type": "stream",
     "text": [
      "alexa, switch off the lights\n"
     ]
    }
   ],
   "source": [
    "print(data.lower())"
   ]
  },
  {
   "cell_type": "code",
   "execution_count": 30,
   "id": "05a8786c",
   "metadata": {},
   "outputs": [
    {
     "name": "stdout",
     "output_type": "stream",
     "text": [
      "ALEXA, SWITCH OFF THE LIGHTS\n"
     ]
    }
   ],
   "source": [
    "print(data.upper())"
   ]
  },
  {
   "cell_type": "code",
   "execution_count": 31,
   "id": "9cda3c14",
   "metadata": {},
   "outputs": [
    {
     "name": "stdout",
     "output_type": "stream",
     "text": [
      "Alexa, Switch Off The Lights\n"
     ]
    }
   ],
   "source": [
    "print(data.title())"
   ]
  },
  {
   "cell_type": "code",
   "execution_count": null,
   "id": "afb9295a",
   "metadata": {},
   "outputs": [],
   "source": []
  },
  {
   "cell_type": "code",
   "execution_count": 33,
   "id": "618396ba",
   "metadata": {},
   "outputs": [
    {
     "data": {
      "text/plain": [
       "14"
      ]
     },
     "execution_count": 33,
     "metadata": {},
     "output_type": "execute_result"
    }
   ],
   "source": [
    "data.find('off')"
   ]
  },
  {
   "cell_type": "code",
   "execution_count": 35,
   "id": "b8164780",
   "metadata": {},
   "outputs": [
    {
     "data": {
      "text/plain": [
       "True"
      ]
     },
     "execution_count": 35,
     "metadata": {},
     "output_type": "execute_result"
    }
   ],
   "source": [
    "\"9\".isdigit()"
   ]
  },
  {
   "cell_type": "code",
   "execution_count": 38,
   "id": "9e2a081f",
   "metadata": {},
   "outputs": [
    {
     "data": {
      "text/plain": [
       "['Alexa', ' Switch off the lights']"
      ]
     },
     "execution_count": 38,
     "metadata": {},
     "output_type": "execute_result"
    }
   ],
   "source": [
    "# important\n",
    "\n",
    "data.split(',')"
   ]
  },
  {
   "cell_type": "code",
   "execution_count": null,
   "id": "35facacc",
   "metadata": {},
   "outputs": [],
   "source": []
  },
  {
   "cell_type": "code",
   "execution_count": 41,
   "id": "64187b01",
   "metadata": {},
   "outputs": [],
   "source": [
    "data = data.replace(\"Alexa\", \"OK Google\")"
   ]
  },
  {
   "cell_type": "code",
   "execution_count": 42,
   "id": "5c020c46",
   "metadata": {},
   "outputs": [
    {
     "name": "stdout",
     "output_type": "stream",
     "text": [
      "OK Google, Switch off the lights\n"
     ]
    }
   ],
   "source": [
    "print(data)"
   ]
  },
  {
   "cell_type": "code",
   "execution_count": 46,
   "id": "8c4aabc2",
   "metadata": {},
   "outputs": [
    {
     "ename": "TypeError",
     "evalue": "'str' object does not support item assignment",
     "output_type": "error",
     "traceback": [
      "\u001b[0;31m---------------------------------------------------------------------------\u001b[0m",
      "\u001b[0;31mTypeError\u001b[0m                                 Traceback (most recent call last)",
      "\u001b[0;32m<ipython-input-46-337a44e1fb14>\u001b[0m in \u001b[0;36m<module>\u001b[0;34m\u001b[0m\n\u001b[1;32m      1\u001b[0m \u001b[0;31m# immutable.\u001b[0m\u001b[0;34m\u001b[0m\u001b[0;34m\u001b[0m\u001b[0;34m\u001b[0m\u001b[0m\n\u001b[0;32m----> 2\u001b[0;31m \u001b[0mdata\u001b[0m\u001b[0;34m[\u001b[0m\u001b[0;36m0\u001b[0m\u001b[0;34m]\u001b[0m \u001b[0;34m=\u001b[0m \u001b[0;34m'P'\u001b[0m\u001b[0;34m\u001b[0m\u001b[0;34m\u001b[0m\u001b[0m\n\u001b[0m",
      "\u001b[0;31mTypeError\u001b[0m: 'str' object does not support item assignment"
     ]
    }
   ],
   "source": [
    "# immutable.\n",
    "data[0] = 'P'"
   ]
  },
  {
   "cell_type": "code",
   "execution_count": 47,
   "id": "6fa265de",
   "metadata": {},
   "outputs": [],
   "source": [
    "data = \"Changed\""
   ]
  },
  {
   "cell_type": "code",
   "execution_count": 48,
   "id": "6f2e7cb0",
   "metadata": {},
   "outputs": [
    {
     "name": "stdout",
     "output_type": "stream",
     "text": [
      "Changed\n"
     ]
    }
   ],
   "source": [
    "print(data)"
   ]
  },
  {
   "cell_type": "code",
   "execution_count": null,
   "id": "333efdc2",
   "metadata": {},
   "outputs": [],
   "source": []
  },
  {
   "cell_type": "markdown",
   "id": "6487fe1d",
   "metadata": {},
   "source": [
    "# Lists"
   ]
  },
  {
   "cell_type": "code",
   "execution_count": null,
   "id": "05ae86d0",
   "metadata": {},
   "outputs": [],
   "source": []
  },
  {
   "cell_type": "code",
   "execution_count": 50,
   "id": "9a9df1e1",
   "metadata": {},
   "outputs": [],
   "source": [
    "# empty list\n",
    "\n",
    "heights = []\n",
    "\n",
    "heights = list()"
   ]
  },
  {
   "cell_type": "code",
   "execution_count": 51,
   "id": "e0d57b0f",
   "metadata": {},
   "outputs": [],
   "source": [
    "heights = [150, 167, 175, 161, 180, 172, 177]"
   ]
  },
  {
   "cell_type": "code",
   "execution_count": 52,
   "id": "8fc56993",
   "metadata": {},
   "outputs": [
    {
     "name": "stdout",
     "output_type": "stream",
     "text": [
      "[150, 167, 175, 161, 180, 172, 177]\n"
     ]
    }
   ],
   "source": [
    "print(heights)"
   ]
  },
  {
   "cell_type": "code",
   "execution_count": 53,
   "id": "fb3f7e1e",
   "metadata": {},
   "outputs": [
    {
     "name": "stdout",
     "output_type": "stream",
     "text": [
      "<class 'list'>\n"
     ]
    }
   ],
   "source": [
    "print( type(heights) )"
   ]
  },
  {
   "cell_type": "code",
   "execution_count": 54,
   "id": "ee3c2ac7",
   "metadata": {},
   "outputs": [
    {
     "name": "stdout",
     "output_type": "stream",
     "text": [
      "7\n"
     ]
    }
   ],
   "source": [
    "print( len(heights) )"
   ]
  },
  {
   "cell_type": "markdown",
   "id": "332fae39",
   "metadata": {},
   "source": [
    "#### Indexing "
   ]
  },
  {
   "cell_type": "code",
   "execution_count": 56,
   "id": "709134d9",
   "metadata": {},
   "outputs": [
    {
     "name": "stdout",
     "output_type": "stream",
     "text": [
      "150\n",
      "167\n"
     ]
    }
   ],
   "source": [
    "print( heights[0] )\n",
    "print( heights[1] )"
   ]
  },
  {
   "cell_type": "code",
   "execution_count": 57,
   "id": "4e360c10",
   "metadata": {},
   "outputs": [
    {
     "name": "stdout",
     "output_type": "stream",
     "text": [
      "177\n",
      "172\n"
     ]
    }
   ],
   "source": [
    "print( heights[-1] )\n",
    "print( heights[-2] )"
   ]
  },
  {
   "cell_type": "code",
   "execution_count": 58,
   "id": "87317c3a",
   "metadata": {},
   "outputs": [
    {
     "name": "stdout",
     "output_type": "stream",
     "text": [
      "[167, 175, 161, 180]\n"
     ]
    }
   ],
   "source": [
    "## slicing \n",
    "\n",
    "print(heights[1:5])"
   ]
  },
  {
   "cell_type": "markdown",
   "id": "ba804982",
   "metadata": {},
   "source": [
    "### Some Important Methods for lists\n",
    "\n",
    "- append\n",
    "- insert\n",
    "- pop\n",
    "- remove\n",
    "- reverse\n",
    "- sort\n",
    "- extend"
   ]
  },
  {
   "cell_type": "code",
   "execution_count": 59,
   "id": "1d05c0ee",
   "metadata": {},
   "outputs": [],
   "source": [
    "heights.append(182)"
   ]
  },
  {
   "cell_type": "code",
   "execution_count": 60,
   "id": "2e919ffb",
   "metadata": {},
   "outputs": [
    {
     "name": "stdout",
     "output_type": "stream",
     "text": [
      "[150, 167, 175, 161, 180, 172, 177, 182]\n"
     ]
    }
   ],
   "source": [
    "print(heights)"
   ]
  },
  {
   "cell_type": "code",
   "execution_count": 61,
   "id": "1ac466c7",
   "metadata": {},
   "outputs": [],
   "source": [
    "# play around with this.\n",
    "\n",
    "# heights.insert?"
   ]
  },
  {
   "cell_type": "code",
   "execution_count": 62,
   "id": "59458b6a",
   "metadata": {},
   "outputs": [],
   "source": [
    "deleted_ele = heights.pop()"
   ]
  },
  {
   "cell_type": "code",
   "execution_count": 63,
   "id": "434ff509",
   "metadata": {},
   "outputs": [
    {
     "name": "stdout",
     "output_type": "stream",
     "text": [
      "182\n"
     ]
    }
   ],
   "source": [
    "print(deleted_ele)"
   ]
  },
  {
   "cell_type": "code",
   "execution_count": 64,
   "id": "38ae388f",
   "metadata": {},
   "outputs": [
    {
     "name": "stdout",
     "output_type": "stream",
     "text": [
      "[150, 167, 175, 161, 180, 172, 177]\n"
     ]
    }
   ],
   "source": [
    "print(heights)"
   ]
  },
  {
   "cell_type": "code",
   "execution_count": null,
   "id": "1b9f4cf3",
   "metadata": {},
   "outputs": [],
   "source": []
  },
  {
   "cell_type": "markdown",
   "id": "c263aff7",
   "metadata": {},
   "source": [
    "##### This is wrong"
   ]
  },
  {
   "cell_type": "code",
   "execution_count": 65,
   "id": "7d6ca837",
   "metadata": {},
   "outputs": [],
   "source": [
    "heights.append([166, 178, 163, 170])"
   ]
  },
  {
   "cell_type": "code",
   "execution_count": 66,
   "id": "2590117b",
   "metadata": {},
   "outputs": [
    {
     "name": "stdout",
     "output_type": "stream",
     "text": [
      "[150, 167, 175, 161, 180, 172, 177, [166, 178, 163, 170]]\n"
     ]
    }
   ],
   "source": [
    "print(heights)"
   ]
  },
  {
   "cell_type": "code",
   "execution_count": 67,
   "id": "26f6f7df",
   "metadata": {},
   "outputs": [
    {
     "data": {
      "text/plain": [
       "[166, 178, 163, 170]"
      ]
     },
     "execution_count": 67,
     "metadata": {},
     "output_type": "execute_result"
    }
   ],
   "source": [
    "heights.pop()"
   ]
  },
  {
   "cell_type": "code",
   "execution_count": 68,
   "id": "9a45122b",
   "metadata": {},
   "outputs": [
    {
     "name": "stdout",
     "output_type": "stream",
     "text": [
      "[150, 167, 175, 161, 180, 172, 177]\n"
     ]
    }
   ],
   "source": [
    "print(heights)"
   ]
  },
  {
   "cell_type": "code",
   "execution_count": 69,
   "id": "3e68c927",
   "metadata": {},
   "outputs": [],
   "source": [
    "heights.extend([166, 178, 163, 170])"
   ]
  },
  {
   "cell_type": "code",
   "execution_count": 70,
   "id": "a7e12453",
   "metadata": {},
   "outputs": [
    {
     "name": "stdout",
     "output_type": "stream",
     "text": [
      "[150, 167, 175, 161, 180, 172, 177, 166, 178, 163, 170]\n"
     ]
    }
   ],
   "source": [
    "print(heights)"
   ]
  },
  {
   "cell_type": "code",
   "execution_count": null,
   "id": "f39f76e1",
   "metadata": {},
   "outputs": [],
   "source": []
  },
  {
   "cell_type": "code",
   "execution_count": 71,
   "id": "478c66ed",
   "metadata": {},
   "outputs": [],
   "source": [
    "heights.sort()"
   ]
  },
  {
   "cell_type": "code",
   "execution_count": 72,
   "id": "ccfca161",
   "metadata": {},
   "outputs": [
    {
     "name": "stdout",
     "output_type": "stream",
     "text": [
      "[150, 161, 163, 166, 167, 170, 172, 175, 177, 178, 180]\n"
     ]
    }
   ],
   "source": [
    "print(heights)"
   ]
  },
  {
   "cell_type": "code",
   "execution_count": null,
   "id": "dd66eb09",
   "metadata": {},
   "outputs": [],
   "source": []
  },
  {
   "cell_type": "markdown",
   "id": "089e114f",
   "metadata": {},
   "source": [
    "### List Comprehensions"
   ]
  },
  {
   "cell_type": "code",
   "execution_count": 73,
   "id": "400b4a38",
   "metadata": {},
   "outputs": [],
   "source": [
    "short_height = []"
   ]
  },
  {
   "cell_type": "code",
   "execution_count": 75,
   "id": "47b9f5c6",
   "metadata": {},
   "outputs": [],
   "source": [
    "for h in heights:\n",
    "    if h <165:\n",
    "        short_height.append(h)"
   ]
  },
  {
   "cell_type": "code",
   "execution_count": 76,
   "id": "6d4be7fb",
   "metadata": {},
   "outputs": [
    {
     "name": "stdout",
     "output_type": "stream",
     "text": [
      "[150, 161, 163]\n"
     ]
    }
   ],
   "source": [
    "print(short_height)"
   ]
  },
  {
   "cell_type": "code",
   "execution_count": 81,
   "id": "639b1b6e",
   "metadata": {},
   "outputs": [],
   "source": [
    "# list comprehension\n",
    "short_height = [kk for kk in heights if kk<165]"
   ]
  },
  {
   "cell_type": "code",
   "execution_count": 82,
   "id": "2d5c6745",
   "metadata": {},
   "outputs": [
    {
     "name": "stdout",
     "output_type": "stream",
     "text": [
      "[150, 161, 163]\n"
     ]
    }
   ],
   "source": [
    "print(short_height)"
   ]
  },
  {
   "cell_type": "code",
   "execution_count": null,
   "id": "b97e9f8b",
   "metadata": {},
   "outputs": [],
   "source": []
  },
  {
   "cell_type": "code",
   "execution_count": 83,
   "id": "fe7af4ec",
   "metadata": {},
   "outputs": [],
   "source": [
    "lst = [ 1.5, 8, True, \"hello\", [10,20,30], 9.8]"
   ]
  },
  {
   "cell_type": "code",
   "execution_count": 85,
   "id": "6d3653c3",
   "metadata": {},
   "outputs": [
    {
     "name": "stdout",
     "output_type": "stream",
     "text": [
      "[1.5, 8, True, 'hello', [10, 20, 30], 9.8]\n"
     ]
    }
   ],
   "source": [
    "print(lst)"
   ]
  },
  {
   "cell_type": "code",
   "execution_count": 86,
   "id": "9fbd944b",
   "metadata": {},
   "outputs": [
    {
     "data": {
      "text/plain": [
       "list"
      ]
     },
     "execution_count": 86,
     "metadata": {},
     "output_type": "execute_result"
    }
   ],
   "source": [
    "type(lst)"
   ]
  },
  {
   "cell_type": "code",
   "execution_count": 87,
   "id": "0e0f5a3d",
   "metadata": {},
   "outputs": [
    {
     "data": {
      "text/plain": [
       "6"
      ]
     },
     "execution_count": 87,
     "metadata": {},
     "output_type": "execute_result"
    }
   ],
   "source": [
    "len(lst)"
   ]
  },
  {
   "cell_type": "code",
   "execution_count": 93,
   "id": "678c8da0",
   "metadata": {},
   "outputs": [
    {
     "data": {
      "text/plain": [
       "20"
      ]
     },
     "execution_count": 93,
     "metadata": {},
     "output_type": "execute_result"
    }
   ],
   "source": [
    "lst[4][1]"
   ]
  },
  {
   "cell_type": "code",
   "execution_count": 94,
   "id": "11bf4c5d",
   "metadata": {},
   "outputs": [
    {
     "data": {
      "text/plain": [
       "int"
      ]
     },
     "execution_count": 94,
     "metadata": {},
     "output_type": "execute_result"
    }
   ],
   "source": [
    "type(lst[4][1])"
   ]
  },
  {
   "cell_type": "code",
   "execution_count": null,
   "id": "41fe524b",
   "metadata": {},
   "outputs": [],
   "source": []
  },
  {
   "cell_type": "code",
   "execution_count": 95,
   "id": "c53bea2f",
   "metadata": {},
   "outputs": [],
   "source": [
    "mat = [ [1,2,3], [4,5,6], [7,8,9] ]"
   ]
  },
  {
   "cell_type": "code",
   "execution_count": 98,
   "id": "1781bc06",
   "metadata": {},
   "outputs": [
    {
     "data": {
      "text/plain": [
       "3"
      ]
     },
     "execution_count": 98,
     "metadata": {},
     "output_type": "execute_result"
    }
   ],
   "source": [
    "len(mat[0])"
   ]
  },
  {
   "cell_type": "code",
   "execution_count": 102,
   "id": "d7e3fbd8",
   "metadata": {},
   "outputs": [
    {
     "name": "stdout",
     "output_type": "stream",
     "text": [
      "22500\n",
      "<class 'int'>\n",
      "25921\n",
      "<class 'int'>\n",
      "26569\n",
      "<class 'int'>\n",
      "27556\n",
      "<class 'int'>\n",
      "27889\n",
      "<class 'int'>\n",
      "28900\n",
      "<class 'int'>\n",
      "29584\n",
      "<class 'int'>\n",
      "30625\n",
      "<class 'int'>\n",
      "31329\n",
      "<class 'int'>\n",
      "31684\n",
      "<class 'int'>\n",
      "32400\n",
      "<class 'int'>\n"
     ]
    }
   ],
   "source": [
    "for ele in heights:\n",
    "    print(ele**2)\n",
    "    print(type(ele))"
   ]
  },
  {
   "cell_type": "code",
   "execution_count": null,
   "id": "499b9c89",
   "metadata": {},
   "outputs": [],
   "source": []
  },
  {
   "cell_type": "markdown",
   "id": "7ca98288",
   "metadata": {},
   "source": [
    "# Tuples\n",
    "- immutable"
   ]
  },
  {
   "cell_type": "code",
   "execution_count": 107,
   "id": "6828b0b5",
   "metadata": {},
   "outputs": [],
   "source": [
    "DB = ('mark@fb.com' , 'peter@google.com', 'jack@amazon.com')"
   ]
  },
  {
   "cell_type": "code",
   "execution_count": 108,
   "id": "9f350598",
   "metadata": {},
   "outputs": [
    {
     "data": {
      "text/plain": [
       "tuple"
      ]
     },
     "execution_count": 108,
     "metadata": {},
     "output_type": "execute_result"
    }
   ],
   "source": [
    "type(DB)"
   ]
  },
  {
   "cell_type": "code",
   "execution_count": 109,
   "id": "f4e0caa3",
   "metadata": {},
   "outputs": [
    {
     "name": "stdout",
     "output_type": "stream",
     "text": [
      "('mark@fb.com', 'peter@google.com', 'jack@amazon.com')\n"
     ]
    }
   ],
   "source": [
    "print(DB)"
   ]
  },
  {
   "cell_type": "code",
   "execution_count": 110,
   "id": "e6f75b56",
   "metadata": {},
   "outputs": [
    {
     "data": {
      "text/plain": [
       "'jack@amazon.com'"
      ]
     },
     "execution_count": 110,
     "metadata": {},
     "output_type": "execute_result"
    }
   ],
   "source": [
    "DB[-1]"
   ]
  },
  {
   "cell_type": "code",
   "execution_count": 112,
   "id": "28d6c38c",
   "metadata": {},
   "outputs": [
    {
     "ename": "TypeError",
     "evalue": "'tuple' object does not support item assignment",
     "output_type": "error",
     "traceback": [
      "\u001b[0;31m---------------------------------------------------------------------------\u001b[0m",
      "\u001b[0;31mTypeError\u001b[0m                                 Traceback (most recent call last)",
      "\u001b[0;32m<ipython-input-112-301e58f1a32a>\u001b[0m in \u001b[0;36m<module>\u001b[0;34m\u001b[0m\n\u001b[0;32m----> 1\u001b[0;31m \u001b[0mDB\u001b[0m\u001b[0;34m[\u001b[0m\u001b[0;36m0\u001b[0m\u001b[0;34m]\u001b[0m \u001b[0;34m=\u001b[0m \u001b[0;34m'zuckerberg@fb.com'\u001b[0m\u001b[0;34m\u001b[0m\u001b[0;34m\u001b[0m\u001b[0m\n\u001b[0m",
      "\u001b[0;31mTypeError\u001b[0m: 'tuple' object does not support item assignment"
     ]
    }
   ],
   "source": [
    "DB[0] = 'zuckerberg@fb.com'"
   ]
  },
  {
   "cell_type": "code",
   "execution_count": 113,
   "id": "0e005029",
   "metadata": {},
   "outputs": [
    {
     "data": {
      "text/plain": [
       "('mark@fb.com', 'peter@google.com', 'jack@amazon.com')"
      ]
     },
     "execution_count": 113,
     "metadata": {},
     "output_type": "execute_result"
    }
   ],
   "source": [
    "DB"
   ]
  },
  {
   "cell_type": "code",
   "execution_count": 114,
   "id": "923000f4",
   "metadata": {},
   "outputs": [
    {
     "data": {
      "text/plain": [
       "['mark@fb.com', 'peter@google.com', 'jack@amazon.com']"
      ]
     },
     "execution_count": 114,
     "metadata": {},
     "output_type": "execute_result"
    }
   ],
   "source": [
    "list(DB)"
   ]
  },
  {
   "cell_type": "code",
   "execution_count": 115,
   "id": "82d3d3ec",
   "metadata": {},
   "outputs": [
    {
     "data": {
      "text/plain": [
       "(150, 161, 163, 166, 167, 170, 172, 175, 177, 178, 180)"
      ]
     },
     "execution_count": 115,
     "metadata": {},
     "output_type": "execute_result"
    }
   ],
   "source": [
    "tuple(heights)"
   ]
  },
  {
   "cell_type": "code",
   "execution_count": null,
   "id": "e54cfc04",
   "metadata": {},
   "outputs": [],
   "source": []
  },
  {
   "cell_type": "markdown",
   "id": "eaeda0b2",
   "metadata": {},
   "source": [
    "#### Tuple Packing and unpacking"
   ]
  },
  {
   "cell_type": "code",
   "execution_count": 117,
   "id": "81fd82c0",
   "metadata": {},
   "outputs": [],
   "source": [
    "#packing\n",
    "salaries = 500,1000,5000"
   ]
  },
  {
   "cell_type": "code",
   "execution_count": 118,
   "id": "9b9d14fd",
   "metadata": {},
   "outputs": [
    {
     "data": {
      "text/plain": [
       "tuple"
      ]
     },
     "execution_count": 118,
     "metadata": {},
     "output_type": "execute_result"
    }
   ],
   "source": [
    "type(salaries)"
   ]
  },
  {
   "cell_type": "code",
   "execution_count": 119,
   "id": "bf3dcd36",
   "metadata": {},
   "outputs": [
    {
     "name": "stdout",
     "output_type": "stream",
     "text": [
      "(500, 1000, 5000)\n"
     ]
    }
   ],
   "source": [
    "print(salaries)"
   ]
  },
  {
   "cell_type": "code",
   "execution_count": 121,
   "id": "5b8664e1",
   "metadata": {},
   "outputs": [],
   "source": [
    "# unpacking\n",
    "p1_sal, p2_sal, p3_sal = salaries"
   ]
  },
  {
   "cell_type": "code",
   "execution_count": 122,
   "id": "e01a61a2",
   "metadata": {},
   "outputs": [
    {
     "name": "stdout",
     "output_type": "stream",
     "text": [
      "500\n",
      "1000\n",
      "5000\n"
     ]
    }
   ],
   "source": [
    "print(p1_sal)\n",
    "print(p2_sal)\n",
    "print(p3_sal)"
   ]
  },
  {
   "cell_type": "code",
   "execution_count": null,
   "id": "a959c8c8",
   "metadata": {},
   "outputs": [],
   "source": []
  },
  {
   "cell_type": "markdown",
   "id": "e148e90b",
   "metadata": {},
   "source": [
    "# Set"
   ]
  },
  {
   "cell_type": "code",
   "execution_count": 131,
   "id": "0fc65244",
   "metadata": {},
   "outputs": [],
   "source": [
    "# elements = set()\n",
    "\n",
    "elements = {7, 4, 7, 1, 5, 7, 9, 4, 3, 1, 11, 10, 100}"
   ]
  },
  {
   "cell_type": "code",
   "execution_count": 132,
   "id": "04911148",
   "metadata": {},
   "outputs": [
    {
     "data": {
      "text/plain": [
       "set"
      ]
     },
     "execution_count": 132,
     "metadata": {},
     "output_type": "execute_result"
    }
   ],
   "source": [
    "type(elements)"
   ]
  },
  {
   "cell_type": "code",
   "execution_count": 133,
   "id": "cad3fe59",
   "metadata": {},
   "outputs": [
    {
     "name": "stdout",
     "output_type": "stream",
     "text": [
      "{1, 3, 4, 5, 100, 7, 9, 10, 11}\n"
     ]
    }
   ],
   "source": [
    "print(elements)"
   ]
  },
  {
   "cell_type": "code",
   "execution_count": 134,
   "id": "47bd59d0",
   "metadata": {},
   "outputs": [
    {
     "ename": "TypeError",
     "evalue": "'set' object is not subscriptable",
     "output_type": "error",
     "traceback": [
      "\u001b[0;31m---------------------------------------------------------------------------\u001b[0m",
      "\u001b[0;31mTypeError\u001b[0m                                 Traceback (most recent call last)",
      "\u001b[0;32m<ipython-input-134-1becf99be085>\u001b[0m in \u001b[0;36m<module>\u001b[0;34m\u001b[0m\n\u001b[0;32m----> 1\u001b[0;31m \u001b[0melements\u001b[0m\u001b[0;34m[\u001b[0m\u001b[0;36m0\u001b[0m\u001b[0;34m]\u001b[0m\u001b[0;34m\u001b[0m\u001b[0;34m\u001b[0m\u001b[0m\n\u001b[0m",
      "\u001b[0;31mTypeError\u001b[0m: 'set' object is not subscriptable"
     ]
    }
   ],
   "source": [
    "elements[0]"
   ]
  },
  {
   "cell_type": "code",
   "execution_count": 135,
   "id": "71029ddd",
   "metadata": {},
   "outputs": [
    {
     "data": {
      "text/plain": [
       "True"
      ]
     },
     "execution_count": 135,
     "metadata": {},
     "output_type": "execute_result"
    }
   ],
   "source": [
    "# time - O(1)\n",
    "5 in elements"
   ]
  },
  {
   "cell_type": "code",
   "execution_count": 138,
   "id": "bfb76323",
   "metadata": {},
   "outputs": [],
   "source": [
    "elements.add(113)\n",
    "elements.add(113)\n",
    "elements.add(113)\n",
    "elements.add(113)\n",
    "elements.add(113)\n",
    "elements.add(113)\n",
    "elements.add(113)"
   ]
  },
  {
   "cell_type": "code",
   "execution_count": 139,
   "id": "e577718b",
   "metadata": {},
   "outputs": [
    {
     "name": "stdout",
     "output_type": "stream",
     "text": [
      "{1, 3, 4, 5, 100, 7, 9, 10, 11, 113}\n"
     ]
    }
   ],
   "source": [
    "print(elements)"
   ]
  },
  {
   "cell_type": "code",
   "execution_count": 140,
   "id": "9796eea0",
   "metadata": {},
   "outputs": [],
   "source": [
    "elements.remove(113)"
   ]
  },
  {
   "cell_type": "code",
   "execution_count": 141,
   "id": "8a7b4018",
   "metadata": {},
   "outputs": [
    {
     "name": "stdout",
     "output_type": "stream",
     "text": [
      "{1, 3, 4, 5, 100, 7, 9, 10, 11}\n"
     ]
    }
   ],
   "source": [
    "print(elements)"
   ]
  },
  {
   "cell_type": "code",
   "execution_count": 142,
   "id": "028b5b35",
   "metadata": {},
   "outputs": [
    {
     "ename": "KeyError",
     "evalue": "113",
     "output_type": "error",
     "traceback": [
      "\u001b[0;31m---------------------------------------------------------------------------\u001b[0m",
      "\u001b[0;31mKeyError\u001b[0m                                  Traceback (most recent call last)",
      "\u001b[0;32m<ipython-input-142-e8ce147f6a83>\u001b[0m in \u001b[0;36m<module>\u001b[0;34m\u001b[0m\n\u001b[0;32m----> 1\u001b[0;31m \u001b[0melements\u001b[0m\u001b[0;34m.\u001b[0m\u001b[0mremove\u001b[0m\u001b[0;34m(\u001b[0m\u001b[0;36m113\u001b[0m\u001b[0;34m)\u001b[0m\u001b[0;34m\u001b[0m\u001b[0;34m\u001b[0m\u001b[0m\n\u001b[0m",
      "\u001b[0;31mKeyError\u001b[0m: 113"
     ]
    }
   ],
   "source": [
    "elements.remove(113)"
   ]
  },
  {
   "cell_type": "code",
   "execution_count": 146,
   "id": "5de2c878",
   "metadata": {},
   "outputs": [],
   "source": [
    "elements.discard(113)"
   ]
  },
  {
   "cell_type": "code",
   "execution_count": null,
   "id": "648575fe",
   "metadata": {},
   "outputs": [],
   "source": [
    "# elements.pop()"
   ]
  },
  {
   "cell_type": "code",
   "execution_count": null,
   "id": "4a68abbc",
   "metadata": {},
   "outputs": [],
   "source": []
  },
  {
   "cell_type": "code",
   "execution_count": 147,
   "id": "f55058aa",
   "metadata": {},
   "outputs": [],
   "source": [
    "review = \"\"\"We visited this place for breakfast and dinner. \n",
    "The place is very conveniently located with ample parking space. \n",
    "The food at both the meals was tasty and definitely worth the price. \n",
    "Good quantity served per portion. Service as also good. \n",
    "Overall, a good place to have food both south indian and north indian.\n",
    "Would recommend it definitely.\"\"\""
   ]
  },
  {
   "cell_type": "code",
   "execution_count": 149,
   "id": "16010870",
   "metadata": {},
   "outputs": [],
   "source": [
    "words = review.split()"
   ]
  },
  {
   "cell_type": "code",
   "execution_count": 150,
   "id": "f3831d03",
   "metadata": {},
   "outputs": [
    {
     "data": {
      "text/plain": [
       "57"
      ]
     },
     "execution_count": 150,
     "metadata": {},
     "output_type": "execute_result"
    }
   ],
   "source": [
    "len(words)"
   ]
  },
  {
   "cell_type": "code",
   "execution_count": 152,
   "id": "51d12061",
   "metadata": {},
   "outputs": [],
   "source": [
    "vocab = set(words)"
   ]
  },
  {
   "cell_type": "code",
   "execution_count": 153,
   "id": "1ac587e6",
   "metadata": {},
   "outputs": [
    {
     "data": {
      "text/plain": [
       "49"
      ]
     },
     "execution_count": 153,
     "metadata": {},
     "output_type": "execute_result"
    }
   ],
   "source": [
    "len(vocab)"
   ]
  },
  {
   "cell_type": "code",
   "execution_count": 155,
   "id": "1012c7fd",
   "metadata": {},
   "outputs": [
    {
     "data": {
      "text/plain": [
       "True"
      ]
     },
     "execution_count": 155,
     "metadata": {},
     "output_type": "execute_result"
    }
   ],
   "source": [
    "\"good\" in vocab"
   ]
  },
  {
   "cell_type": "code",
   "execution_count": null,
   "id": "cf93b815",
   "metadata": {},
   "outputs": [],
   "source": []
  },
  {
   "cell_type": "markdown",
   "id": "5d275a6f",
   "metadata": {},
   "source": [
    "### Set operations"
   ]
  },
  {
   "cell_type": "code",
   "execution_count": 156,
   "id": "d73af1f9",
   "metadata": {},
   "outputs": [],
   "source": [
    "s1 = {4,4,6,4,8,1,5,9,10}\n",
    "s2 = {5,11, 45, 3, 7}"
   ]
  },
  {
   "cell_type": "code",
   "execution_count": 157,
   "id": "8a877652",
   "metadata": {},
   "outputs": [
    {
     "data": {
      "text/plain": [
       "{1, 3, 4, 5, 6, 7, 8, 9, 10, 11, 45}"
      ]
     },
     "execution_count": 157,
     "metadata": {},
     "output_type": "execute_result"
    }
   ],
   "source": [
    "s1.union(s2)"
   ]
  },
  {
   "cell_type": "code",
   "execution_count": 158,
   "id": "ab621319",
   "metadata": {},
   "outputs": [
    {
     "data": {
      "text/plain": [
       "{5}"
      ]
     },
     "execution_count": 158,
     "metadata": {},
     "output_type": "execute_result"
    }
   ],
   "source": [
    "s1.intersection(s2)"
   ]
  },
  {
   "cell_type": "code",
   "execution_count": null,
   "id": "d4703759",
   "metadata": {},
   "outputs": [],
   "source": []
  },
  {
   "cell_type": "markdown",
   "id": "9f741e4e",
   "metadata": {},
   "source": [
    "# Dictionary\n",
    "- unordered"
   ]
  },
  {
   "cell_type": "code",
   "execution_count": 162,
   "id": "6e092edd",
   "metadata": {},
   "outputs": [],
   "source": [
    "# EMP_DB = dict()\n",
    "\n",
    "EMP_DB = {\n",
    "    '1101' : 40000,\n",
    "    '967'  : 35000,\n",
    "    '413'  : 70000,\n",
    "    '650'  : 55000\n",
    "}\n"
   ]
  },
  {
   "cell_type": "code",
   "execution_count": 163,
   "id": "625d9bce",
   "metadata": {},
   "outputs": [
    {
     "data": {
      "text/plain": [
       "dict"
      ]
     },
     "execution_count": 163,
     "metadata": {},
     "output_type": "execute_result"
    }
   ],
   "source": [
    "type(EMP_DB)"
   ]
  },
  {
   "cell_type": "code",
   "execution_count": 164,
   "id": "e64ed858",
   "metadata": {},
   "outputs": [
    {
     "name": "stdout",
     "output_type": "stream",
     "text": [
      "{'1101': 40000, '967': 35000, '413': 70000, '650': 55000}\n"
     ]
    }
   ],
   "source": [
    "print(EMP_DB)"
   ]
  },
  {
   "cell_type": "code",
   "execution_count": 166,
   "id": "1a8b084f",
   "metadata": {},
   "outputs": [
    {
     "name": "stdout",
     "output_type": "stream",
     "text": [
      "70000\n"
     ]
    }
   ],
   "source": [
    "# accessing the value\n",
    "print(EMP_DB['413'])"
   ]
  },
  {
   "cell_type": "code",
   "execution_count": 167,
   "id": "83176c8a",
   "metadata": {},
   "outputs": [
    {
     "ename": "KeyError",
     "evalue": "'999'",
     "output_type": "error",
     "traceback": [
      "\u001b[0;31m---------------------------------------------------------------------------\u001b[0m",
      "\u001b[0;31mKeyError\u001b[0m                                  Traceback (most recent call last)",
      "\u001b[0;32m<ipython-input-167-9de46713e9be>\u001b[0m in \u001b[0;36m<module>\u001b[0;34m\u001b[0m\n\u001b[1;32m      1\u001b[0m \u001b[0;31m# accessing the value\u001b[0m\u001b[0;34m\u001b[0m\u001b[0;34m\u001b[0m\u001b[0;34m\u001b[0m\u001b[0m\n\u001b[0;32m----> 2\u001b[0;31m \u001b[0mEMP_DB\u001b[0m\u001b[0;34m[\u001b[0m\u001b[0;34m'999'\u001b[0m\u001b[0;34m]\u001b[0m\u001b[0;34m\u001b[0m\u001b[0;34m\u001b[0m\u001b[0m\n\u001b[0m",
      "\u001b[0;31mKeyError\u001b[0m: '999'"
     ]
    }
   ],
   "source": [
    "# accessing the value\n",
    "EMP_DB['999']"
   ]
  },
  {
   "cell_type": "code",
   "execution_count": 168,
   "id": "0251c6a3",
   "metadata": {},
   "outputs": [
    {
     "data": {
      "text/plain": [
       "70000"
      ]
     },
     "execution_count": 168,
     "metadata": {},
     "output_type": "execute_result"
    }
   ],
   "source": [
    "EMP_DB.get('413')"
   ]
  },
  {
   "cell_type": "code",
   "execution_count": 170,
   "id": "13da8ed1",
   "metadata": {},
   "outputs": [],
   "source": [
    "# Error Safe\n",
    "EMP_DB.get('999')"
   ]
  },
  {
   "cell_type": "code",
   "execution_count": null,
   "id": "c97df5bf",
   "metadata": {},
   "outputs": [],
   "source": []
  },
  {
   "cell_type": "code",
   "execution_count": 172,
   "id": "3d815583",
   "metadata": {},
   "outputs": [],
   "source": [
    "# Adding elements\n",
    "EMP_DB['999'] = 42000"
   ]
  },
  {
   "cell_type": "code",
   "execution_count": 173,
   "id": "be4d7259",
   "metadata": {},
   "outputs": [
    {
     "name": "stdout",
     "output_type": "stream",
     "text": [
      "{'1101': 40000, '967': 35000, '413': 70000, '650': 55000, '999': 42000}\n"
     ]
    }
   ],
   "source": [
    "print(EMP_DB)"
   ]
  },
  {
   "cell_type": "code",
   "execution_count": 174,
   "id": "6371141f",
   "metadata": {},
   "outputs": [
    {
     "data": {
      "text/plain": [
       "42000"
      ]
     },
     "execution_count": 174,
     "metadata": {},
     "output_type": "execute_result"
    }
   ],
   "source": [
    "EMP_DB.get('999')"
   ]
  },
  {
   "cell_type": "code",
   "execution_count": 175,
   "id": "d02e4602",
   "metadata": {},
   "outputs": [
    {
     "data": {
      "text/plain": [
       "42000"
      ]
     },
     "execution_count": 175,
     "metadata": {},
     "output_type": "execute_result"
    }
   ],
   "source": [
    "EMP_DB.pop('999')"
   ]
  },
  {
   "cell_type": "code",
   "execution_count": 176,
   "id": "f25b379f",
   "metadata": {},
   "outputs": [
    {
     "name": "stdout",
     "output_type": "stream",
     "text": [
      "{'1101': 40000, '967': 35000, '413': 70000, '650': 55000}\n"
     ]
    }
   ],
   "source": [
    "print(EMP_DB)"
   ]
  },
  {
   "cell_type": "code",
   "execution_count": null,
   "id": "74c2be17",
   "metadata": {},
   "outputs": [],
   "source": []
  },
  {
   "cell_type": "markdown",
   "id": "4d370fb1",
   "metadata": {},
   "source": [
    "## Nested Dictionary"
   ]
  },
  {
   "cell_type": "code",
   "execution_count": 178,
   "id": "63179d83",
   "metadata": {},
   "outputs": [],
   "source": [
    "# Mapping of emp_id with their salary for each department\n",
    "\n",
    "EMP_DB = {\n",
    "    'HR'  : {\n",
    "        '967'  : 51000,\n",
    "        '650'  : 60000\n",
    "    },\n",
    "    'TECH' : {\n",
    "        '516'  : 950000,\n",
    "        '1001' : 750000,\n",
    "        '918'  : 800000\n",
    "    },\n",
    "    'SALES' : {\n",
    "        '887' : 45000,\n",
    "        '490' : 63000\n",
    "    }\n",
    "}"
   ]
  },
  {
   "cell_type": "code",
   "execution_count": 179,
   "id": "1cb6466c",
   "metadata": {},
   "outputs": [
    {
     "data": {
      "text/plain": [
       "dict"
      ]
     },
     "execution_count": 179,
     "metadata": {},
     "output_type": "execute_result"
    }
   ],
   "source": [
    "type(EMP_DB)"
   ]
  },
  {
   "cell_type": "code",
   "execution_count": 180,
   "id": "1d6a6215",
   "metadata": {},
   "outputs": [
    {
     "data": {
      "text/plain": [
       "{'HR': {'967': 51000, '650': 60000},\n",
       " 'TECH': {'516': 950000, '1001': 750000, '918': 800000},\n",
       " 'SALES': {'887': 45000, '490': 63000}}"
      ]
     },
     "execution_count": 180,
     "metadata": {},
     "output_type": "execute_result"
    }
   ],
   "source": [
    "EMP_DB"
   ]
  },
  {
   "cell_type": "code",
   "execution_count": 182,
   "id": "a86f060c",
   "metadata": {},
   "outputs": [
    {
     "data": {
      "text/plain": [
       "{'967': 51000, '650': 60000}"
      ]
     },
     "execution_count": 182,
     "metadata": {},
     "output_type": "execute_result"
    }
   ],
   "source": [
    "EMP_DB['HR']"
   ]
  },
  {
   "cell_type": "code",
   "execution_count": 183,
   "id": "39f4ddc9",
   "metadata": {},
   "outputs": [
    {
     "data": {
      "text/plain": [
       "60000"
      ]
     },
     "execution_count": 183,
     "metadata": {},
     "output_type": "execute_result"
    }
   ],
   "source": [
    "EMP_DB['HR']['650']"
   ]
  },
  {
   "cell_type": "code",
   "execution_count": 186,
   "id": "1cd175c2",
   "metadata": {},
   "outputs": [
    {
     "data": {
      "text/plain": [
       "{'516': 950000, '1001': 750000, '918': 800000}"
      ]
     },
     "execution_count": 186,
     "metadata": {},
     "output_type": "execute_result"
    }
   ],
   "source": [
    "# all the employees of tech\n",
    "EMP_DB['TECH']"
   ]
  },
  {
   "cell_type": "code",
   "execution_count": 194,
   "id": "1e33a067",
   "metadata": {},
   "outputs": [],
   "source": [
    "tech_salaries = list(EMP_DB['TECH'].values())"
   ]
  },
  {
   "cell_type": "code",
   "execution_count": 191,
   "id": "2e0e99aa",
   "metadata": {},
   "outputs": [],
   "source": [
    "# list(EMP_DB['TECH'].keys())"
   ]
  },
  {
   "cell_type": "code",
   "execution_count": 195,
   "id": "c48ed4b2",
   "metadata": {},
   "outputs": [
    {
     "name": "stdout",
     "output_type": "stream",
     "text": [
      "[950000, 750000, 800000]\n"
     ]
    }
   ],
   "source": [
    "print(tech_salaries)"
   ]
  },
  {
   "cell_type": "code",
   "execution_count": 197,
   "id": "46c9b6e0",
   "metadata": {},
   "outputs": [
    {
     "data": {
      "text/plain": [
       "833333.3333333334"
      ]
     },
     "execution_count": 197,
     "metadata": {},
     "output_type": "execute_result"
    }
   ],
   "source": [
    "sum(tech_salaries) / len(tech_salaries)"
   ]
  },
  {
   "cell_type": "code",
   "execution_count": 202,
   "id": "5c1f90ff",
   "metadata": {},
   "outputs": [
    {
     "data": {
      "text/plain": [
       "63000"
      ]
     },
     "execution_count": 202,
     "metadata": {},
     "output_type": "execute_result"
    }
   ],
   "source": [
    "# highest salary in sales department?\n",
    "max(list(EMP_DB['SALES'].values()))"
   ]
  },
  {
   "cell_type": "code",
   "execution_count": null,
   "id": "805776b7",
   "metadata": {},
   "outputs": [],
   "source": []
  }
 ],
 "metadata": {
  "kernelspec": {
   "display_name": "Python 3",
   "language": "python",
   "name": "python3"
  },
  "language_info": {
   "codemirror_mode": {
    "name": "ipython",
    "version": 3
   },
   "file_extension": ".py",
   "mimetype": "text/x-python",
   "name": "python",
   "nbconvert_exporter": "python",
   "pygments_lexer": "ipython3",
   "version": "3.8.8"
  }
 },
 "nbformat": 4,
 "nbformat_minor": 5
}
