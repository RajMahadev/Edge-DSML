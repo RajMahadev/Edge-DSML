{
 "cells": [
  {
   "cell_type": "markdown",
   "id": "d49fa986",
   "metadata": {},
   "source": [
    "#### Set internals"
   ]
  },
  {
   "cell_type": "code",
   "execution_count": 1,
   "id": "3f1eacca",
   "metadata": {},
   "outputs": [
    {
     "name": "stdout",
     "output_type": "stream",
     "text": [
      "{'cricket', 'MLB', 'NFL', 'football'}\n"
     ]
    }
   ],
   "source": [
    "sample_set = {\"cricket\", \"NFL\", \"MLB\"}\n",
    "sample_set.add(\"football\")\n",
    "sample_set.add(\"NFL\")\n",
    "print(sample_set)"
   ]
  },
  {
   "cell_type": "code",
   "execution_count": 2,
   "id": "bebf61ac",
   "metadata": {},
   "outputs": [
    {
     "data": {
      "text/plain": [
       "-7062764075509077566"
      ]
     },
     "execution_count": 2,
     "metadata": {},
     "output_type": "execute_result"
    }
   ],
   "source": [
    "hash(\"NFL\")"
   ]
  },
  {
   "cell_type": "code",
   "execution_count": 3,
   "id": "18a7149a",
   "metadata": {},
   "outputs": [
    {
     "data": {
      "text/plain": [
       "3101108689053214596"
      ]
     },
     "execution_count": 3,
     "metadata": {},
     "output_type": "execute_result"
    }
   ],
   "source": [
    "hash(\"MBL\")"
   ]
  },
  {
   "cell_type": "code",
   "execution_count": 4,
   "id": "ddb1108d",
   "metadata": {},
   "outputs": [
    {
     "data": {
      "text/plain": [
       "-7062764075509077566"
      ]
     },
     "execution_count": 4,
     "metadata": {},
     "output_type": "execute_result"
    }
   ],
   "source": [
    "hash(\"NFL\")"
   ]
  },
  {
   "cell_type": "code",
   "execution_count": 10,
   "id": "1aa328fc",
   "metadata": {},
   "outputs": [
    {
     "data": {
      "text/plain": [
       "-7890930316961573847"
      ]
     },
     "execution_count": 10,
     "metadata": {},
     "output_type": "execute_result"
    }
   ],
   "source": [
    "hash(\"c\")"
   ]
  },
  {
   "cell_type": "code",
   "execution_count": null,
   "id": "4a3a3c9b",
   "metadata": {},
   "outputs": [],
   "source": []
  },
  {
   "cell_type": "markdown",
   "id": "e0f59d5d",
   "metadata": {},
   "source": [
    "# Functions"
   ]
  },
  {
   "cell_type": "markdown",
   "id": "53e5dd15",
   "metadata": {},
   "source": [
    "    def func_name(params):\n",
    "        \"\"\"doc string\"\"\"\n",
    "        \n",
    "        statements...\n",
    "        "
   ]
  },
  {
   "cell_type": "code",
   "execution_count": 26,
   "id": "414cbba9",
   "metadata": {},
   "outputs": [],
   "source": [
    "def get_tshirt_size(height):\n",
    "    \"\"\" This function converts height(cm) to Tshirt size\n",
    "    params:  height ---> (in cm)\n",
    "    returns: Tshirt size ---> (S, M, L)\n",
    "    \n",
    "    It prints the Tshirt size.\n",
    "    \"\"\"\n",
    "    \n",
    "    if height<=150:\n",
    "        return (\"S\")\n",
    "    elif height>150 and height<=180:\n",
    "        return (\"M\")\n",
    "    else:\n",
    "        return (\"L\")"
   ]
  },
  {
   "cell_type": "code",
   "execution_count": 21,
   "id": "ec6fa144",
   "metadata": {},
   "outputs": [
    {
     "name": "stdout",
     "output_type": "stream",
     "text": [
      "<class 'function'>\n"
     ]
    }
   ],
   "source": [
    "print(type(get_tshirt_size))"
   ]
  },
  {
   "cell_type": "code",
   "execution_count": 22,
   "id": "653e46ae",
   "metadata": {},
   "outputs": [
    {
     "name": "stdout",
     "output_type": "stream",
     "text": [
      " This function converts height(cm) to Tshirt size\n",
      "    params:  height ---> (in cm)\n",
      "    returns: Tshirt size ---> (S, M, L)\n",
      "    \n",
      "    It prints the Tshirt size.\n",
      "    \n"
     ]
    }
   ],
   "source": [
    "print(get_tshirt_size.__doc__)"
   ]
  },
  {
   "cell_type": "code",
   "execution_count": 25,
   "id": "649fb2cd",
   "metadata": {},
   "outputs": [
    {
     "name": "stdout",
     "output_type": "stream",
     "text": [
      "M\n"
     ]
    }
   ],
   "source": [
    "size = get_tshirt_size(175)\n",
    "print(size)"
   ]
  },
  {
   "cell_type": "code",
   "execution_count": null,
   "id": "fa756382",
   "metadata": {},
   "outputs": [],
   "source": []
  },
  {
   "cell_type": "code",
   "execution_count": null,
   "id": "4263b51b",
   "metadata": {},
   "outputs": [],
   "source": []
  },
  {
   "cell_type": "markdown",
   "id": "62b23dac",
   "metadata": {},
   "source": [
    "#### get average height"
   ]
  },
  {
   "cell_type": "code",
   "execution_count": 30,
   "id": "3b42892d",
   "metadata": {},
   "outputs": [],
   "source": [
    "def average_height(heights):\n",
    "    return sum(heights)/len(heights)"
   ]
  },
  {
   "cell_type": "code",
   "execution_count": 31,
   "id": "374bb765",
   "metadata": {},
   "outputs": [],
   "source": [
    "heights = [150, 167, 175, 161, 180, 172, 177]"
   ]
  },
  {
   "cell_type": "code",
   "execution_count": 32,
   "id": "68799ad9",
   "metadata": {},
   "outputs": [
    {
     "data": {
      "text/plain": [
       "168.85714285714286"
      ]
     },
     "execution_count": 32,
     "metadata": {},
     "output_type": "execute_result"
    }
   ],
   "source": [
    "average_height(heights)"
   ]
  },
  {
   "cell_type": "code",
   "execution_count": null,
   "id": "c2b18d02",
   "metadata": {},
   "outputs": [],
   "source": []
  },
  {
   "cell_type": "markdown",
   "id": "183b5630",
   "metadata": {},
   "source": [
    "#### A function can return multiple values"
   ]
  },
  {
   "cell_type": "code",
   "execution_count": 34,
   "id": "b6043fd5",
   "metadata": {},
   "outputs": [],
   "source": [
    "def stats(heights):\n",
    "    \"\"\" \"\"\"\n",
    "    minimum = min(heights)\n",
    "    maximum = max(heights)\n",
    "    mean =  average_height(heights)\n",
    "    \n",
    "    \n",
    "    return minimum, maximum, mean"
   ]
  },
  {
   "cell_type": "code",
   "execution_count": 37,
   "id": "ccaa789b",
   "metadata": {},
   "outputs": [
    {
     "name": "stdout",
     "output_type": "stream",
     "text": [
      "(150, 180, 168.85714285714286)\n"
     ]
    }
   ],
   "source": [
    "props = stats(heights)\n",
    "print(props)"
   ]
  },
  {
   "cell_type": "code",
   "execution_count": 39,
   "id": "9dc311ce",
   "metadata": {},
   "outputs": [
    {
     "data": {
      "text/plain": [
       "(180,)"
      ]
     },
     "execution_count": 39,
     "metadata": {},
     "output_type": "execute_result"
    }
   ],
   "source": [
    "props[1], "
   ]
  },
  {
   "cell_type": "code",
   "execution_count": null,
   "id": "b13b7e2c",
   "metadata": {},
   "outputs": [],
   "source": []
  },
  {
   "cell_type": "markdown",
   "id": "1eee3326",
   "metadata": {},
   "source": [
    "#### Quiz "
   ]
  },
  {
   "cell_type": "code",
   "execution_count": 44,
   "id": "e5152757",
   "metadata": {},
   "outputs": [
    {
     "data": {
      "text/plain": [
       "False"
      ]
     },
     "execution_count": 44,
     "metadata": {},
     "output_type": "execute_result"
    }
   ],
   "source": [
    "min(max(False,-3,-4), 2,7)"
   ]
  },
  {
   "cell_type": "code",
   "execution_count": 49,
   "id": "8bb48a42",
   "metadata": {},
   "outputs": [
    {
     "data": {
      "text/plain": [
       "3"
      ]
     },
     "execution_count": 49,
     "metadata": {},
     "output_type": "execute_result"
    }
   ],
   "source": [
    "sum([True, True, True, False])"
   ]
  },
  {
   "cell_type": "markdown",
   "id": "4d5bd41f",
   "metadata": {},
   "source": [
    "#### Lambda Functions"
   ]
  },
  {
   "cell_type": "code",
   "execution_count": 60,
   "id": "dfba7eeb",
   "metadata": {},
   "outputs": [
    {
     "data": {
      "text/plain": [
       "<function __main__.<lambda>(a, b)>"
      ]
     },
     "execution_count": 60,
     "metadata": {},
     "output_type": "execute_result"
    }
   ],
   "source": [
    "(lambda a,b : a+b)"
   ]
  },
  {
   "cell_type": "code",
   "execution_count": 61,
   "id": "5cadd106",
   "metadata": {},
   "outputs": [
    {
     "data": {
      "text/plain": [
       "5"
      ]
     },
     "execution_count": 61,
     "metadata": {},
     "output_type": "execute_result"
    }
   ],
   "source": [
    "(lambda a,b : a+b)(1,4)"
   ]
  },
  {
   "cell_type": "code",
   "execution_count": 62,
   "id": "3dc2af38",
   "metadata": {},
   "outputs": [],
   "source": [
    "add = (lambda a,b : a+b)"
   ]
  },
  {
   "cell_type": "code",
   "execution_count": 64,
   "id": "a7cb086f",
   "metadata": {},
   "outputs": [
    {
     "data": {
      "text/plain": [
       "9"
      ]
     },
     "execution_count": 64,
     "metadata": {},
     "output_type": "execute_result"
    }
   ],
   "source": [
    "add(4,5)"
   ]
  },
  {
   "cell_type": "code",
   "execution_count": 66,
   "id": "98c58728",
   "metadata": {},
   "outputs": [
    {
     "data": {
      "text/plain": [
       "4.47213595499958"
      ]
     },
     "execution_count": 66,
     "metadata": {},
     "output_type": "execute_result"
    }
   ],
   "source": [
    "(lambda x: x**0.5)(20)"
   ]
  },
  {
   "cell_type": "markdown",
   "id": "5ed792e0",
   "metadata": {},
   "source": [
    "**Task:**\n",
    "\n",
    "1. Sort with emp_id\n",
    "2. Sort with emp_sal"
   ]
  },
  {
   "cell_type": "code",
   "execution_count": 67,
   "id": "53ef7b18",
   "metadata": {},
   "outputs": [],
   "source": [
    "EMP_SAL = {\n",
    "    '1101' : 40000,\n",
    "    '967'  : 51000,\n",
    "    '413'  : 87000,\n",
    "    '650'  : 60000\n",
    "}"
   ]
  },
  {
   "cell_type": "code",
   "execution_count": 69,
   "id": "1c44a177",
   "metadata": {},
   "outputs": [
    {
     "data": {
      "text/plain": [
       "{'1101': 40000, '967': 51000, '413': 87000, '650': 60000}"
      ]
     },
     "execution_count": 69,
     "metadata": {},
     "output_type": "execute_result"
    }
   ],
   "source": [
    "EMP_SAL"
   ]
  },
  {
   "cell_type": "code",
   "execution_count": 132,
   "id": "e04cc221",
   "metadata": {},
   "outputs": [
    {
     "data": {
      "text/plain": [
       "True"
      ]
     },
     "execution_count": 132,
     "metadata": {},
     "output_type": "execute_result"
    }
   ],
   "source": [
    "40000 in EMP_SAL.values()"
   ]
  },
  {
   "cell_type": "code",
   "execution_count": 73,
   "id": "5d8ca4a2",
   "metadata": {},
   "outputs": [
    {
     "data": {
      "text/plain": [
       "[('1101', 40000), ('967', 51000), ('413', 87000), ('650', 60000)]"
      ]
     },
     "execution_count": 73,
     "metadata": {},
     "output_type": "execute_result"
    }
   ],
   "source": [
    "list(EMP_SAL.items())"
   ]
  },
  {
   "cell_type": "code",
   "execution_count": 74,
   "id": "e1b1ad57",
   "metadata": {},
   "outputs": [
    {
     "data": {
      "text/plain": [
       "[('1101', 40000), ('413', 87000), ('650', 60000), ('967', 51000)]"
      ]
     },
     "execution_count": 74,
     "metadata": {},
     "output_type": "execute_result"
    }
   ],
   "source": [
    "sorted(EMP_SAL.items())"
   ]
  },
  {
   "cell_type": "code",
   "execution_count": 77,
   "id": "9c318db9",
   "metadata": {},
   "outputs": [],
   "source": [
    "def custom_comp(itm):\n",
    "    return int(itm[0])"
   ]
  },
  {
   "cell_type": "code",
   "execution_count": 78,
   "id": "ff992e75",
   "metadata": {},
   "outputs": [
    {
     "data": {
      "text/plain": [
       "[('413', 87000), ('650', 60000), ('967', 51000), ('1101', 40000)]"
      ]
     },
     "execution_count": 78,
     "metadata": {},
     "output_type": "execute_result"
    }
   ],
   "source": [
    "sorted(EMP_SAL.items(), key = custom_comp )"
   ]
  },
  {
   "cell_type": "code",
   "execution_count": 79,
   "id": "d030807a",
   "metadata": {},
   "outputs": [
    {
     "data": {
      "text/plain": [
       "[('413', 87000), ('650', 60000), ('967', 51000), ('1101', 40000)]"
      ]
     },
     "execution_count": 79,
     "metadata": {},
     "output_type": "execute_result"
    }
   ],
   "source": [
    "sorted(EMP_SAL.items(), key = lambda itm : int(itm[0]) )"
   ]
  },
  {
   "cell_type": "code",
   "execution_count": 80,
   "id": "3aed7762",
   "metadata": {},
   "outputs": [
    {
     "data": {
      "text/plain": [
       "[('1101', 40000), ('967', 51000), ('650', 60000), ('413', 87000)]"
      ]
     },
     "execution_count": 80,
     "metadata": {},
     "output_type": "execute_result"
    }
   ],
   "source": [
    "sorted(EMP_SAL.items(), key = lambda itm : itm[1] )"
   ]
  },
  {
   "cell_type": "code",
   "execution_count": null,
   "id": "76ebb566",
   "metadata": {},
   "outputs": [],
   "source": []
  },
  {
   "cell_type": "code",
   "execution_count": null,
   "id": "25cae624",
   "metadata": {},
   "outputs": [],
   "source": []
  },
  {
   "cell_type": "markdown",
   "id": "44289a38",
   "metadata": {},
   "source": [
    "## Arguments Vs. Parameters\n",
    "- positional arguments\n",
    "- default arguments\n",
    "- arbitary arguments (args)\n",
    "- keyword arguments (kwargs)"
   ]
  },
  {
   "cell_type": "code",
   "execution_count": 81,
   "id": "534163ac",
   "metadata": {},
   "outputs": [],
   "source": [
    "def add(a, b):\n",
    "    return a +b"
   ]
  },
  {
   "cell_type": "code",
   "execution_count": 85,
   "id": "eeacfdd6",
   "metadata": {},
   "outputs": [
    {
     "data": {
      "text/plain": [
       "9"
      ]
     },
     "execution_count": 85,
     "metadata": {},
     "output_type": "execute_result"
    }
   ],
   "source": [
    "add(5, 4)"
   ]
  },
  {
   "cell_type": "code",
   "execution_count": 86,
   "id": "a4a8742d",
   "metadata": {},
   "outputs": [
    {
     "ename": "TypeError",
     "evalue": "add() missing 1 required positional argument: 'b'",
     "output_type": "error",
     "traceback": [
      "\u001b[0;31m---------------------------------------------------------------------------\u001b[0m",
      "\u001b[0;31mTypeError\u001b[0m                                 Traceback (most recent call last)",
      "\u001b[0;32m<ipython-input-86-e1d21b2822df>\u001b[0m in \u001b[0;36m<module>\u001b[0;34m\u001b[0m\n\u001b[0;32m----> 1\u001b[0;31m \u001b[0madd\u001b[0m\u001b[0;34m(\u001b[0m\u001b[0;36m5\u001b[0m\u001b[0;34m)\u001b[0m\u001b[0;34m\u001b[0m\u001b[0;34m\u001b[0m\u001b[0m\n\u001b[0m",
      "\u001b[0;31mTypeError\u001b[0m: add() missing 1 required positional argument: 'b'"
     ]
    }
   ],
   "source": [
    "add(5)"
   ]
  },
  {
   "cell_type": "code",
   "execution_count": 91,
   "id": "baac6099",
   "metadata": {},
   "outputs": [],
   "source": [
    "def add_modified(a, b=0):\n",
    "    return a +b"
   ]
  },
  {
   "cell_type": "code",
   "execution_count": 88,
   "id": "cad6506e",
   "metadata": {},
   "outputs": [
    {
     "data": {
      "text/plain": [
       "5"
      ]
     },
     "execution_count": 88,
     "metadata": {},
     "output_type": "execute_result"
    }
   ],
   "source": [
    "add_modified(5)"
   ]
  },
  {
   "cell_type": "code",
   "execution_count": 89,
   "id": "cc96214f",
   "metadata": {},
   "outputs": [
    {
     "data": {
      "text/plain": [
       "8"
      ]
     },
     "execution_count": 89,
     "metadata": {},
     "output_type": "execute_result"
    }
   ],
   "source": [
    "add_modified(5, 3)"
   ]
  },
  {
   "cell_type": "code",
   "execution_count": 99,
   "id": "0724c651",
   "metadata": {},
   "outputs": [],
   "source": [
    "def demo(*args):\n",
    "    print(args)\n",
    "    print(type(args))\n",
    "    \n",
    "    for ele in args:\n",
    "        print(ele*2)"
   ]
  },
  {
   "cell_type": "code",
   "execution_count": 101,
   "id": "d4036842",
   "metadata": {},
   "outputs": [
    {
     "name": "stdout",
     "output_type": "stream",
     "text": [
      "(3.1, 'Hello', 2, 6)\n",
      "<class 'tuple'>\n",
      "6.2\n",
      "HelloHello\n",
      "4\n",
      "12\n"
     ]
    }
   ],
   "source": [
    "demo(3.1,\"Hello\", 2,6)"
   ]
  },
  {
   "cell_type": "code",
   "execution_count": 113,
   "id": "892c7e87",
   "metadata": {},
   "outputs": [],
   "source": [
    "def sum_all(*args):\n",
    "    s = 0\n",
    "    for ele in args:\n",
    "        s += ele\n",
    "    return s"
   ]
  },
  {
   "cell_type": "code",
   "execution_count": 114,
   "id": "3381a3ad",
   "metadata": {},
   "outputs": [
    {
     "data": {
      "text/plain": [
       "25"
      ]
     },
     "execution_count": 114,
     "metadata": {},
     "output_type": "execute_result"
    }
   ],
   "source": [
    "sum_all(4,5,6,10)"
   ]
  },
  {
   "cell_type": "code",
   "execution_count": 117,
   "id": "ee1e39f5",
   "metadata": {},
   "outputs": [],
   "source": [
    "def introduction(**kwargs):\n",
    "    print(kwargs)"
   ]
  },
  {
   "cell_type": "code",
   "execution_count": 118,
   "id": "691dc84d",
   "metadata": {},
   "outputs": [
    {
     "name": "stdout",
     "output_type": "stream",
     "text": [
      "{'name': 'John', 'age': 37, 'hobby': ['playing', 'sleeping']}\n"
     ]
    }
   ],
   "source": [
    "introduction(name= \"John\", age= 37, hobby = ['playing', 'sleeping'] )"
   ]
  },
  {
   "cell_type": "code",
   "execution_count": 120,
   "id": "ab4c8d57",
   "metadata": {},
   "outputs": [],
   "source": [
    "# positional, default, args, kwargs\n",
    "\n",
    "# def random(x,y,z=6, *args, **kwargs):\n",
    "#     print()\n",
    "\n",
    "\n",
    "# random(5,3,8,10, 56, a = 4, b = 7, 100)"
   ]
  },
  {
   "cell_type": "code",
   "execution_count": null,
   "id": "e6816398",
   "metadata": {},
   "outputs": [],
   "source": []
  },
  {
   "cell_type": "code",
   "execution_count": 123,
   "id": "8e2ea5eb",
   "metadata": {},
   "outputs": [
    {
     "name": "stdout",
     "output_type": "stream",
     "text": [
      "10\n",
      "101\n",
      "10\n"
     ]
    }
   ],
   "source": [
    "x = 10\n",
    "\n",
    "def random(x):\n",
    "    x = x+1\n",
    "    print(x)\n",
    "\n",
    "print(x)\n",
    "random(100)\n",
    "print(x)"
   ]
  },
  {
   "cell_type": "code",
   "execution_count": 126,
   "id": "cdd1b8d8",
   "metadata": {},
   "outputs": [
    {
     "name": "stdout",
     "output_type": "stream",
     "text": [
      "10\n",
      "11\n",
      "11\n"
     ]
    }
   ],
   "source": [
    "x = 10\n",
    "\n",
    "def random():\n",
    "    global x\n",
    "    x = x+1\n",
    "    print(x)\n",
    "\n",
    "print(x)\n",
    "random()\n",
    "print(x)"
   ]
  },
  {
   "cell_type": "code",
   "execution_count": null,
   "id": "08b0520b",
   "metadata": {},
   "outputs": [],
   "source": []
  },
  {
   "cell_type": "markdown",
   "id": "601cf248",
   "metadata": {},
   "source": [
    "### Map, Filter, reduce"
   ]
  },
  {
   "cell_type": "code",
   "execution_count": 133,
   "id": "0744f817",
   "metadata": {},
   "outputs": [],
   "source": [
    "def get_tshirt_size(heights):\n",
    "    \"\"\" This function converts height(cm) to Tshirt size\n",
    "    params:  height ---> ( int: in cm)\n",
    "    returns: Tshirt size ---> (S, M, L)\n",
    "    \n",
    "    It prints the Tshirt size.\n",
    "    \"\"\"\n",
    "    \n",
    "    if height<=150:\n",
    "        return (\"S\")\n",
    "    elif height>150 and height<=180:\n",
    "        return (\"M\")\n",
    "    else:\n",
    "        return (\"L\")"
   ]
  },
  {
   "cell_type": "code",
   "execution_count": 134,
   "id": "c4b585f2",
   "metadata": {},
   "outputs": [
    {
     "data": {
      "text/plain": [
       "[150, 167, 175, 161, 180, 172, 177]"
      ]
     },
     "execution_count": 134,
     "metadata": {},
     "output_type": "execute_result"
    }
   ],
   "source": [
    "heights"
   ]
  },
  {
   "cell_type": "code",
   "execution_count": 136,
   "id": "18513a6e",
   "metadata": {},
   "outputs": [],
   "source": [
    "# get_tshirt_size(heights)"
   ]
  },
  {
   "cell_type": "code",
   "execution_count": 142,
   "id": "d30cf8b5",
   "metadata": {},
   "outputs": [
    {
     "data": {
      "text/plain": [
       "<map at 0x7fd45143fbb0>"
      ]
     },
     "execution_count": 142,
     "metadata": {},
     "output_type": "execute_result"
    }
   ],
   "source": [
    "map_obj = map(get_tshirt_size, heights)\n",
    "map_obj"
   ]
  },
  {
   "cell_type": "code",
   "execution_count": 143,
   "id": "5a4b1368",
   "metadata": {},
   "outputs": [
    {
     "name": "stdout",
     "output_type": "stream",
     "text": [
      "['S', 'M', 'M', 'M', 'M', 'M', 'M']\n"
     ]
    }
   ],
   "source": [
    "Tshirt_sizes = list(map_obj)\n",
    "print(Tshirt_sizes)"
   ]
  },
  {
   "cell_type": "code",
   "execution_count": null,
   "id": "590a86ee",
   "metadata": {},
   "outputs": [],
   "source": []
  },
  {
   "cell_type": "code",
   "execution_count": 153,
   "id": "eff56e6c",
   "metadata": {},
   "outputs": [
    {
     "name": "stdout",
     "output_type": "stream",
     "text": [
      "<filter object at 0x7fd451839c40>\n"
     ]
    }
   ],
   "source": [
    "filter_obj = filter(lambda x : x == 'M', Tshirt_sizes )\n",
    "print(filter_obj)"
   ]
  },
  {
   "cell_type": "code",
   "execution_count": 154,
   "id": "87c56819",
   "metadata": {},
   "outputs": [
    {
     "name": "stdout",
     "output_type": "stream",
     "text": [
      "['M', 'M', 'M', 'M', 'M', 'M']\n"
     ]
    }
   ],
   "source": [
    "medium_tshirts = list(filter_obj)\n",
    "print(medium_tshirts)"
   ]
  },
  {
   "cell_type": "code",
   "execution_count": null,
   "id": "83bc0a33",
   "metadata": {},
   "outputs": [],
   "source": []
  },
  {
   "cell_type": "code",
   "execution_count": 155,
   "id": "6ffee9bf",
   "metadata": {},
   "outputs": [],
   "source": [
    "from functools import reduce"
   ]
  },
  {
   "cell_type": "code",
   "execution_count": 156,
   "id": "151fe199",
   "metadata": {},
   "outputs": [],
   "source": [
    "numbers = [1,2,3,4,5]"
   ]
  },
  {
   "cell_type": "code",
   "execution_count": 158,
   "id": "8df48a41",
   "metadata": {},
   "outputs": [
    {
     "data": {
      "text/plain": [
       "15"
      ]
     },
     "execution_count": 158,
     "metadata": {},
     "output_type": "execute_result"
    }
   ],
   "source": [
    "reduce( lambda x,y : x+y , numbers )"
   ]
  },
  {
   "cell_type": "code",
   "execution_count": null,
   "id": "b28c3590",
   "metadata": {},
   "outputs": [],
   "source": []
  },
  {
   "cell_type": "code",
   "execution_count": null,
   "id": "3939655a",
   "metadata": {},
   "outputs": [],
   "source": []
  }
 ],
 "metadata": {
  "kernelspec": {
   "display_name": "Python 3",
   "language": "python",
   "name": "python3"
  },
  "language_info": {
   "codemirror_mode": {
    "name": "ipython",
    "version": 3
   },
   "file_extension": ".py",
   "mimetype": "text/x-python",
   "name": "python",
   "nbconvert_exporter": "python",
   "pygments_lexer": "ipython3",
   "version": "3.8.8"
  }
 },
 "nbformat": 4,
 "nbformat_minor": 5
}
