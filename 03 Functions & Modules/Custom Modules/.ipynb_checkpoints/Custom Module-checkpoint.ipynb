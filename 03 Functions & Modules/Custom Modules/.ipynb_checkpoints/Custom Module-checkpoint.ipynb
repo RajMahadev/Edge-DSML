{
 "cells": [
  {
   "cell_type": "code",
   "execution_count": 1,
   "id": "00074553",
   "metadata": {},
   "outputs": [
    {
     "name": "stdout",
     "output_type": "stream",
     "text": [
      "My name is: model\n"
     ]
    }
   ],
   "source": [
    "import model"
   ]
  },
  {
   "cell_type": "code",
   "execution_count": 2,
   "id": "67a94e8b",
   "metadata": {},
   "outputs": [
    {
     "data": {
      "text/plain": [
       "'Good morning Mohit'"
      ]
     },
     "execution_count": 2,
     "metadata": {},
     "output_type": "execute_result"
    }
   ],
   "source": [
    "model.greeter(\"Mohit\")"
   ]
  },
  {
   "cell_type": "code",
   "execution_count": 2,
   "id": "a1fce72c",
   "metadata": {},
   "outputs": [
    {
     "name": "stdout",
     "output_type": "stream",
     "text": [
      "__main__\n"
     ]
    }
   ],
   "source": [
    "print(__name__)"
   ]
  },
  {
   "cell_type": "code",
   "execution_count": 9,
   "id": "a2443447",
   "metadata": {},
   "outputs": [],
   "source": []
  },
  {
   "cell_type": "markdown",
   "id": "d6730c70",
   "metadata": {},
   "source": [
    "# Packages"
   ]
  },
  {
   "cell_type": "markdown",
   "id": "5c2e1b28",
   "metadata": {},
   "source": [
    "<img src=\"https://cdn.programiz.com/sites/tutorial2program/files/PackageModuleStructure.jpg\">"
   ]
  },
  {
   "cell_type": "code",
   "execution_count": 2,
   "id": "274eca27",
   "metadata": {},
   "outputs": [],
   "source": [
    "# import Game"
   ]
  },
  {
   "cell_type": "code",
   "execution_count": 4,
   "id": "87b22d4d",
   "metadata": {},
   "outputs": [],
   "source": [
    "# from Game import Sound"
   ]
  },
  {
   "cell_type": "code",
   "execution_count": 6,
   "id": "919274ec",
   "metadata": {},
   "outputs": [],
   "source": [
    "# from Game.Image import change"
   ]
  },
  {
   "cell_type": "code",
   "execution_count": 8,
   "id": "b6686143",
   "metadata": {},
   "outputs": [],
   "source": [
    "# import Game.Image.change"
   ]
  },
  {
   "cell_type": "code",
   "execution_count": null,
   "id": "b7640a1e",
   "metadata": {},
   "outputs": [],
   "source": []
  },
  {
   "cell_type": "code",
   "execution_count": 10,
   "id": "a9aff473",
   "metadata": {},
   "outputs": [],
   "source": [
    "import sys"
   ]
  },
  {
   "cell_type": "code",
   "execution_count": 11,
   "id": "fa0a933d",
   "metadata": {},
   "outputs": [
    {
     "data": {
      "text/plain": [
       "['/Users/mohit/Desktop/Edge_DSML/03 Functions & Modules/Custom Modules',\n",
       " '/Users/mohit/opt/anaconda3/lib/python38.zip',\n",
       " '/Users/mohit/opt/anaconda3/lib/python3.8',\n",
       " '/Users/mohit/opt/anaconda3/lib/python3.8/lib-dynload',\n",
       " '',\n",
       " '/Users/mohit/opt/anaconda3/lib/python3.8/site-packages',\n",
       " '/Users/mohit/opt/anaconda3/lib/python3.8/site-packages/aeosa',\n",
       " '/Users/mohit/opt/anaconda3/lib/python3.8/site-packages/locket-0.2.1-py3.8.egg',\n",
       " '/Users/mohit/opt/anaconda3/lib/python3.8/site-packages/IPython/extensions',\n",
       " '/Users/mohit/.ipython']"
      ]
     },
     "execution_count": 11,
     "metadata": {},
     "output_type": "execute_result"
    }
   ],
   "source": [
    "sys.path"
   ]
  },
  {
   "cell_type": "code",
   "execution_count": null,
   "id": "8199ba20",
   "metadata": {},
   "outputs": [],
   "source": []
  }
 ],
 "metadata": {
  "kernelspec": {
   "display_name": "Python 3",
   "language": "python",
   "name": "python3"
  },
  "language_info": {
   "codemirror_mode": {
    "name": "ipython",
    "version": 3
   },
   "file_extension": ".py",
   "mimetype": "text/x-python",
   "name": "python",
   "nbconvert_exporter": "python",
   "pygments_lexer": "ipython3",
   "version": "3.8.8"
  }
 },
 "nbformat": 4,
 "nbformat_minor": 5
}
