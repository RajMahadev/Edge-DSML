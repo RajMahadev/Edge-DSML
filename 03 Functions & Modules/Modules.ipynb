{
 "cells": [
  {
   "cell_type": "markdown",
   "id": "aa42c81b",
   "metadata": {},
   "source": [
    "#### Inbuilt Modules\n",
    "- os\n",
    "- sys\n",
    "- random\n",
    "- math"
   ]
  },
  {
   "cell_type": "code",
   "execution_count": 1,
   "id": "4d37f889",
   "metadata": {},
   "outputs": [],
   "source": [
    "import math"
   ]
  },
  {
   "cell_type": "code",
   "execution_count": 4,
   "id": "d8211ff9",
   "metadata": {},
   "outputs": [
    {
     "data": {
      "text/plain": [
       "5.0"
      ]
     },
     "execution_count": 4,
     "metadata": {},
     "output_type": "execute_result"
    }
   ],
   "source": [
    "math.sqrt(25)"
   ]
  },
  {
   "cell_type": "code",
   "execution_count": 6,
   "id": "2e358dc2",
   "metadata": {},
   "outputs": [
    {
     "data": {
      "text/plain": [
       "3.141592653589793"
      ]
     },
     "execution_count": 6,
     "metadata": {},
     "output_type": "execute_result"
    }
   ],
   "source": [
    "math.pi"
   ]
  },
  {
   "cell_type": "code",
   "execution_count": 7,
   "id": "32439219",
   "metadata": {},
   "outputs": [
    {
     "data": {
      "text/plain": [
       "120"
      ]
     },
     "execution_count": 7,
     "metadata": {},
     "output_type": "execute_result"
    }
   ],
   "source": [
    "math.factorial(5)"
   ]
  },
  {
   "cell_type": "code",
   "execution_count": 9,
   "id": "02f7b3bc",
   "metadata": {},
   "outputs": [
    {
     "data": {
      "text/plain": [
       "8.0"
      ]
     },
     "execution_count": 9,
     "metadata": {},
     "output_type": "execute_result"
    }
   ],
   "source": [
    "math.pow(2, 3)"
   ]
  },
  {
   "cell_type": "code",
   "execution_count": 10,
   "id": "7220dd41",
   "metadata": {},
   "outputs": [],
   "source": [
    "import random"
   ]
  },
  {
   "cell_type": "code",
   "execution_count": 17,
   "id": "c46dc14a",
   "metadata": {},
   "outputs": [
    {
     "name": "stdout",
     "output_type": "stream",
     "text": [
      "3\n",
      "5\n",
      "5\n",
      "6\n",
      "2\n",
      "4\n",
      "1\n",
      "5\n",
      "5\n",
      "7\n"
     ]
    }
   ],
   "source": [
    "# die simulation\n",
    "for i in range(10):\n",
    "    ele = random.randint(1, 7)\n",
    "    print(ele)"
   ]
  },
  {
   "cell_type": "code",
   "execution_count": 22,
   "id": "601c313b",
   "metadata": {},
   "outputs": [
    {
     "data": {
      "text/plain": [
       "'chem'"
      ]
     },
     "execution_count": 22,
     "metadata": {},
     "output_type": "execute_result"
    }
   ],
   "source": [
    "random.choice([\"phy\", \"chem\", \"maths\"])"
   ]
  },
  {
   "cell_type": "code",
   "execution_count": 23,
   "id": "4d61e57b",
   "metadata": {},
   "outputs": [],
   "source": [
    "import os"
   ]
  },
  {
   "cell_type": "code",
   "execution_count": 24,
   "id": "0c1c08b3",
   "metadata": {},
   "outputs": [
    {
     "data": {
      "text/plain": [
       "'/Users/mohit/Desktop/Edge_DSML/03 Functions & Modules'"
      ]
     },
     "execution_count": 24,
     "metadata": {},
     "output_type": "execute_result"
    }
   ],
   "source": [
    "os.getcwd()"
   ]
  },
  {
   "cell_type": "code",
   "execution_count": 25,
   "id": "566df0f9",
   "metadata": {},
   "outputs": [],
   "source": [
    "os.mkdir(\"random\")"
   ]
  },
  {
   "cell_type": "code",
   "execution_count": 26,
   "id": "fbc090a1",
   "metadata": {},
   "outputs": [
    {
     "data": {
      "text/plain": [
       "['Modules.ipynb', 'Functions.ipynb', '.ipynb_checkpoints', 'random']"
      ]
     },
     "execution_count": 26,
     "metadata": {},
     "output_type": "execute_result"
    }
   ],
   "source": [
    "# v.imp  \n",
    "os.listdir()"
   ]
  },
  {
   "cell_type": "code",
   "execution_count": 27,
   "id": "50ff646a",
   "metadata": {},
   "outputs": [
    {
     "data": {
      "text/plain": [
       "[]"
      ]
     },
     "execution_count": 27,
     "metadata": {},
     "output_type": "execute_result"
    }
   ],
   "source": [
    "os.listdir(\"random\")"
   ]
  },
  {
   "cell_type": "code",
   "execution_count": 28,
   "id": "c3ce842b",
   "metadata": {},
   "outputs": [],
   "source": [
    "import sys"
   ]
  },
  {
   "cell_type": "code",
   "execution_count": 29,
   "id": "7e8c8914",
   "metadata": {},
   "outputs": [
    {
     "data": {
      "text/plain": [
       "['/Users/mohit/Desktop/Edge_DSML/03 Functions & Modules',\n",
       " '/Users/mohit/opt/anaconda3/lib/python38.zip',\n",
       " '/Users/mohit/opt/anaconda3/lib/python3.8',\n",
       " '/Users/mohit/opt/anaconda3/lib/python3.8/lib-dynload',\n",
       " '',\n",
       " '/Users/mohit/opt/anaconda3/lib/python3.8/site-packages',\n",
       " '/Users/mohit/opt/anaconda3/lib/python3.8/site-packages/aeosa',\n",
       " '/Users/mohit/opt/anaconda3/lib/python3.8/site-packages/locket-0.2.1-py3.8.egg',\n",
       " '/Users/mohit/opt/anaconda3/lib/python3.8/site-packages/IPython/extensions',\n",
       " '/Users/mohit/.ipython']"
      ]
     },
     "execution_count": 29,
     "metadata": {},
     "output_type": "execute_result"
    }
   ],
   "source": [
    "sys.path"
   ]
  },
  {
   "cell_type": "code",
   "execution_count": null,
   "id": "b5147df6",
   "metadata": {},
   "outputs": [],
   "source": []
  },
  {
   "cell_type": "code",
   "execution_count": null,
   "id": "468a591f",
   "metadata": {},
   "outputs": [],
   "source": []
  }
 ],
 "metadata": {
  "kernelspec": {
   "display_name": "Python 3",
   "language": "python",
   "name": "python3"
  },
  "language_info": {
   "codemirror_mode": {
    "name": "ipython",
    "version": 3
   },
   "file_extension": ".py",
   "mimetype": "text/x-python",
   "name": "python",
   "nbconvert_exporter": "python",
   "pygments_lexer": "ipython3",
   "version": "3.8.8"
  }
 },
 "nbformat": 4,
 "nbformat_minor": 5
}
